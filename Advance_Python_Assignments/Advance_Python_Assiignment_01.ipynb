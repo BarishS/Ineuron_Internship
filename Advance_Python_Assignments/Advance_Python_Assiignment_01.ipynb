{
 "cells": [
  {
   "cell_type": "markdown",
   "id": "d2abe811",
   "metadata": {},
   "source": [
    "### 1. What is the purpose of Python's OOP?\n",
    "#### Sol:"
   ]
  },
  {
   "cell_type": "markdown",
   "id": "3db48f32",
   "metadata": {},
   "source": [
    "The code can be used multiple times just by creating object."
   ]
  },
  {
   "cell_type": "markdown",
   "id": "4098533d",
   "metadata": {},
   "source": [
    "-----\n",
    "### 2. Where does an inheritance search look for an attribute?\n",
    "#### Sol:\n"
   ]
  },
  {
   "cell_type": "markdown",
   "id": "41e9757b",
   "metadata": {},
   "source": [
    "The inheritance search happens in bottom up function. It starts from object. attr and search all the way upto the parent class to find the first occurance of the attribute."
   ]
  },
  {
   "cell_type": "markdown",
   "id": "294c45fb",
   "metadata": {},
   "source": [
    "-----\n",
    "### 3. How do you distinguish between a class object and an instance object?\n",
    "#### Sol:"
   ]
  },
  {
   "cell_type": "code",
   "execution_count": 7,
   "id": "b6c0ceff",
   "metadata": {},
   "outputs": [],
   "source": [
    "class test:\n",
    "    a = 5\n",
    "    def __init__(self,b):\n",
    "        self.b = b"
   ]
  },
  {
   "cell_type": "code",
   "execution_count": 8,
   "id": "85b1e2e2",
   "metadata": {},
   "outputs": [
    {
     "data": {
      "text/plain": [
       "5"
      ]
     },
     "execution_count": 8,
     "metadata": {},
     "output_type": "execute_result"
    }
   ],
   "source": [
    "# Class object\n",
    "test.a"
   ]
  },
  {
   "cell_type": "code",
   "execution_count": 9,
   "id": "2602fd01",
   "metadata": {},
   "outputs": [
    {
     "data": {
      "text/plain": [
       "10"
      ]
     },
     "execution_count": 9,
     "metadata": {},
     "output_type": "execute_result"
    }
   ],
   "source": [
    "# Insatance Object\n",
    "obj = test(10)\n",
    "obj.b"
   ]
  },
  {
   "cell_type": "markdown",
   "id": "38b80229",
   "metadata": {},
   "source": [
    "----\n",
    "### 4. What makes the first argument in a class’s method function special?\n",
    "#### Sol:"
   ]
  },
  {
   "cell_type": "markdown",
   "id": "7798ce55",
   "metadata": {},
   "source": [
    "A pointer (Self) makes the class's method function special."
   ]
  },
  {
   "cell_type": "markdown",
   "id": "d942f4df",
   "metadata": {},
   "source": [
    "----\n",
    "### 5. What is the purpose of the __init__ method?\n",
    "#### Sol:"
   ]
  },
  {
   "cell_type": "markdown",
   "id": "10c71cd2",
   "metadata": {},
   "source": [
    "__init__ represents construtor in python, it initializes the state of the project."
   ]
  },
  {
   "cell_type": "markdown",
   "id": "65f41bd1",
   "metadata": {},
   "source": [
    "----\n",
    "### 6. What is the process for creating a class instance?\n",
    "#### Sol:"
   ]
  },
  {
   "cell_type": "markdown",
   "id": "fe855675",
   "metadata": {},
   "source": [
    "name_of _instance = class_name(argument)"
   ]
  },
  {
   "cell_type": "markdown",
   "id": "9fe61117",
   "metadata": {},
   "source": [
    "----\n",
    "### 7. What is the process for creating a class?\n",
    "#### Sol:"
   ]
  },
  {
   "cell_type": "code",
   "execution_count": 30,
   "id": "e6e36536",
   "metadata": {},
   "outputs": [],
   "source": [
    "class test1:\n",
    "    def __init__(self,a,b):\n",
    "        self.a =a\n",
    "        self.b =b\n",
    "        \n",
    "        addition = a+b\n",
    "        print(f'addition :{addition}')"
   ]
  },
  {
   "cell_type": "code",
   "execution_count": 31,
   "id": "3cbb1593",
   "metadata": {},
   "outputs": [
    {
     "name": "stdout",
     "output_type": "stream",
     "text": [
      "addition :30\n"
     ]
    }
   ],
   "source": [
    "result=test1(10,20)"
   ]
  },
  {
   "cell_type": "markdown",
   "id": "ed7aa667",
   "metadata": {},
   "source": [
    "----\n",
    "### 8. How would you define the superclasses of a class?\n",
    "#### Sol:"
   ]
  },
  {
   "cell_type": "code",
   "execution_count": 32,
   "id": "e2a4b4fe",
   "metadata": {},
   "outputs": [
    {
     "name": "stdout",
     "output_type": "stream",
     "text": [
      "ABCD\n",
      "ABCDE\n",
      "ABCDEF\n"
     ]
    }
   ],
   "source": [
    "class test2:\n",
    "    def __init__(self):\n",
    "        print(\"ABCD\")\n",
    "class test3(test2):\n",
    "    def __init__(self):\n",
    "        super().__init__()\n",
    "        print(\"ABCDE\")\n",
    "class test4(test3):\n",
    "    def __init__(self):\n",
    "        super().__init__()\n",
    "        print(\"ABCDEF\")\n",
    "        \n",
    "obj = test4()\n",
    "        "
   ]
  },
  {
   "cell_type": "code",
   "execution_count": null,
   "id": "4503d40f",
   "metadata": {},
   "outputs": [],
   "source": []
  }
 ],
 "metadata": {
  "kernelspec": {
   "display_name": "Python 3 (ipykernel)",
   "language": "python",
   "name": "python3"
  },
  "language_info": {
   "codemirror_mode": {
    "name": "ipython",
    "version": 3
   },
   "file_extension": ".py",
   "mimetype": "text/x-python",
   "name": "python",
   "nbconvert_exporter": "python",
   "pygments_lexer": "ipython3",
   "version": "3.9.7"
  }
 },
 "nbformat": 4,
 "nbformat_minor": 5
}
