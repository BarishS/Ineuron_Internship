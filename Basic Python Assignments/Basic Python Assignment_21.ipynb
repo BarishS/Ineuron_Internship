{
 "cells": [
  {
   "cell_type": "markdown",
   "id": "494709de",
   "metadata": {},
   "source": [
    "### 1. Add the current date to the text file today.txt as a string."
   ]
  },
  {
   "cell_type": "code",
   "execution_count": 1,
   "id": "a9fa5e98",
   "metadata": {},
   "outputs": [
    {
     "name": "stdout",
     "output_type": "stream",
     "text": [
      "2022-06-01\n"
     ]
    }
   ],
   "source": [
    "from datetime import date\n",
    "\n",
    "with open('today.txt', 'w') as txt:\n",
    "    txt.write(date.today().isoformat())\n",
    "print(date.today().isoformat())"
   ]
  },
  {
   "cell_type": "markdown",
   "id": "398f3477",
   "metadata": {},
   "source": [
    "### 2. Read the text file today.txt into the string today_string"
   ]
  },
  {
   "cell_type": "code",
   "execution_count": 2,
   "id": "f7cfe178",
   "metadata": {},
   "outputs": [
    {
     "name": "stdout",
     "output_type": "stream",
     "text": [
      "Reading text: 2022-06-01\n"
     ]
    }
   ],
   "source": [
    "today_string = \"\"\n",
    "with open('today.txt', 'r') as txt:\n",
    "    today_string = txt.readline()\n",
    "print(f\"Reading text: {today_string}\")"
   ]
  },
  {
   "cell_type": "markdown",
   "id": "7665b979",
   "metadata": {},
   "source": [
    "### 3. Parse the date from today_string.\n"
   ]
  },
  {
   "cell_type": "code",
   "execution_count": 3,
   "id": "90e2eb3a",
   "metadata": {},
   "outputs": [
    {
     "name": "stdout",
     "output_type": "stream",
     "text": [
      "2022-06-01 00:00:00\n"
     ]
    }
   ],
   "source": [
    "from datetime import datetime\n",
    "print(datetime.strptime(today_string, '%Y-%m-%d'))"
   ]
  },
  {
   "cell_type": "markdown",
   "id": "015e0af0",
   "metadata": {},
   "source": [
    "### 4. List the files in your current directory"
   ]
  },
  {
   "cell_type": "code",
   "execution_count": 4,
   "id": "b2e97111",
   "metadata": {},
   "outputs": [
    {
     "data": {
      "text/plain": [
       "[' Basic Python Assignment _ 14.ipynb',\n",
       " ' Basic Python Assignment _15.ipynb',\n",
       " ' Basic Python Assignment _16.ipynb',\n",
       " ' Basic Python Assignment _17.ipynb',\n",
       " ' Basic Python Assignment _18.ipynb',\n",
       " ' Basic Python Assignment _20.ipynb',\n",
       " '.conda',\n",
       " '.condarc',\n",
       " '.continuum',\n",
       " '.ipynb_checkpoints',\n",
       " '.ipython',\n",
       " '.jupyter',\n",
       " '.~Pandas_table.ipynb.xlsx',\n",
       " '07 Functions_Revision.ipynb',\n",
       " '19.3.1 mongoDB introduction.ipynb',\n",
       " '19.3.2 pyMongo.ipynb',\n",
       " '19.3.3 Atlas.ipynb',\n",
       " '3D Objects',\n",
       " 'addresses.csv',\n",
       " 'AppData',\n",
       " 'Application Data',\n",
       " 'bank-full.csv',\n",
       " 'Basic Python Assignment _19.ipynb',\n",
       " 'Basic Python Assignment_1.ipynb',\n",
       " 'Basic python Assignment_2.ipynb',\n",
       " 'Basic Python Assignment_3.ipynb',\n",
       " 'Basic python Assignment_4.ipynb',\n",
       " 'Basic Python Assignment_5.ipynb',\n",
       " 'Basic Python Assignnment_6.ipynb',\n",
       " 'Basic Python Programs.ipynb',\n",
       " 'Basic Python Program_Section-01.ipynb',\n",
       " 'Basic Python Program_Section-02.ipynb',\n",
       " 'Basic_Python_Assignment_10.ipynb',\n",
       " 'Basic_Python_Assignment_11.ipynb',\n",
       " 'Basic_Python_Assignment_12.ipynb',\n",
       " 'Basic_Python_Assignment_13.ipynb',\n",
       " 'Basic_Python_Assignment_7.ipynb',\n",
       " 'Basic_Python_Assignment_8.ipynb',\n",
       " 'Basic_Python_Assignment_9.ipynb',\n",
       " 'car.data',\n",
       " 'CASSANDRA_12-03-2022.ipynb',\n",
       " 'Contacts',\n",
       " 'contacts.csv',\n",
       " 'Cookies',\n",
       " 'cricket.csv',\n",
       " 'Documents',\n",
       " 'Downloads',\n",
       " 'example1.log',\n",
       " 'Exception handling class 1.ipynb',\n",
       " 'Exception handling class 2 .ipynb',\n",
       " 'Exception handling_revision class_09-02-2022.ipynb',\n",
       " 'Favorites',\n",
       " 'file sysetm.ipynb',\n",
       " 'for loops while loop (1).ipynb',\n",
       " 'for loops while loop.ipynb',\n",
       " 'Function and holiday task.ipynb',\n",
       " 'Function continued.ipynb',\n",
       " 'glass.data',\n",
       " 'Holiday Assignment_on Function.ipynb',\n",
       " 'holiday_schedules.csv',\n",
       " 'if else , for loop (1).ipynb',\n",
       " 'if else , for loop (2).ipynb',\n",
       " 'if else , for loop.ipynb',\n",
       " 'IMP PYTHON NOTES .ipynb',\n",
       " 'IntelGraphicsProfiles',\n",
       " 'iterator generator.ipynb',\n",
       " 'jobdb.db',\n",
       " 'json_input.csv',\n",
       " 'json_otput.csv',\n",
       " 'json_res.csv',\n",
       " 'Links',\n",
       " 'Local Settings',\n",
       " 'locations.csv',\n",
       " 'logging (1) (1).ipynb',\n",
       " 'logging (1).ipynb',\n",
       " 'logging_practice.ipynb',\n",
       " 'LUSID Excel - Business Agility - Making Simple Changes Quickly & Easily.xlsx',\n",
       " 'LUSID Excel - Maintain a product in multiple currencies and share classes.xlsx',\n",
       " 'LUSID Excel - Manage instruments with economic definitions.xlsx',\n",
       " 'LUSID Excel - Manage Orders.xlsx',\n",
       " 'LUSID Excel - Manage your investment strategies.xlsx',\n",
       " 'LUSID Excel - Setting up your IBOR.xlsx',\n",
       " 'LUSID Excel - Setting up your market data.xlsx',\n",
       " 'mail_addresses.csv',\n",
       " 'MERGE PDF_ASSIGNMENT.ipynb',\n",
       " 'mongodb class 1.ipynb',\n",
       " 'Mongodb_class_1_27-02-2022.ipynb',\n",
       " 'Mongodb_class_2_28-02-2022.ipynb',\n",
       " 'Music',\n",
       " 'My Documents',\n",
       " 'mysql-tutorial.pdf',\n",
       " 'NBA.csv',\n",
       " 'NetHood',\n",
       " 'NewPDF.pdf',\n",
       " 'NTUSER.DAT',\n",
       " 'ntuser.dat.LOG1',\n",
       " 'ntuser.dat.LOG2',\n",
       " 'NTUSER.DAT{1c2b59c5-c5f5-11eb-bacb-000d3a96488e}.TxR.0.regtrans-ms',\n",
       " 'NTUSER.DAT{1c2b59c5-c5f5-11eb-bacb-000d3a96488e}.TxR.1.regtrans-ms',\n",
       " 'NTUSER.DAT{1c2b59c5-c5f5-11eb-bacb-000d3a96488e}.TxR.2.regtrans-ms',\n",
       " 'NTUSER.DAT{1c2b59c5-c5f5-11eb-bacb-000d3a96488e}.TxR.blf',\n",
       " 'NTUSER.DAT{1c2b59c6-c5f5-11eb-bacb-000d3a96488e}.TM.blf',\n",
       " 'NTUSER.DAT{1c2b59c6-c5f5-11eb-bacb-000d3a96488e}.TMContainer00000000000000000001.regtrans-ms',\n",
       " 'NTUSER.DAT{1c2b59c6-c5f5-11eb-bacb-000d3a96488e}.TMContainer00000000000000000002.regtrans-ms',\n",
       " 'ntuser.ini',\n",
       " 'OneDrive',\n",
       " 'oops 29th .ipynb',\n",
       " 'oops class 1.ipynb',\n",
       " 'opp2.log',\n",
       " 'opps.log',\n",
       " 'opps1.log',\n",
       " 'opp_23-02-2022.ipynb',\n",
       " 'organizations.csv',\n",
       " 'Pandas - Bank Data Task.ipynb',\n",
       " 'pandas 4 .ipynb',\n",
       " 'pandas and numpay.ipynb',\n",
       " 'pandas class 3.ipynb',\n",
       " 'pandas class homework discussed .ipynb',\n",
       " 'pandas day 2.ipynb',\n",
       " 'Pandas-Json Task.ipynb',\n",
       " 'Pandas-Titanic Data Task.ipynb',\n",
       " 'Pandas.ipynb',\n",
       " 'Pandas_practice.ipynb',\n",
       " 'Pandas_practice_day2.ipynb',\n",
       " 'pandas_practice_day3.ipynb',\n",
       " 'pandas_practice_day4.ipynb',\n",
       " 'Pandas_table.csv',\n",
       " 'Pandas_table.ipynb.xlsx',\n",
       " 'phones.csv',\n",
       " 'practice problem python basic (1).ipynb',\n",
       " 'practice_09-02-2022.ipynb',\n",
       " 'PrintHood',\n",
       " 'Programming Assignment_20.ipynb',\n",
       " 'programs.csv',\n",
       " 'PycharmProjects',\n",
       " 'Python basic (3).ipynb',\n",
       " 'Python Basic Assignment - 21.ipynb',\n",
       " 'Python Basic Assignment - 22.ipynb',\n",
       " 'Python Basic Assignment - 23.ipynb',\n",
       " 'Python Basic Assignment - 24.ipynb',\n",
       " 'Python Basic Assignment - 25.ipynb',\n",
       " 'Python_Programming_Assignment_1.ipynb',\n",
       " 'Python_Programming_Assignment_10.ipynb',\n",
       " 'Python_Programming_Assignment_11.ipynb',\n",
       " 'Python_Programming_Assignment_12.ipynb',\n",
       " 'Python_Programming_Assignment_13.ipynb',\n",
       " 'Python_Programming_Assignment_14.ipynb',\n",
       " 'Python_Programming_Assignment_15.ipynb',\n",
       " 'Python_Programming_Assignment_16.ipynb',\n",
       " 'Python_Programming_Assignment_17.ipynb',\n",
       " 'Python_Programming_Assignment_18.ipynb',\n",
       " 'Python_Programming_Assignment_19.ipynb',\n",
       " 'Python_Programming_Assignment_2.ipynb',\n",
       " 'Python_Programming_Assignment_3.ipynb',\n",
       " 'Python_Programming_Assignment_4.ipynb',\n",
       " 'Python_Programming_Assignment_5.ipynb',\n",
       " 'Python_Programming_Assignment_6.ipynb',\n",
       " 'Python_Programming_Assignment_7.ipynb',\n",
       " 'Python_Programming_Assignment_8.ipynb',\n",
       " 'Python_Programming_Assignment_9.ipynb',\n",
       " 'README.md',\n",
       " 'Recent',\n",
       " 'regular_schedules.csv',\n",
       " 'sample.doc',\n",
       " 'sample.docx',\n",
       " 'sample_1.pdf',\n",
       " 'Saved Games',\n",
       " 'Searches',\n",
       " 'SendTo',\n",
       " 'services.csv',\n",
       " 'SQL basic .ipynb',\n",
       " 'sql day 2 .ipynb',\n",
       " 'sqlite_task.db',\n",
       " 'SQLITE_TASK.ipynb',\n",
       " 'sqllit1_file.db',\n",
       " 'SQLLITE ,map ,reduce ,filter,zip.ipynb',\n",
       " 'sqllite1_file.db',\n",
       " 'sqllite_file.db',\n",
       " 'SQLLITE_MAP_REDUCE_FILTER_ZIP_PRACTICE.ipynb',\n",
       " 'sqllit_file.db',\n",
       " 'SQL_ CAR DATA_ASSIGNMENT.ipynb',\n",
       " 'SQL_PRACTICE_10-02-2022.ipynb',\n",
       " 'Start Menu',\n",
       " 'taxonomy.csv',\n",
       " 'Templates',\n",
       " 'today.txt',\n",
       " 'Topic_ Input Validation.ipynb',\n",
       " 'Tracing',\n",
       " 'Tuples , set , dict .ipynb',\n",
       " 'Untitled.ipynb',\n",
       " 'Untitled1.ipynb',\n",
       " 'Untitled2.ipynb',\n",
       " 'Videos',\n",
       " 'vocab.enron.txt',\n",
       " 'vocab.kos.txt',\n",
       " 'vocab.nips.txt',\n",
       " 'vocab.nytimes.txt',\n",
       " 'vocab.pubmed.txt',\n",
       " '__pycache__']"
      ]
     },
     "execution_count": 4,
     "metadata": {},
     "output_type": "execute_result"
    }
   ],
   "source": [
    "import os\n",
    "os.listdir('.')"
   ]
  },
  {
   "cell_type": "markdown",
   "id": "3fbf5ccd",
   "metadata": {},
   "source": [
    "### 5. Create a list of all of the files in your parent directory (minimum five files should be available).\n"
   ]
  },
  {
   "cell_type": "code",
   "execution_count": 5,
   "id": "35692faf",
   "metadata": {},
   "outputs": [
    {
     "name": "stdout",
     "output_type": "stream",
     "text": [
      "<class 'list'>\n",
      "['All Users', 'Barish Sawant', 'Default', 'Default User', 'desktop.ini', 'Public']\n",
      "Number of files: 6\n"
     ]
    }
   ],
   "source": [
    "lst_files = os.listdir('..')\n",
    "print(type(lst_files))\n",
    "print(lst_files)\n",
    "print(f\"Number of files: {len(lst_files)}\")"
   ]
  },
  {
   "cell_type": "markdown",
   "id": "39250893",
   "metadata": {},
   "source": [
    "### 6. Use multiprocessing to create three separate processes. Make each one wait a random number of seconds between one and five, print the current time, and then exit.\n"
   ]
  },
  {
   "cell_type": "code",
   "execution_count": 6,
   "id": "e0acff23",
   "metadata": {},
   "outputs": [
    {
     "name": "stdout",
     "output_type": "stream",
     "text": [
      "starting processes\n",
      "Process 0 will sleep for 5\n",
      "starting processes\n",
      "Process 1 will sleep for 9\n",
      "starting processes\n",
      "Process 2 will sleep for 3\n"
     ]
    }
   ],
   "source": [
    "import multiprocessing\n",
    "from datetime import datetime \n",
    "from time import sleep \n",
    "import random\n",
    "\n",
    "def now_sleep(seconds): \n",
    "    print('wait', seconds, 'seconds, time is', datetime.utcnow())\n",
    "    sleep(seconds) \n",
    "    print(\"Finished Process!\")\n",
    "\n",
    "if __name__ == '__main__':\n",
    "    for n in range(3): \n",
    "        print(\"starting processes\")\n",
    "        seconds = random.randint(1, 10) \n",
    "        print(f\"Process {n} will sleep for {seconds}\")\n",
    "        proc = multiprocessing.Process(target=now_sleep, args=(seconds,)) \n",
    "        proc.start()\n",
    "        \n",
    "# Note: this file is saved as multiprocessing.py in local file system"
   ]
  },
  {
   "cell_type": "markdown",
   "id": "f84c6016",
   "metadata": {},
   "source": [
    "### 7. Create a date object of your day of birth.\n"
   ]
  },
  {
   "cell_type": "code",
   "execution_count": 8,
   "id": "924d082e",
   "metadata": {},
   "outputs": [
    {
     "name": "stdout",
     "output_type": "stream",
     "text": [
      "1994-12-09\n"
     ]
    }
   ],
   "source": [
    "my_birthday = date(1994, 12, 9)\n",
    "print(my_birthday)"
   ]
  },
  {
   "cell_type": "markdown",
   "id": "b5729ded",
   "metadata": {},
   "source": [
    "### 8. What day of the week was your day of birth?\n"
   ]
  },
  {
   "cell_type": "code",
   "execution_count": 9,
   "id": "9f68d44e",
   "metadata": {},
   "outputs": [
    {
     "name": "stdout",
     "output_type": "stream",
     "text": [
      "My birthday was on 5th day of the week\n"
     ]
    }
   ],
   "source": [
    "print(f\"My birthday was on {my_birthday.isoweekday()}th day of the week\")"
   ]
  },
  {
   "cell_type": "markdown",
   "id": "732e0da1",
   "metadata": {},
   "source": [
    "### 9. When will you be (or when were you) 10,000 days old?\n"
   ]
  },
  {
   "cell_type": "code",
   "execution_count": 10,
   "id": "94d7d04c",
   "metadata": {},
   "outputs": [
    {
     "name": "stdout",
     "output_type": "stream",
     "text": [
      "2022-04-26\n"
     ]
    }
   ],
   "source": [
    "from datetime import timedelta\n",
    "\n",
    "thousand_days = my_birthday + timedelta(days=10000)\n",
    "print(thousand_days)"
   ]
  },
  {
   "cell_type": "code",
   "execution_count": null,
   "id": "fa63f190",
   "metadata": {},
   "outputs": [],
   "source": []
  }
 ],
 "metadata": {
  "kernelspec": {
   "display_name": "Python 3 (ipykernel)",
   "language": "python",
   "name": "python3"
  },
  "language_info": {
   "codemirror_mode": {
    "name": "ipython",
    "version": 3
   },
   "file_extension": ".py",
   "mimetype": "text/x-python",
   "name": "python",
   "nbconvert_exporter": "python",
   "pygments_lexer": "ipython3",
   "version": "3.9.7"
  }
 },
 "nbformat": 4,
 "nbformat_minor": 5
}
