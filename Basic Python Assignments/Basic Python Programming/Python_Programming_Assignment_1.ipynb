{
 "cells": [
  {
   "cell_type": "markdown",
   "id": "35ab8193",
   "metadata": {},
   "source": [
    "# 1.Write a Python program to print \"Hello Python\"?\n",
    "\n",
    "Sol:"
   ]
  },
  {
   "cell_type": "code",
   "execution_count": 1,
   "id": "39de7b71",
   "metadata": {},
   "outputs": [
    {
     "name": "stdout",
     "output_type": "stream",
     "text": [
      "Hello Python\n"
     ]
    }
   ],
   "source": [
    "print(\"Hello Python\")"
   ]
  },
  {
   "cell_type": "code",
   "execution_count": 7,
   "id": "7c50d007",
   "metadata": {},
   "outputs": [
    {
     "name": "stdout",
     "output_type": "stream",
     "text": [
      "Hello Python\n"
     ]
    }
   ],
   "source": [
    "#using try and exception handling method\n",
    "string=\"Hello Python\"\n",
    "\n",
    "try:\n",
    "    print(string)\n",
    "    \n",
    "except Exception as aa:\n",
    "    print(f\"Error occured in try log{aa}\")"
   ]
  },
  {
   "cell_type": "code",
   "execution_count": 3,
   "id": "54ca508a",
   "metadata": {},
   "outputs": [],
   "source": [
    "#using function and exception handling method\n",
    "def string():\n",
    "    name= \"Hello Python\"\n",
    "    try:\n",
    "        print(type(name), name)\n",
    "              \n",
    "    except Exception as aa:\n",
    "        print(f\"Error occured in try log{aa}\")\n"
   ]
  },
  {
   "cell_type": "code",
   "execution_count": 4,
   "id": "85060877",
   "metadata": {},
   "outputs": [
    {
     "name": "stdout",
     "output_type": "stream",
     "text": [
      "<class 'str'> Hello Python\n"
     ]
    }
   ],
   "source": [
    "string()"
   ]
  },
  {
   "cell_type": "markdown",
   "id": "dbb6e0f9",
   "metadata": {},
   "source": [
    "# 2.Write a Python program to do arithmetical operations addition and division.?\n",
    "\n",
    "Sol:"
   ]
  },
  {
   "cell_type": "code",
   "execution_count": 31,
   "id": "4cb4378c",
   "metadata": {},
   "outputs": [
    {
     "name": "stdout",
     "output_type": "stream",
     "text": [
      "Addition: 30\n",
      "Division: 0.5\n"
     ]
    }
   ],
   "source": [
    "val1 = 10\n",
    "val2 = 20\n",
    "\n",
    "addition = val1 + val2\n",
    "print(f\"Addition: {addition}\")\n",
    "\n",
    "division = val1 / val2\n",
    "print(f\"Division: {division}\")"
   ]
  },
  {
   "cell_type": "code",
   "execution_count": 10,
   "id": "73aa56df",
   "metadata": {},
   "outputs": [],
   "source": [
    "#using class Exception handaling method\n",
    "class arith_operations():\n",
    "    def __init__(self,a,b):\n",
    "        self.a = a\n",
    "        self.b = b\n",
    "        \n",
    "    def addition(self):\n",
    "        '''vuvuvuvuv'''\n",
    "        try:\n",
    "            add = self.a + self.b\n",
    "            print(\"Addition of a and b : \",add)\n",
    "            \n",
    "        except Exception as ab:\n",
    "            print(f\"Error ocured in {ab}\")\n",
    "            \n",
    "    def Division(self):\n",
    "        try:\n",
    "            Div = self.a/self.b\n",
    "            print(\"Division of a and b: \",Div)\n",
    "            \n",
    "        except Exception as ac:\n",
    "            print(f\"Error ocured in {ac}\")\n",
    "        "
   ]
  },
  {
   "cell_type": "code",
   "execution_count": 2,
   "id": "f5cd4206",
   "metadata": {},
   "outputs": [],
   "source": [
    "z = arith_operations(10,20)"
   ]
  },
  {
   "cell_type": "code",
   "execution_count": 11,
   "id": "0ffa3f3a",
   "metadata": {},
   "outputs": [
    {
     "name": "stdout",
     "output_type": "stream",
     "text": [
      "Addition of a and b :  30\n"
     ]
    }
   ],
   "source": [
    "z.addition()"
   ]
  },
  {
   "cell_type": "code",
   "execution_count": 4,
   "id": "aeb29caf",
   "metadata": {},
   "outputs": [
    {
     "name": "stdout",
     "output_type": "stream",
     "text": [
      "Division of a and b:  0.5\n"
     ]
    }
   ],
   "source": [
    "z.Division()"
   ]
  },
  {
   "cell_type": "markdown",
   "id": "18aa35af",
   "metadata": {},
   "source": [
    "# 3.Write a Python program to find the area of a triangle?\n",
    "\n",
    "Sol:"
   ]
  },
  {
   "cell_type": "code",
   "execution_count": 33,
   "id": "3504cdac",
   "metadata": {},
   "outputs": [
    {
     "name": "stdout",
     "output_type": "stream",
     "text": [
      "Area of traingle : 18.0\n"
     ]
    }
   ],
   "source": [
    "base_length = 6\n",
    "height_length = 6\n",
    "\n",
    "area = (1/2)*base_length*height_length\n",
    "\n",
    "print(f\"Area of traingle : {area}\")"
   ]
  },
  {
   "cell_type": "code",
   "execution_count": 6,
   "id": "05e07cd2",
   "metadata": {},
   "outputs": [],
   "source": [
    "#using function and Exception handling method\n",
    "def tri_area():\n",
    "    '''This function is used to calculate Area of triange'''\n",
    "    \n",
    "    base_length = int(input(\"Enter the Base length: \"))\n",
    "    height_length = int(input(\"Enter the Height length: \"))\n",
    "    \n",
    "    try:\n",
    "        area =(1/2)*base_length * height_length\n",
    "        \n",
    "        print(\"area of triangle: \",area)\n",
    "        \n",
    "    except Exception as e:\n",
    "        prnt(f\"Error ocured in try log{e}\")\n",
    "\n"
   ]
  },
  {
   "cell_type": "code",
   "execution_count": 8,
   "id": "4433c630",
   "metadata": {},
   "outputs": [
    {
     "name": "stdout",
     "output_type": "stream",
     "text": [
      "Enter the Base length: 6\n",
      "Enter the Height length: 6\n",
      "area of triangle:  18.0\n"
     ]
    }
   ],
   "source": [
    "tri_area()"
   ]
  },
  {
   "cell_type": "markdown",
   "id": "ac268333",
   "metadata": {},
   "source": [
    "# 4.Write a Python program to swap two variables?\n",
    "\n",
    "Sol:"
   ]
  },
  {
   "cell_type": "code",
   "execution_count": 27,
   "id": "0ebbfaef",
   "metadata": {},
   "outputs": [],
   "source": [
    "#using function and Exception handling method.\n",
    "# swap them with using 3rd variable.\n",
    "\n",
    "def swap1():\n",
    "    '''This function is used to swap two variables with using 3rd variable.\n",
    "        (1st variable value is swaped with second variable value)'''\n",
    "    var1 = int(input(\"Enter variable 1 value: \"))\n",
    "    var2 = int(input(\"Enter variable 2 value: \"))\n",
    "    x = 0\n",
    "    \n",
    "    try:\n",
    "        x = var1\n",
    "        var1 = var2\n",
    "        var2 = x\n",
    "        \n",
    "        \n",
    "        print(\"After swapping value of variable 1: \", var1)\n",
    "        print(\"After swapping value of variable 2: \", var2)\n",
    "        \n",
    "    except Exception as er:\n",
    "        print(f\"Error occured in try log{er}\")\n",
    "             "
   ]
  },
  {
   "cell_type": "code",
   "execution_count": 28,
   "id": "6cf92ec4",
   "metadata": {},
   "outputs": [
    {
     "name": "stdout",
     "output_type": "stream",
     "text": [
      "Enter variable 1 value: 5\n",
      "Enter variable 2 value: 6\n",
      "After swapping value of variable 1:  6\n",
      "After swapping value of variable 2:  5\n"
     ]
    }
   ],
   "source": [
    "swap1()"
   ]
  },
  {
   "cell_type": "code",
   "execution_count": 34,
   "id": "8efe8aea",
   "metadata": {},
   "outputs": [],
   "source": [
    "#using function and Exception handling method.\n",
    "# swap them without using 3rd variable.\n",
    "def swap2():\n",
    "    '''This function is used to swap two variables without using 3rd variable.\n",
    "        (1st variable value is swaped with second variable value)'''\n",
    "    a=int(input(\"Enter the value of a: \"))\n",
    "    b=int(input(\"Enter the value of b: \"))\n",
    "    try:\n",
    "        b=a+b\n",
    "        print(\"value of a: \",a)\n",
    "        a=b-a\n",
    "        print(\"Value of b: \",b)\n",
    "        b=b-a\n",
    "        print(\"value of a: \",a)\n",
    "        \n",
    "        print(\"After swapping value of a: \",a)\n",
    "        print(\"After swapping value of b: \",b)\n",
    "\n",
    "    except Exception as af:\n",
    "        print(f\"Error found in try log {af}\")\n"
   ]
  },
  {
   "cell_type": "code",
   "execution_count": 35,
   "id": "40685b20",
   "metadata": {},
   "outputs": [
    {
     "name": "stdout",
     "output_type": "stream",
     "text": [
      "Enter the value of a: 5\n",
      "Enter the value of b: 6\n",
      "value of a:  5\n",
      "Value of b:  11\n",
      "value of a:  6\n",
      "After swapping value of a:  6\n",
      "After swapping value of b:  5\n"
     ]
    }
   ],
   "source": [
    "swap2()"
   ]
  },
  {
   "cell_type": "markdown",
   "id": "fbb0582f",
   "metadata": {},
   "source": [
    "# 5.Write a Python program to generate a random number?\n",
    "\n",
    "Sol:"
   ]
  },
  {
   "cell_type": "code",
   "execution_count": 32,
   "id": "d46efa0e",
   "metadata": {},
   "outputs": [
    {
     "name": "stdout",
     "output_type": "stream",
     "text": [
      "0.41487742124873017\n",
      "51\n"
     ]
    }
   ],
   "source": [
    "import random\n",
    "\n",
    "print(random.random())\n",
    "print(random.randint(1, 100))"
   ]
  },
  {
   "cell_type": "code",
   "execution_count": null,
   "id": "e9032b7d",
   "metadata": {},
   "outputs": [],
   "source": []
  }
 ],
 "metadata": {
  "kernelspec": {
   "display_name": "Python 3 (ipykernel)",
   "language": "python",
   "name": "python3"
  },
  "language_info": {
   "codemirror_mode": {
    "name": "ipython",
    "version": 3
   },
   "file_extension": ".py",
   "mimetype": "text/x-python",
   "name": "python",
   "nbconvert_exporter": "python",
   "pygments_lexer": "ipython3",
   "version": "3.9.7"
  }
 },
 "nbformat": 4,
 "nbformat_minor": 5
}
