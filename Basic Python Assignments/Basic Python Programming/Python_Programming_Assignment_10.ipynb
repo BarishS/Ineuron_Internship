{
 "cells": [
  {
   "cell_type": "markdown",
   "id": "a82d4c67",
   "metadata": {},
   "source": [
    "# 1. Write a Python program to find sum of elements in list?\n",
    "\n",
    "### Sol:"
   ]
  },
  {
   "cell_type": "code",
   "execution_count": 10,
   "id": "76cbe19e",
   "metadata": {},
   "outputs": [
    {
     "name": "stdout",
     "output_type": "stream",
     "text": [
      "150\n"
     ]
    }
   ],
   "source": [
    "l = [25,102,4,1,5,6,7]\n",
    "\n",
    "sum = 0\n",
    "for i in l:\n",
    "    sum = sum + i\n",
    "    \n",
    "print(sum)\n",
    "    "
   ]
  },
  {
   "cell_type": "markdown",
   "id": "a59a97de",
   "metadata": {},
   "source": [
    "-----\n",
    "# 2. Write a Python program to Multiply all numbers in the list?\n",
    "\n",
    "### Sol:"
   ]
  },
  {
   "cell_type": "code",
   "execution_count": 12,
   "id": "005d7efc",
   "metadata": {},
   "outputs": [
    {
     "name": "stdout",
     "output_type": "stream",
     "text": [
      "2142000\n"
     ]
    }
   ],
   "source": [
    "l = [25,102,4,1,5,6,7]\n",
    "\n",
    "mul = 1\n",
    "for i in l:\n",
    "    \n",
    "    mul *= i\n",
    "    \n",
    "print(mul)"
   ]
  },
  {
   "cell_type": "markdown",
   "id": "412a0417",
   "metadata": {},
   "source": [
    "----\n",
    "# 3. Write a Python program to find smallest number in a list?\n",
    "\n",
    "### Sol:"
   ]
  },
  {
   "cell_type": "code",
   "execution_count": 1,
   "id": "b92bdd55",
   "metadata": {},
   "outputs": [
    {
     "data": {
      "text/plain": [
       "-10"
      ]
     },
     "execution_count": 1,
     "metadata": {},
     "output_type": "execute_result"
    }
   ],
   "source": [
    "l = [25,102,4,1,5,6,7,-10]\n",
    "min(l)"
   ]
  },
  {
   "cell_type": "code",
   "execution_count": 3,
   "id": "7eeccd83",
   "metadata": {},
   "outputs": [
    {
     "name": "stdout",
     "output_type": "stream",
     "text": [
      "-10\n"
     ]
    }
   ],
   "source": [
    "#alternative way\n",
    "mini = l[0]\n",
    "for i in l:\n",
    "    if i < mini:\n",
    "        mini = i\n",
    "        \n",
    "print(mini)\n",
    "    "
   ]
  },
  {
   "cell_type": "markdown",
   "id": "9d956b0d",
   "metadata": {},
   "source": [
    "----\n",
    "# 4.  Write a Python program to find largest number in a list?\n",
    "\n",
    "### Sol:"
   ]
  },
  {
   "cell_type": "code",
   "execution_count": 7,
   "id": "e6ee6228",
   "metadata": {},
   "outputs": [
    {
     "data": {
      "text/plain": [
       "102"
      ]
     },
     "execution_count": 7,
     "metadata": {},
     "output_type": "execute_result"
    }
   ],
   "source": [
    "l = [25,102,4,1,5,6,7,-10]\n",
    "\n",
    "max(l)"
   ]
  },
  {
   "cell_type": "code",
   "execution_count": 4,
   "id": "0c604ae7",
   "metadata": {},
   "outputs": [
    {
     "name": "stdout",
     "output_type": "stream",
     "text": [
      "102\n"
     ]
    }
   ],
   "source": [
    "#alternative way\n",
    "l = [25,102,4,1,5,6,7,-10]\n",
    "\n",
    "maxi = l[0]\n",
    "for i in l:\n",
    "    if i> maxi:\n",
    "        maxi = i\n",
    "        \n",
    "print(maxi)"
   ]
  },
  {
   "cell_type": "markdown",
   "id": "076dba6a",
   "metadata": {},
   "source": [
    "----\n",
    "# 5. Write a Python program to find second largest number in a list?\n",
    "\n",
    "### Sol:"
   ]
  },
  {
   "cell_type": "code",
   "execution_count": 8,
   "id": "3ab2d918",
   "metadata": {},
   "outputs": [],
   "source": [
    "l = [25,102,4,1,5,6,7,-10]"
   ]
  },
  {
   "cell_type": "code",
   "execution_count": 11,
   "id": "801cc8ba",
   "metadata": {},
   "outputs": [
    {
     "name": "stdout",
     "output_type": "stream",
     "text": [
      "Second largest number:  25\n"
     ]
    }
   ],
   "source": [
    "l.sort(reverse = True)\n",
    "print(\"Second largest number: \", l[1])"
   ]
  },
  {
   "cell_type": "markdown",
   "id": "8dda8af2",
   "metadata": {},
   "source": [
    "----\n",
    "# 6. Write a Python program to find N largest elements from a list?\n",
    "\n",
    "### Sol:"
   ]
  },
  {
   "cell_type": "code",
   "execution_count": 16,
   "id": "76d8d999",
   "metadata": {},
   "outputs": [],
   "source": [
    "def largest(lst, n):\n",
    "    lst.sort(reverse = True)\n",
    "    \n",
    "    return f\"Largest Element from List: { lst[n-1]}\""
   ]
  },
  {
   "cell_type": "code",
   "execution_count": 17,
   "id": "c09c1382",
   "metadata": {},
   "outputs": [
    {
     "data": {
      "text/plain": [
       "'Largest Element from List: 102'"
      ]
     },
     "execution_count": 17,
     "metadata": {},
     "output_type": "execute_result"
    }
   ],
   "source": [
    "#largest Element of list\n",
    "l = [25,102,4,1,5,6,7,-10]\n",
    "\n",
    "largest(l , 1)"
   ]
  },
  {
   "cell_type": "code",
   "execution_count": 18,
   "id": "69644fb9",
   "metadata": {},
   "outputs": [
    {
     "data": {
      "text/plain": [
       "'Largest Element from List: 25'"
      ]
     },
     "execution_count": 18,
     "metadata": {},
     "output_type": "execute_result"
    }
   ],
   "source": [
    "# 2nd Element of list\n",
    "l = [25,102,4,1,5,6,7,-10]\n",
    "\n",
    "largest(l , 2)"
   ]
  },
  {
   "cell_type": "code",
   "execution_count": 19,
   "id": "6b90db09",
   "metadata": {},
   "outputs": [
    {
     "data": {
      "text/plain": [
       "'Largest Element from List: 5'"
      ]
     },
     "execution_count": 19,
     "metadata": {},
     "output_type": "execute_result"
    }
   ],
   "source": [
    "# 5th Element of list\n",
    "l = [25,102,4,1,5,6,7,-10]\n",
    "\n",
    "largest(l , 5)"
   ]
  },
  {
   "cell_type": "markdown",
   "id": "3d494d1e",
   "metadata": {},
   "source": [
    "# 7. Write a Python program to print even numbers in a list?\n",
    "\n",
    "### Sol:"
   ]
  },
  {
   "cell_type": "code",
   "execution_count": 27,
   "id": "3200c51c",
   "metadata": {},
   "outputs": [
    {
     "name": "stdout",
     "output_type": "stream",
     "text": [
      "[2, 6, 4, 8, 8, 8]\n"
     ]
    }
   ],
   "source": [
    "l = [1,2,3,5,6,4,8,9,7,8,9,7,11,8,9,7]\n",
    "l1 = []\n",
    "for i in l:\n",
    "    if i % 2 == 0:\n",
    "        l1.append(i)\n",
    "print(l1)        \n",
    "    "
   ]
  },
  {
   "cell_type": "code",
   "execution_count": 28,
   "id": "2ef4e1d5",
   "metadata": {},
   "outputs": [
    {
     "data": {
      "text/plain": [
       "[2, 6, 4, 8, 8, 8]"
      ]
     },
     "execution_count": 28,
     "metadata": {},
     "output_type": "execute_result"
    }
   ],
   "source": [
    "#alternative way\n",
    "[i for i in l if i%2 == 0]"
   ]
  },
  {
   "cell_type": "markdown",
   "id": "052d15ac",
   "metadata": {},
   "source": [
    "-----\n",
    "# 8.  Write a Python program to print odd numbers in a List?\n",
    "\n",
    "### Sol:"
   ]
  },
  {
   "cell_type": "code",
   "execution_count": 26,
   "id": "18f09973",
   "metadata": {},
   "outputs": [
    {
     "name": "stdout",
     "output_type": "stream",
     "text": [
      "[1, 3, 5, 9, 7, 9, 7, 11, 9, 7]\n"
     ]
    }
   ],
   "source": [
    "l = [1,2,3,5,6,4,8,9,7,8,9,7,11,8,9,7]\n",
    "l2 =[ ]\n",
    "for i in l:\n",
    "    if i %2 ==1:\n",
    "        l2.append(i)\n",
    "print(l2)"
   ]
  },
  {
   "cell_type": "code",
   "execution_count": 29,
   "id": "98f6e831",
   "metadata": {},
   "outputs": [
    {
     "data": {
      "text/plain": [
       "[1, 3, 5, 9, 7, 9, 7, 11, 9, 7]"
      ]
     },
     "execution_count": 29,
     "metadata": {},
     "output_type": "execute_result"
    }
   ],
   "source": [
    "#alternative way\n",
    "[i for i in l if i%2 == 1]"
   ]
  },
  {
   "cell_type": "markdown",
   "id": "0cb0786f",
   "metadata": {},
   "source": [
    "----\n",
    "# 9. Write a Python program to Remove empty List from List?\n",
    "\n",
    "### Sol:"
   ]
  },
  {
   "cell_type": "code",
   "execution_count": 30,
   "id": "ae412881",
   "metadata": {},
   "outputs": [
    {
     "data": {
      "text/plain": [
       "[1, 2, 3, 5, 6, [1, 2, 5, 6, 8, 10], [120.11], [15.25, 2200], 22]"
      ]
     },
     "execution_count": 30,
     "metadata": {},
     "output_type": "execute_result"
    }
   ],
   "source": [
    "l = [1,2,3,[],5,6,[],[1,2,5,6,8,10],[],[120.11],[15.25,2200],22]\n",
    "\n",
    "result =[]\n",
    "for i in l:\n",
    "    if type(i) == list:\n",
    "        if len(i) != 0:\n",
    "            result.append(i)\n",
    "    else:\n",
    "        result.append(i)\n",
    "        \n",
    "result"
   ]
  },
  {
   "cell_type": "markdown",
   "id": "02a45a73",
   "metadata": {},
   "source": [
    "-----\n",
    "# 10. Write a Python program to Cloning or Copying a list?\n",
    "\n",
    "### Sol:"
   ]
  },
  {
   "cell_type": "code",
   "execution_count": 31,
   "id": "11623830",
   "metadata": {},
   "outputs": [
    {
     "name": "stdout",
     "output_type": "stream",
     "text": [
      "[1, 2, 3, 5, 6, 4, 8, 9, 7, 8, 9, 7, 11, 8, 9, 7]\n"
     ]
    }
   ],
   "source": [
    "l = [1,2,3,5,6,4,8,9,7,8,9,7,11,8,9,7]\n",
    "l1 = []\n",
    "\n",
    "for i in l:\n",
    "    l1.append(i)\n",
    "    \n",
    "print(l1)"
   ]
  },
  {
   "cell_type": "markdown",
   "id": "7c07af89",
   "metadata": {},
   "source": [
    "----\n",
    "# 11. Write a Python program to Count occurrences of an element in a list?\n",
    "\n",
    "### Sol:"
   ]
  },
  {
   "cell_type": "code",
   "execution_count": 43,
   "id": "bcc4cccc",
   "metadata": {},
   "outputs": [],
   "source": [
    "l = [1,2,3,5,6,4,8,9,7,8,9,7,11,8,9,7]\n",
    "\n",
    "def occur(lst,ele):\n",
    "    \n",
    "    count = 0\n",
    "    for i in lst:\n",
    "        if i == ele:\n",
    "            count+=1\n",
    "            \n",
    "    return count"
   ]
  },
  {
   "cell_type": "code",
   "execution_count": 47,
   "id": "8ef55739",
   "metadata": {},
   "outputs": [
    {
     "data": {
      "text/plain": [
       "3"
      ]
     },
     "execution_count": 47,
     "metadata": {},
     "output_type": "execute_result"
    }
   ],
   "source": [
    "occur(l, 8)"
   ]
  },
  {
   "cell_type": "code",
   "execution_count": null,
   "id": "aa8b3968",
   "metadata": {},
   "outputs": [],
   "source": []
  }
 ],
 "metadata": {
  "kernelspec": {
   "display_name": "Python 3 (ipykernel)",
   "language": "python",
   "name": "python3"
  },
  "language_info": {
   "codemirror_mode": {
    "name": "ipython",
    "version": 3
   },
   "file_extension": ".py",
   "mimetype": "text/x-python",
   "name": "python",
   "nbconvert_exporter": "python",
   "pygments_lexer": "ipython3",
   "version": "3.9.7"
  }
 },
 "nbformat": 4,
 "nbformat_minor": 5
}
