{
 "cells": [
  {
   "cell_type": "markdown",
   "id": "3d88f991",
   "metadata": {},
   "source": [
    "# 1.  Write a Python program to find words which are greater than given length k?\n",
    "\n",
    "### Sol:"
   ]
  },
  {
   "cell_type": "code",
   "execution_count": 39,
   "id": "f5337fd3",
   "metadata": {},
   "outputs": [],
   "source": [
    "def findword(l,k):    \n",
    "    # 'l' variable contains the list of words\n",
    "    # 'k' variable is used to check length which contain 'int' value\n",
    "    l1 = []\n",
    "    for i in l:\n",
    "        if len(i) > k:\n",
    "            l1.append(i)\n",
    "    return l1\n",
    "            "
   ]
  },
  {
   "cell_type": "code",
   "execution_count": 40,
   "id": "0d15f828",
   "metadata": {},
   "outputs": [
    {
     "data": {
      "text/plain": [
       "['Maharashtra']"
      ]
     },
     "execution_count": 40,
     "metadata": {},
     "output_type": "execute_result"
    }
   ],
   "source": [
    "l = [\"Punjab\",\"Delhi\",\"Kolkata\",\"odisa\",\"Maharashtra\",\"Bangalore\"]\n",
    "\n",
    "findword(l,9)"
   ]
  },
  {
   "cell_type": "markdown",
   "id": "8950c4fa",
   "metadata": {},
   "source": [
    "----\n",
    "# 2.  Write a Python program for removing i-th character from a string?\n",
    "\n",
    "### Sol:"
   ]
  },
  {
   "cell_type": "code",
   "execution_count": 43,
   "id": "bac1356c",
   "metadata": {},
   "outputs": [],
   "source": [
    "def removechar(s, i ):\n",
    "    s = s.replace(s[i], '')  # 's' variable contains string value.\n",
    "    return s\n"
   ]
  },
  {
   "cell_type": "code",
   "execution_count": 42,
   "id": "1a88fe8f",
   "metadata": {},
   "outputs": [
    {
     "data": {
      "text/plain": [
       "'abdefgh'"
      ]
     },
     "execution_count": 42,
     "metadata": {},
     "output_type": "execute_result"
    }
   ],
   "source": [
    "s = \"abcdefgh\"\n",
    "removechar(s,2)"
   ]
  },
  {
   "cell_type": "markdown",
   "id": "b740b9e3",
   "metadata": {},
   "source": [
    "----\n",
    "# 3. Write a Python program to split and join a string?\n",
    "\n",
    "### Sol:"
   ]
  },
  {
   "cell_type": "code",
   "execution_count": 52,
   "id": "23a14acc",
   "metadata": {},
   "outputs": [
    {
     "name": "stdout",
     "output_type": "stream",
     "text": [
      "['Write', 'a', 'Python', 'program', 'to', 'split', 'and', 'join', 'a', 'string?']\n",
      "\n",
      " Write a Python program to split and join a string?\n"
     ]
    }
   ],
   "source": [
    "string = \"Write a Python program to split and join a string?\"\n",
    "\n",
    "split = string.split(\" \")\n",
    "print(split)\n",
    "\n",
    "join = \" \".join(split)\n",
    "print(f\"\\n {join}\")"
   ]
  },
  {
   "cell_type": "markdown",
   "id": "fdf5771c",
   "metadata": {},
   "source": [
    "----\n",
    "# 4. Write a Python to check if a given string is binary string or not?\n",
    "\n",
    "### Sol:"
   ]
  },
  {
   "cell_type": "code",
   "execution_count": 64,
   "id": "ab89ea94",
   "metadata": {},
   "outputs": [],
   "source": [
    "def binarycheck(s):\n",
    "    s = input(\"Enter the string: \")\n",
    "    binary = ['0','1']\n",
    "    \n",
    "    is_binary =True\n",
    "    for i in s:\n",
    "        if i not in binary:\n",
    "            is_binary =False\n",
    "            \n",
    "    if is_binary:\n",
    "        print(\"Binary\")\n",
    "        \n",
    "    else:\n",
    "        print(\"Not Binary\")\n",
    "    "
   ]
  },
  {
   "cell_type": "code",
   "execution_count": 65,
   "id": "1dc099fa",
   "metadata": {},
   "outputs": [
    {
     "name": "stdout",
     "output_type": "stream",
     "text": [
      "Enter the string: 10101\n",
      "Binary\n"
     ]
    }
   ],
   "source": [
    "binarycheck(s)"
   ]
  },
  {
   "cell_type": "code",
   "execution_count": 66,
   "id": "7a8978ea",
   "metadata": {},
   "outputs": [
    {
     "name": "stdout",
     "output_type": "stream",
     "text": [
      "Enter the string: sbsbfuub\n",
      "Not Binary\n"
     ]
    }
   ],
   "source": [
    "binarycheck(s)"
   ]
  },
  {
   "cell_type": "code",
   "execution_count": 67,
   "id": "45b1cffd",
   "metadata": {},
   "outputs": [
    {
     "name": "stdout",
     "output_type": "stream",
     "text": [
      "Enter the string: 1651649491\n",
      "Not Binary\n"
     ]
    }
   ],
   "source": [
    "binarycheck(s)"
   ]
  },
  {
   "cell_type": "markdown",
   "id": "4bf06321",
   "metadata": {},
   "source": [
    "-----\n",
    "# 5. Write a Python program to find uncommon words from two Strings?\n",
    "\n",
    "### Sol:"
   ]
  },
  {
   "cell_type": "code",
   "execution_count": 1,
   "id": "3efde2ef",
   "metadata": {},
   "outputs": [],
   "source": [
    "def uncomm(string1,string2):\n",
    "    string1 = string1.split(' ')\n",
    "    string2 = string2.split(' ')\n",
    "    uncommon = []\n",
    "    \n",
    "    for i in set(string1):\n",
    "        if i not in string2:\n",
    "            uncommon.append(i)\n",
    "            \n",
    "    for i in set(string2):\n",
    "        if i not in string1:\n",
    "            uncommon.append(i)\n",
    "            \n",
    "    return uncommon"
   ]
  },
  {
   "cell_type": "code",
   "execution_count": 4,
   "id": "4f0725ae",
   "metadata": {},
   "outputs": [
    {
     "data": {
      "text/plain": [
       "['My', 'name', 'Barish', 'What', 'your', 'name?']"
      ]
     },
     "execution_count": 4,
     "metadata": {},
     "output_type": "execute_result"
    }
   ],
   "source": [
    "string1 = \"My name is Barish\"\n",
    "string2 = \"What is your name?\"\n",
    "uncomm(string1,string2)"
   ]
  },
  {
   "cell_type": "markdown",
   "id": "275770c1",
   "metadata": {},
   "source": [
    "-----\n",
    "# 6. Write a Python program to find all duplicate characters in string?\n",
    "\n",
    "### Sol:"
   ]
  },
  {
   "cell_type": "code",
   "execution_count": 1,
   "id": "527b0688",
   "metadata": {},
   "outputs": [],
   "source": [
    "def dupli(string: str):\n",
    "    duplicate = []\n",
    "    for i in string:\n",
    "        if string.count(i) > 1:\n",
    "            duplicate.append(i)\n",
    "    return set(duplicate)"
   ]
  },
  {
   "cell_type": "code",
   "execution_count": 2,
   "id": "670ad656",
   "metadata": {},
   "outputs": [
    {
     "data": {
      "text/plain": [
       "{' ', 'a', 'c', 'd', 'e', 'f', 'i', 'l', 'n', 'r', 's', 't'}"
      ]
     },
     "execution_count": 2,
     "metadata": {},
     "output_type": "execute_result"
    }
   ],
   "source": [
    "dupli(\"find all duplicate characters from string\")"
   ]
  },
  {
   "cell_type": "markdown",
   "id": "b5f532ea",
   "metadata": {},
   "source": [
    "----\n",
    "# 7. Write a Python Program to check if a string contains any special character?\n",
    "\n",
    "### Sol:"
   ]
  },
  {
   "cell_type": "code",
   "execution_count": 1,
   "id": "584ca9b6",
   "metadata": {},
   "outputs": [
    {
     "name": "stdout",
     "output_type": "stream",
     "text": [
      "Enter a string: sdbsubu+-@#$%\n",
      "Given string contains special characters\n"
     ]
    }
   ],
   "source": [
    "import re\n",
    "\n",
    "\n",
    "string = input(\"Enter a string: \")\n",
    "regex = re.compile('[@_!#$%^&*()<>?/\\|}{~:]')  \n",
    "\n",
    "if(regex.search(string) == None):\n",
    "    print(\"Given string does not contain special characters\")\n",
    "else:\n",
    "    print(\"Given string contains special characters\")"
   ]
  },
  {
   "cell_type": "code",
   "execution_count": 2,
   "id": "88928dbe",
   "metadata": {},
   "outputs": [
    {
     "name": "stdout",
     "output_type": "stream",
     "text": [
      "Enter a string: fnbbdbgighgg\n",
      "Given string does not contain special characters\n"
     ]
    }
   ],
   "source": [
    "import re\n",
    "\n",
    "\n",
    "string = input(\"Enter a string: \")\n",
    "regex = re.compile('[@_!#$%^&*()<>?/\\|}{~:]')  \n",
    "\n",
    "if(regex.search(string) == None):\n",
    "    print(\"Given string does not contain special characters\")\n",
    "else:\n",
    "    print(\"Given string contains special characters\")"
   ]
  },
  {
   "cell_type": "code",
   "execution_count": null,
   "id": "6f2dec3d",
   "metadata": {},
   "outputs": [],
   "source": []
  }
 ],
 "metadata": {
  "kernelspec": {
   "display_name": "Python 3 (ipykernel)",
   "language": "python",
   "name": "python3"
  },
  "language_info": {
   "codemirror_mode": {
    "name": "ipython",
    "version": 3
   },
   "file_extension": ".py",
   "mimetype": "text/x-python",
   "name": "python",
   "nbconvert_exporter": "python",
   "pygments_lexer": "ipython3",
   "version": "3.9.7"
  }
 },
 "nbformat": 4,
 "nbformat_minor": 5
}
