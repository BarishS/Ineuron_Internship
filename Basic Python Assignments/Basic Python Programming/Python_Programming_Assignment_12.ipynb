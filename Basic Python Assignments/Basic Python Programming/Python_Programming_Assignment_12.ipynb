{
 "cells": [
  {
   "cell_type": "markdown",
   "id": "f19868aa",
   "metadata": {},
   "source": [
    "# 1. Write a Python program to Extract Unique values dictionary values?\n",
    "\n",
    "### Sol:"
   ]
  },
  {
   "cell_type": "code",
   "execution_count": 32,
   "id": "b137d681",
   "metadata": {},
   "outputs": [],
   "source": [
    "dict1 = {'key1' : 'barish', 'key2' : (1,2,3,4,5,6,8), 'key3' : 25, 'key4': 4j+52,'key5':25}"
   ]
  },
  {
   "cell_type": "code",
   "execution_count": 35,
   "id": "031878a8",
   "metadata": {},
   "outputs": [],
   "source": [
    "uniq_values = {i for i in dict1.values()}"
   ]
  },
  {
   "cell_type": "code",
   "execution_count": 36,
   "id": "c77e8ecf",
   "metadata": {},
   "outputs": [
    {
     "data": {
      "text/plain": [
       "{(1, 2, 3, 4, 5, 6, 8), (52+4j), 25, 'barish'}"
      ]
     },
     "execution_count": 36,
     "metadata": {},
     "output_type": "execute_result"
    }
   ],
   "source": [
    "uniq_values"
   ]
  },
  {
   "cell_type": "markdown",
   "id": "722cf875",
   "metadata": {},
   "source": [
    "----\n",
    "# 2. Write a Python program to find the sum of all items in a dictionary?\n",
    "\n",
    "### Sol:"
   ]
  },
  {
   "cell_type": "code",
   "execution_count": 42,
   "id": "3109a7df",
   "metadata": {},
   "outputs": [],
   "source": [
    "dict2 ={'k1' : 10,\n",
    "       'k2': 20,\n",
    "       'k3': 30,\n",
    "       'k4': 40}"
   ]
  },
  {
   "cell_type": "code",
   "execution_count": 43,
   "id": "5cea4cba",
   "metadata": {},
   "outputs": [
    {
     "name": "stdout",
     "output_type": "stream",
     "text": [
      "sum of all items in a dictionary: 100\n"
     ]
    }
   ],
   "source": [
    "sum = 0\n",
    "\n",
    "for i in dict2.values():\n",
    "    sum= sum + i\n",
    "    \n",
    "print(f\"sum of all items in a dictionary: {sum}\")"
   ]
  },
  {
   "cell_type": "markdown",
   "id": "2de4403a",
   "metadata": {},
   "source": [
    "-----\n",
    "# 3. Write a Python program to Merging two Dictionaries?\n",
    "\n",
    "### Sol:"
   ]
  },
  {
   "cell_type": "code",
   "execution_count": 44,
   "id": "e3ff1a10",
   "metadata": {},
   "outputs": [],
   "source": [
    "dict1 = {'key1' : 'barish', \n",
    "         'key2' : (1,2,3,4,5,6,8), \n",
    "         'key3' : 25, \n",
    "         'key4': 4j+52,\n",
    "         'key5':25}\n",
    "\n",
    "dict2 ={'k1' : 10,\n",
    "       'k2': 20,\n",
    "       'k3': 30,\n",
    "       'k4': 40}"
   ]
  },
  {
   "cell_type": "code",
   "execution_count": 46,
   "id": "09600bbc",
   "metadata": {},
   "outputs": [
    {
     "name": "stdout",
     "output_type": "stream",
     "text": [
      "{'key1': 'barish', 'key2': (1, 2, 3, 4, 5, 6, 8), 'key3': 25, 'key4': (52+4j), 'key5': 25, 'k1': 10, 'k2': 20, 'k3': 30, 'k4': 40}\n"
     ]
    }
   ],
   "source": [
    "for i in dict2.items():\n",
    "    dict1.setdefault(i[0], i[1])\n",
    "    \n",
    "print(dict1)"
   ]
  },
  {
   "cell_type": "markdown",
   "id": "7d48001e",
   "metadata": {},
   "source": [
    "-----\n",
    "# 4. Write a Python program to convert key-values list to flat dictionary?\n",
    "\n",
    "### Sol:"
   ]
  },
  {
   "cell_type": "code",
   "execution_count": 47,
   "id": "5aad06bd",
   "metadata": {},
   "outputs": [
    {
     "name": "stdout",
     "output_type": "stream",
     "text": [
      "Flattened dictionary : {1: 'Jan', 2: 'Feb', 3: 'March'}\n"
     ]
    }
   ],
   "source": [
    "test_dict = {'month' : [1, 2, 3], 'name' : ['Jan', 'Feb', 'March']}\n",
    "  \n",
    "# Using dict() + zip() to convert key-values list to flat dictionary\n",
    "res = dict(zip(test_dict['month'], test_dict['name']))\n",
    "\n",
    "print(\"Flattened dictionary : \" + str(res)) "
   ]
  },
  {
   "cell_type": "markdown",
   "id": "fe438e63",
   "metadata": {},
   "source": [
    "----\n",
    "# 5. Write a Python program to insertion at the beginning in OrderedDict?\n",
    "\n",
    "### Sol:"
   ]
  },
  {
   "cell_type": "code",
   "execution_count": 48,
   "id": "330cc6f9",
   "metadata": {},
   "outputs": [
    {
     "name": "stdout",
     "output_type": "stream",
     "text": [
      "Ordered Dictionary after insertion : OrderedDict([('Jan', '1'), ('Feb', '2'), ('Mar', '3')])\n"
     ]
    }
   ],
   "source": [
    "from collections import OrderedDict\n",
    "  \n",
    "# initialising ordered_dict\n",
    "iniordered_dict = OrderedDict([('Feb', '2'), ('Mar', '3')])\n",
    "  \n",
    "# inserting items in starting of dict \n",
    "iniordered_dict.update({'Jan':'1'})\n",
    "iniordered_dict.move_to_end('Jan', last = False)\n",
    "  \n",
    "# print result\n",
    "print (\"Ordered Dictionary after insertion : \"+str(iniordered_dict))"
   ]
  },
  {
   "cell_type": "markdown",
   "id": "8376d935",
   "metadata": {},
   "source": [
    "-----\n",
    "# 6. Write a Python program to check order of character in string using OrderedDict()?\n",
    "\n",
    "### Sol:"
   ]
  },
  {
   "cell_type": "code",
   "execution_count": null,
   "id": "c9766c9c",
   "metadata": {},
   "outputs": [],
   "source": [
    "# from collections import OrderedDict \n",
    "  \n",
    "def checkOrderofString(str, pattern): \n",
    "      \n",
    "    # create empty OrderedDict \n",
    "    dict = OrderedDict.fromkeys(str) \n",
    "    print(dict)   \n",
    "    ptrlen = 0\n",
    "    for key,value in dict.items(): \n",
    "        \n",
    "        if (key == pattern[ptrlen]): \n",
    "            ptrlen = ptrlen + 1\n",
    "          \n",
    "        # check if we have traverse complete pattern string \n",
    "        if (ptrlen == (len(pattern))):            \n",
    "            return 'true'\n",
    "  \n",
    "    # if we come out from for loop that means order was mismatched \n",
    "    return 'false'\n",
    "  \n",
    "\n",
    "string = input(\"enter string : \")\n",
    "pattern = input(\"Enter Pattern : \")\n",
    "if checkOrderofString(string,pattern):\n",
    "    print(\"Pattern matched\")\n",
    "else:\n",
    "    print(\"Pattern not matched\")"
   ]
  },
  {
   "cell_type": "markdown",
   "id": "2a8fcd05",
   "metadata": {},
   "source": [
    "-----\n",
    "# 7. Write a Python program to sort Python Dictionaries by Key or Value?\n",
    "\n",
    "### Sol:"
   ]
  },
  {
   "cell_type": "code",
   "execution_count": 50,
   "id": "1098e6de",
   "metadata": {},
   "outputs": [
    {
     "name": "stdout",
     "output_type": "stream",
     "text": [
      "['4', '6', 'k1', 'k2', 'k3', 'key7']\n",
      "[('4', 4), ('6', 6), ('k1', 2), ('k2', 1), ('k3', 3), ('key7', 7)]\n",
      "[1, 2, 3, 4, 6, 7]\n"
     ]
    }
   ],
   "source": [
    "a = {'k1':2, 'k2':1, 'k3':3, '4':4 ,'6':6, 'key7':7}\n",
    "#this will print a sorted list of the keys\n",
    "print(sorted(a.keys()))\n",
    "#this will print the sorted list with items.\n",
    "print(sorted(a.items()))\n",
    "#a = {1:2 ,2:1 ,4:3 ,3:4 ,6:5 ,5:6 }\n",
    "print(sorted(a.values()))\n",
    "#this will print a sorted list of values."
   ]
  },
  {
   "cell_type": "code",
   "execution_count": null,
   "id": "ed19590d",
   "metadata": {},
   "outputs": [],
   "source": []
  }
 ],
 "metadata": {
  "kernelspec": {
   "display_name": "Python 3 (ipykernel)",
   "language": "python",
   "name": "python3"
  },
  "language_info": {
   "codemirror_mode": {
    "name": "ipython",
    "version": 3
   },
   "file_extension": ".py",
   "mimetype": "text/x-python",
   "name": "python",
   "nbconvert_exporter": "python",
   "pygments_lexer": "ipython3",
   "version": "3.9.7"
  }
 },
 "nbformat": 4,
 "nbformat_minor": 5
}
