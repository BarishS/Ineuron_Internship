{
 "cells": [
  {
   "cell_type": "markdown",
   "id": "d1e2bb6e",
   "metadata": {},
   "source": [
    "# 1. Write a program that calculates and prints the value according to the given formula:\n",
    "\n",
    "Q = Square root of [(2 C D)/H]\n",
    "\n",
    "Following are the fixed values of C and H:\n",
    "\n",
    "C is 50. H is 30.\n",
    "\n",
    "D is the variable whose values should be input to your program in a comma-separated sequence.\n",
    "\n",
    "Example\n",
    "\n",
    "Let us assume the following comma separated input sequence is given to the program:\n",
    "\n",
    "100,150,180\n",
    "\n",
    "The output of the program should be:\n",
    "\n",
    "18,22,24\n",
    "\n",
    "### Sol:"
   ]
  },
  {
   "cell_type": "code",
   "execution_count": 1,
   "id": "4fe870e8",
   "metadata": {},
   "outputs": [
    {
     "name": "stdout",
     "output_type": "stream",
     "text": [
      "Enter the comma separated numbers input : 100,150,200\n",
      "[18, 22, 25]\n"
     ]
    }
   ],
   "source": [
    "import math\n",
    "def calculate(args):\n",
    "    C= 50\n",
    "    H= 30\n",
    "    result = []\n",
    "    for i in args:\n",
    "        result.append(int(math.sqrt((2*C*int(i))/H)))\n",
    "        \n",
    "    print(result)\n",
    "    \n",
    "inp =list(input(\"Enter the comma separated numbers input : \").split(','))\n",
    "calculate(inp)"
   ]
  },
  {
   "cell_type": "markdown",
   "id": "6c21481b",
   "metadata": {},
   "source": [
    "----\n",
    "# 2.  Write a program which takes 2 digits, X,Y as input and generates a 2-dimensional array. The element value in the i-th row and j-th column of the array should be i*j.\n",
    "\n",
    "### Sol:"
   ]
  },
  {
   "cell_type": "code",
   "execution_count": 6,
   "id": "eef251b2",
   "metadata": {},
   "outputs": [
    {
     "name": "stdout",
     "output_type": "stream",
     "text": [
      "Enter the value of X : 2\n",
      "Enter the value of Y : 3\n",
      "[[0, 0, 0], [0, 1, 2]]\n"
     ]
    }
   ],
   "source": [
    "X =int(input(\"Enter the value of X : \"))\n",
    "Y =int(input(\"Enter the value of Y : \"))\n",
    "\n",
    "array = [ ]\n",
    "for i in range(X):\n",
    "    row = []\n",
    "    for j in range(Y):\n",
    "        row.append(i*j)\n",
    "    array.append(row)\n",
    "    \n",
    "print(array)"
   ]
  },
  {
   "cell_type": "markdown",
   "id": "efc4b454",
   "metadata": {},
   "source": [
    "---\n",
    "# 3. Write a program that accepts a comma separated sequence of words as input and prints the words in a comma-separated sequence after sorting them alphabetically.\n",
    "\n",
    "### Sol:"
   ]
  },
  {
   "cell_type": "code",
   "execution_count": 9,
   "id": "b6394272",
   "metadata": {},
   "outputs": [
    {
     "name": "stdout",
     "output_type": "stream",
     "text": [
      "Enter the comma Seperated words: i am the student of nov-29 data scientist batch\n",
      "am batch data i nov-29 of scientist student the\n"
     ]
    }
   ],
   "source": [
    "words = list(input(\"Enter the comma Seperated words: \").split(' '))\n",
    "words.sort()\n",
    "print(' '.join(words))\n"
   ]
  },
  {
   "cell_type": "markdown",
   "id": "dd8d2ad8",
   "metadata": {},
   "source": [
    "----\n",
    "# 5. Write a program that accepts a sentence and calculate the number of letters and digits\n",
    "\n",
    "### Sol:"
   ]
  },
  {
   "cell_type": "code",
   "execution_count": 10,
   "id": "7319b2b2",
   "metadata": {},
   "outputs": [
    {
     "name": "stdout",
     "output_type": "stream",
     "text": [
      "Enter the sentence : i am the 1st data scientist in my generation\n",
      "LETTERS 35\n",
      "DIGITS 1\n"
     ]
    }
   ],
   "source": [
    "sentence = input(\"Enter the sentence : \")\n",
    "letters = 0\n",
    "digits = 0\n",
    "for c in sentence:\n",
    "    if (ord(c) >= ord('a') and ord(c) <= ord('z')) or (ord(c) >= ord('A') and ord(c) <= ord('Z')):\n",
    "        letters += 1\n",
    "    elif ord(c) >= ord('0') and ord(c) <= ord('9'):\n",
    "        digits += 1\n",
    "print(\"LETTERS {}\".format(letters))\n",
    "print(\"DIGITS {}\".format(digits))"
   ]
  },
  {
   "cell_type": "markdown",
   "id": "2d654064",
   "metadata": {},
   "source": [
    "---\n",
    "# 6.A website requires the users to input username and password to register. Write a program to check the validity of password input by users\n",
    "\n",
    "### Sol:"
   ]
  },
  {
   "cell_type": "code",
   "execution_count": 29,
   "id": "2c573130",
   "metadata": {},
   "outputs": [
    {
     "name": "stdout",
     "output_type": "stream",
     "text": [
      "Enter the comma seperated passwords: sdbfjsbf@@55,Akas14@25,5555@sdfbAA,AAAA@@@5555###\n",
      "5555@sdfbAA,Akas14@25\n"
     ]
    }
   ],
   "source": [
    "def check_smallcase(password):\n",
    "    check = False\n",
    "    for s in password:\n",
    "        if ord(s) >= ord('a') and ord(s) <=ord('z'):\n",
    "            check = True\n",
    "            break\n",
    "    return check\n",
    "\n",
    "def check_uppercase(password):\n",
    "    check = False\n",
    "    for u in password:\n",
    "        if ord(u) >= ord('A') and ord(u) <= ord('Z'):\n",
    "            check = True\n",
    "            break\n",
    "    return check\n",
    "\n",
    "def check_digit(password):\n",
    "    check = False\n",
    "    for d in password:\n",
    "        if ord(d) >= ord('1') and ord(d) <= ord('9'):\n",
    "            check = True\n",
    "            break\n",
    "    return check\n",
    "\n",
    "def check_specialchars(password):\n",
    "    check = False\n",
    "    specials = \"!@#$%^&*()_+=->;,:/?`\"\n",
    "    for p in password:\n",
    "        if p in specials:\n",
    "            check = True\n",
    "            break\n",
    "    return check\n",
    "\n",
    "def check_minlength(password):\n",
    "    return len(password) >= 6\n",
    "\n",
    "def chek_maxlength(password):\n",
    "    return len(password) <=12\n",
    "\n",
    "passwords = list(set(input(\"Enter the comma seperated passwords: \").split(',')))\n",
    "valid_passwords = []\n",
    "\n",
    "for password in passwords:\n",
    "    if check_smallcase(password) and check_uppercase(password) and check_digit(password) and check_specialchars(password) and check_minlength(password) and chek_maxlength(password):\n",
    "        valid_passwords.append(password)\n",
    "        \n",
    "print(','.join(valid_passwords))"
   ]
  },
  {
   "cell_type": "code",
   "execution_count": null,
   "id": "8329a708",
   "metadata": {},
   "outputs": [],
   "source": []
  }
 ],
 "metadata": {
  "kernelspec": {
   "display_name": "Python 3 (ipykernel)",
   "language": "python",
   "name": "python3"
  },
  "language_info": {
   "codemirror_mode": {
    "name": "ipython",
    "version": 3
   },
   "file_extension": ".py",
   "mimetype": "text/x-python",
   "name": "python",
   "nbconvert_exporter": "python",
   "pygments_lexer": "ipython3",
   "version": "3.9.7"
  }
 },
 "nbformat": 4,
 "nbformat_minor": 5
}
