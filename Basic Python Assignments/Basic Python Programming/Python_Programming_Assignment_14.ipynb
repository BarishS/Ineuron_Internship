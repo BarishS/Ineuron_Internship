{
 "cells": [
  {
   "cell_type": "markdown",
   "id": "eac661f7",
   "metadata": {},
   "source": [
    "# 1. Define a class with a generator which can iterate the numbers, which are divisible by 7, between a given range 0 and n.\n",
    "\n",
    "### Sol:"
   ]
  },
  {
   "cell_type": "code",
   "execution_count": 4,
   "id": "2b339ba8",
   "metadata": {},
   "outputs": [],
   "source": [
    "class task1:\n",
    "    def gen(self,n):\n",
    "        for i in range(n+1):\n",
    "            if i % 7 == 0:\n",
    "                yield i"
   ]
  },
  {
   "cell_type": "code",
   "execution_count": 6,
   "id": "6331e587",
   "metadata": {},
   "outputs": [],
   "source": [
    "num = task1()"
   ]
  },
  {
   "cell_type": "code",
   "execution_count": 14,
   "id": "369fc43a",
   "metadata": {},
   "outputs": [
    {
     "name": "stdout",
     "output_type": "stream",
     "text": [
      "[0, 7, 14, 21, 28, 35, 42, 49, 56, 63, 70, 77, 84, 91, 98]\n"
     ]
    }
   ],
   "source": [
    "ans =[]\n",
    "for i in num.gen(100):\n",
    "    ans.append(i)\n",
    "print(ans)\n"
   ]
  },
  {
   "cell_type": "code",
   "execution_count": 15,
   "id": "9524a575",
   "metadata": {},
   "outputs": [
    {
     "data": {
      "text/plain": [
       "[0, 7, 14, 21, 28, 35, 42, 49, 56, 63, 70, 77, 84, 91, 98]"
      ]
     },
     "execution_count": 15,
     "metadata": {},
     "output_type": "execute_result"
    }
   ],
   "source": [
    "#alternative\n",
    "[i for i in num.gen(100)]"
   ]
  },
  {
   "cell_type": "markdown",
   "id": "a509c8f7",
   "metadata": {},
   "source": [
    "-----\n",
    "# 2. Write a program to compute the frequency of the words from the input. The output should output after sorting the key alphanumerically.\n",
    "\n",
    "### Sol:"
   ]
  },
  {
   "cell_type": "code",
   "execution_count": 16,
   "id": "9141dd1b",
   "metadata": {},
   "outputs": [],
   "source": [
    "def task2(string: str):\n",
    "    \n",
    "    string_list = string.split(' ')\n",
    "    out_dict = {}\n",
    "    \n",
    "    for s in string_list:\n",
    "        if s in out_dict.keys():\n",
    "            out_dict[s] += 1\n",
    "        else:\n",
    "            out_dict[s] = 1\n",
    "            \n",
    "    for k, v in sorted(out_dict.items()):\n",
    "        print(k, ':', v)"
   ]
  },
  {
   "cell_type": "code",
   "execution_count": 21,
   "id": "be22e432",
   "metadata": {},
   "outputs": [
    {
     "name": "stdout",
     "output_type": "stream",
     "text": [
      "1 : 1\n",
      "but : 2\n",
      "cry : 1\n",
      "dont : 1\n",
      "try : 2\n",
      "try1 : 1\n"
     ]
    }
   ],
   "source": [
    "string = \"try 1 try1 try but but dont cry\"\n",
    "task2(string)"
   ]
  },
  {
   "cell_type": "markdown",
   "id": "8b725565",
   "metadata": {},
   "source": [
    "----\n",
    "# 3. Define a class Person and its two child classes: Male and Female. All classes have a method \"getGender\" which can print \"Male\" for Male class and \"Female\" for Female class.\n",
    "\n",
    "### Sol:"
   ]
  },
  {
   "cell_type": "code",
   "execution_count": 27,
   "id": "e24bd7fb",
   "metadata": {},
   "outputs": [],
   "source": [
    "class Person:\n",
    "    def getgender(self):\n",
    "        pass\n",
    "\n",
    "class Male_class(Person):\n",
    "    def getgender(self):\n",
    "        print(\"Male\")\n",
    "        \n",
    "class Female_class(Person):\n",
    "    def getgender(self):\n",
    "        print(\"Female\")\n",
    "        "
   ]
  },
  {
   "cell_type": "code",
   "execution_count": 28,
   "id": "0ee1769b",
   "metadata": {},
   "outputs": [
    {
     "name": "stdout",
     "output_type": "stream",
     "text": [
      "Male\n",
      "Female\n"
     ]
    }
   ],
   "source": [
    "male =Male_class()\n",
    "female =Female_class()\n",
    "male.getgender()\n",
    "female.getgender()"
   ]
  },
  {
   "cell_type": "markdown",
   "id": "65dbfd8b",
   "metadata": {},
   "source": [
    "----\n",
    "# 4. Please write a program to generate all sentences where subject is in [\"I\", \"You\"] and verb is in ['Play', \"Love\"] and the object is in [\"Hockey\",\"Football\"].\n",
    "\n",
    "### Sol:"
   ]
  },
  {
   "cell_type": "code",
   "execution_count": 29,
   "id": "4e7f828e",
   "metadata": {},
   "outputs": [
    {
     "name": "stdout",
     "output_type": "stream",
     "text": [
      "I Play Hockey\n",
      "I Play Football\n",
      "I Love Hockey\n",
      "I Love Football\n",
      "You Play Hockey\n",
      "You Play Football\n",
      "You Love Hockey\n",
      "You Love Football\n"
     ]
    }
   ],
   "source": [
    "subj = [ \"I\" , \"You\"]\n",
    "verb = [ \"Play\" , \"Love\"]\n",
    "obj = [ \"Hockey\" , \"Football\"]\n",
    "\n",
    "final_sent = []\n",
    "\n",
    "for i in subj:\n",
    "    for j in verb:\n",
    "        for k in obj:\n",
    "            final_sent.append(i + \" \" + j + \" \" + k)\n",
    "            \n",
    "for sent in final_sent:\n",
    "    print(sent)"
   ]
  },
  {
   "cell_type": "markdown",
   "id": "1caf8c9a",
   "metadata": {},
   "source": [
    "----\n",
    "# 5. Please write a program to compress and decompress the string \"hello world!hello world!hello world!hello world!\"\n",
    "\n",
    "### Sol:"
   ]
  },
  {
   "cell_type": "code",
   "execution_count": 32,
   "id": "231cfaa0",
   "metadata": {},
   "outputs": [
    {
     "name": "stdout",
     "output_type": "stream",
     "text": [
      "Compressed string is: b'x\\x9c\\xcbH\\xcd\\xc9\\xc9W(\\xcf/\\xcaIQ\\xcc \\x82\\r\\x00\\xbd[\\x11\\xf5'\n",
      "Decompressed string is: b'hello world!hello world!hello world!hello world!'\n"
     ]
    }
   ],
   "source": [
    "import zlib\n",
    "\n",
    "s= 'hello world!hello world!hello world!hello world!'\n",
    "\n",
    "compress_string = zlib.compress(bytes(s, 'utf-8'))\n",
    "\n",
    "print(f\"Compressed string is: {compress_string}\")\n",
    "print(f\"Decompressed string is: {zlib.decompress(compress_string)}\")"
   ]
  },
  {
   "cell_type": "markdown",
   "id": "a98dcdb3",
   "metadata": {},
   "source": [
    "-----\n",
    "# 6. Please write a binary search function which searches an item in a sorted list. The function should return the index of element to be searched in the list.\n",
    "\n",
    "### Sol:"
   ]
  },
  {
   "cell_type": "code",
   "execution_count": 33,
   "id": "29c419a0",
   "metadata": {},
   "outputs": [],
   "source": [
    "def binarySearch(list1, n):  \n",
    "    \n",
    "    \n",
    "    low = 0  \n",
    "    high = len(list1) - 1  \n",
    "    mid = 0  \n",
    "  \n",
    "    while low <= high:  \n",
    "        mid = (high + low) // 2  \n",
    "        if list1[mid] < n:  \n",
    "            low = mid + 1  \n",
    "        elif list1[mid] > n:  \n",
    "            high = mid - 1  \n",
    "        else:  \n",
    "            return mid  \n",
    "    return -1"
   ]
  },
  {
   "cell_type": "code",
   "execution_count": 41,
   "id": "9619c554",
   "metadata": {},
   "outputs": [
    {
     "data": {
      "text/plain": [
       "4"
      ]
     },
     "execution_count": 41,
     "metadata": {},
     "output_type": "execute_result"
    }
   ],
   "source": [
    "list1 = [1,2,5,3,5,15,1010]\n",
    "binarySearch(list1,5)"
   ]
  },
  {
   "cell_type": "code",
   "execution_count": null,
   "id": "44f801b1",
   "metadata": {},
   "outputs": [],
   "source": []
  }
 ],
 "metadata": {
  "kernelspec": {
   "display_name": "Python 3 (ipykernel)",
   "language": "python",
   "name": "python3"
  },
  "language_info": {
   "codemirror_mode": {
    "name": "ipython",
    "version": 3
   },
   "file_extension": ".py",
   "mimetype": "text/x-python",
   "name": "python",
   "nbconvert_exporter": "python",
   "pygments_lexer": "ipython3",
   "version": "3.9.7"
  }
 },
 "nbformat": 4,
 "nbformat_minor": 5
}
