{
 "cells": [
  {
   "cell_type": "markdown",
   "id": "aca58ebd",
   "metadata": {},
   "source": [
    "# 1. Please write a program using generator to print the numbers which can be divisible by 5 and 7 between 0 and n in comma separated form while n is input by console.\n",
    "\n",
    "### Sol:"
   ]
  },
  {
   "cell_type": "code",
   "execution_count": 39,
   "id": "0827f818",
   "metadata": {},
   "outputs": [],
   "source": [
    "def task1(n):\n",
    "    for i in range(n):\n",
    "        if i % 5 == 0 and i % 7 ==0:\n",
    "            yield str(i)+ ' '\n"
   ]
  },
  {
   "cell_type": "code",
   "execution_count": 40,
   "id": "91070d2d",
   "metadata": {},
   "outputs": [
    {
     "data": {
      "text/plain": [
       "<generator object task1 at 0x000001D02928A7B0>"
      ]
     },
     "execution_count": 40,
     "metadata": {},
     "output_type": "execute_result"
    }
   ],
   "source": [
    "task1(100)"
   ]
  },
  {
   "cell_type": "code",
   "execution_count": 41,
   "id": "7d750682",
   "metadata": {},
   "outputs": [
    {
     "name": "stdout",
     "output_type": "stream",
     "text": [
      "0 ,35 ,70 ,105 ,140 ,175 \n"
     ]
    }
   ],
   "source": [
    "print(','.join(task1(200)))"
   ]
  },
  {
   "cell_type": "markdown",
   "id": "832bc42a",
   "metadata": {},
   "source": [
    "----\n",
    "# 2. Please write a program using generator to print the even numbers between 0 and n in comma separated form while n is input by console\n",
    "\n",
    "### Sol:"
   ]
  },
  {
   "cell_type": "code",
   "execution_count": 51,
   "id": "22944a7a",
   "metadata": {},
   "outputs": [],
   "source": [
    "def task2(n):\n",
    "    for i in range(n):\n",
    "        if i % 2 == 0:\n",
    "            yield str(i)"
   ]
  },
  {
   "cell_type": "code",
   "execution_count": 52,
   "id": "6363a86e",
   "metadata": {},
   "outputs": [
    {
     "name": "stdout",
     "output_type": "stream",
     "text": [
      "0,2,4,6,8,10,12,14,16,18,20,22,24,26,28,30,32,34,36,38,40,42,44,46,48,50,52,54,56,58,60,62,64,66,68,70,72,74,76,78,80,82,84,86,88,90,92,94,96,98\n"
     ]
    }
   ],
   "source": [
    "print(','.join(task2(100)))"
   ]
  },
  {
   "cell_type": "markdown",
   "id": "2e884816",
   "metadata": {},
   "source": [
    "----\n",
    "# 3. Please write a program using list comprehension to print the Fibonacci Sequence in comma separated form with a given n input by console.\n",
    "\n",
    "### Sol:"
   ]
  },
  {
   "cell_type": "code",
   "execution_count": 58,
   "id": "6d296cfa",
   "metadata": {},
   "outputs": [
    {
     "name": "stdout",
     "output_type": "stream",
     "text": [
      "0,1,1,2,3,5,8,13,21,34,55\n"
     ]
    }
   ],
   "source": [
    "def task3(n):\n",
    "    i = 0\n",
    "    j = 1\n",
    "    for k in range(n+1):\n",
    "        yield str(i)\n",
    "        i,j = j, i+j\n",
    "        \n",
    "print(','.join(task3(10)))"
   ]
  },
  {
   "cell_type": "markdown",
   "id": "b8933c90",
   "metadata": {},
   "source": [
    "----\n",
    "# 4. Assuming that we have some email addresses in the \"username@companyname.com\" format, please write program to print the user name of a given email address. Both user names and company names are composed of letters only.\n",
    "\n",
    "### Sol:"
   ]
  },
  {
   "cell_type": "code",
   "execution_count": 59,
   "id": "18fa6d4e",
   "metadata": {},
   "outputs": [],
   "source": [
    "def task4(email):\n",
    "    return email.split('@')[0]"
   ]
  },
  {
   "cell_type": "code",
   "execution_count": 63,
   "id": "3ef1cc6e",
   "metadata": {},
   "outputs": [
    {
     "data": {
      "text/plain": [
       "'barish'"
      ]
     },
     "execution_count": 63,
     "metadata": {},
     "output_type": "execute_result"
    }
   ],
   "source": [
    "task4('barish@gamil.com')"
   ]
  },
  {
   "cell_type": "markdown",
   "id": "b96aebdc",
   "metadata": {},
   "source": [
    "-----\n",
    "# 5.  Define a class named Shape and its subclass Square. The Square class has an init function which takes a length as argument. Both classes have a area function which can print the area of the shape where Shape's area is 0 by default.\n",
    "\n",
    "### Sol:"
   ]
  },
  {
   "cell_type": "code",
   "execution_count": 83,
   "id": "080ccc0f",
   "metadata": {},
   "outputs": [],
   "source": [
    "class shape():\n",
    "    def __init__(self,length):\n",
    "        self.length = length\n",
    "        \n",
    "    def area(self):\n",
    "        return 0\n",
    "    \n",
    "class square(shape):\n",
    "    def area(self):\n",
    "        return self.length*self.length"
   ]
  },
  {
   "cell_type": "code",
   "execution_count": 84,
   "id": "929ebf2f",
   "metadata": {},
   "outputs": [
    {
     "data": {
      "text/plain": [
       "0"
      ]
     },
     "execution_count": 84,
     "metadata": {},
     "output_type": "execute_result"
    }
   ],
   "source": [
    "shape_obj = shape(5)\n",
    "\n",
    "shape_obj.area()"
   ]
  },
  {
   "cell_type": "code",
   "execution_count": 85,
   "id": "58ef0745",
   "metadata": {},
   "outputs": [
    {
     "data": {
      "text/plain": [
       "100"
      ]
     },
     "execution_count": 85,
     "metadata": {},
     "output_type": "execute_result"
    }
   ],
   "source": [
    "square_obj = square(10)\n",
    "\n",
    "square_obj.area()"
   ]
  },
  {
   "cell_type": "code",
   "execution_count": null,
   "id": "e1c9f108",
   "metadata": {},
   "outputs": [],
   "source": []
  }
 ],
 "metadata": {
  "kernelspec": {
   "display_name": "Python 3 (ipykernel)",
   "language": "python",
   "name": "python3"
  },
  "language_info": {
   "codemirror_mode": {
    "name": "ipython",
    "version": 3
   },
   "file_extension": ".py",
   "mimetype": "text/x-python",
   "name": "python",
   "nbconvert_exporter": "python",
   "pygments_lexer": "ipython3",
   "version": "3.9.7"
  }
 },
 "nbformat": 4,
 "nbformat_minor": 5
}
