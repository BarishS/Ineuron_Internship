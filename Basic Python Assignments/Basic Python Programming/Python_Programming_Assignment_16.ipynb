{
 "cells": [
  {
   "cell_type": "markdown",
   "id": "b00b9ced",
   "metadata": {},
   "source": [
    "# 1. Write a function that stutters a word as if someone is struggling to read it. The first two letters are repeated twice with an ellipsis ... and space after each, and then the word is pronounced with a question mark ?. Examples stutter('incredible') ➞ 'in... in... incredible?' stutter('enthusiastic') ➞ 'en... en... enthusiastic?' stutter('outstanding') ➞ 'ou... ou... outstanding?'\n",
    "\n",
    "## Hint :- Assume all input is in lower case and at least two characters long."
   ]
  },
  {
   "cell_type": "code",
   "execution_count": 1,
   "id": "9c7e720e",
   "metadata": {},
   "outputs": [
    {
     "name": "stdout",
     "output_type": "stream",
     "text": [
      "in...in...incredible?\n",
      "en...en...enthusiastic?\n",
      "ou...ou...outstanding?\n"
     ]
    }
   ],
   "source": [
    "def stutter(word:str):\n",
    "    print(f\"{word[:2]}...{word[:2]}...{word}?\")\n",
    "    \n",
    "stutter(\"incredible\")\n",
    "stutter(\"enthusiastic\")\n",
    "stutter(\"outstanding\")"
   ]
  },
  {
   "cell_type": "markdown",
   "id": "6bc17206",
   "metadata": {},
   "source": [
    "-----\n",
    "# 2. Create a function that takes an angle in radians and returns the corresponding angle in degrees rounded to one decimal place\n",
    "\n",
    "### Sol:"
   ]
  },
  {
   "cell_type": "code",
   "execution_count": 3,
   "id": "12038091",
   "metadata": {},
   "outputs": [
    {
     "name": "stdout",
     "output_type": "stream",
     "text": [
      "57\n",
      "1146\n",
      "2865\n",
      "2120\n"
     ]
    }
   ],
   "source": [
    "def angle(n):\n",
    "    return round(57.295779513 * n * 1)\n",
    "\n",
    "print(angle(1))\n",
    "print(angle(20))\n",
    "print(angle(50))\n",
    "print(angle(37))\n"
   ]
  },
  {
   "cell_type": "markdown",
   "id": "9ec6c732",
   "metadata": {},
   "source": [
    "----\n",
    "# 3. In this challenge, establish if a given integer num is a Curzon number. If 1 plus 2 elevated to num is exactly divisible by 1 plus 2 multiplied by num, then num is a Curzon number. Given a non-negative integer num, implement a function that returns True if num is a Curzon number, or False otherwise.\n",
    "\n",
    "### Sol:"
   ]
  },
  {
   "cell_type": "code",
   "execution_count": 6,
   "id": "da756a17",
   "metadata": {},
   "outputs": [],
   "source": [
    "def curzon(n):\n",
    "    if (1 + 2 ** n) % (1 + 2 * n) == 0:\n",
    "        return True\n",
    "    \n",
    "    return False"
   ]
  },
  {
   "cell_type": "code",
   "execution_count": 7,
   "id": "cc923a7a",
   "metadata": {},
   "outputs": [
    {
     "name": "stdout",
     "output_type": "stream",
     "text": [
      "False\n"
     ]
    }
   ],
   "source": [
    "print(curzon(10))"
   ]
  },
  {
   "cell_type": "code",
   "execution_count": 8,
   "id": "6a1516be",
   "metadata": {},
   "outputs": [
    {
     "name": "stdout",
     "output_type": "stream",
     "text": [
      "True\n"
     ]
    }
   ],
   "source": [
    "print(curzon(2))"
   ]
  },
  {
   "cell_type": "markdown",
   "id": "0fb9b8bb",
   "metadata": {},
   "source": [
    "-----\n",
    "# 4. Given the side length x find the area of a hexagon.\n",
    "\n",
    "### Sol:"
   ]
  },
  {
   "cell_type": "code",
   "execution_count": 15,
   "id": "ec07f530",
   "metadata": {},
   "outputs": [
    {
     "name": "stdout",
     "output_type": "stream",
     "text": [
      "65.0\n",
      "93.5\n",
      "374.1\n"
     ]
    }
   ],
   "source": [
    "import math\n",
    "\n",
    "def area_of_hexa(n):\n",
    "    area = 3 * math.sqrt(3) * 0.5 * n * n\n",
    "    return round(area, 1)\n",
    "\n",
    "print(area_of_hexa(5))\n",
    "print(area_of_hexa(6))\n",
    "print(area_of_hexa(12))"
   ]
  },
  {
   "cell_type": "markdown",
   "id": "b5c58a33",
   "metadata": {},
   "source": [
    "-----\n",
    "# 5. Create a function that returns a base-2 (binary) representation of a base-10 (decimal) string number. To convert is simple: ((2) means base-2 and (10) means base-10) 010101001(2) = 1 + 8 + 32 + 128.\n",
    "\n",
    "### Sol:"
   ]
  },
  {
   "cell_type": "code",
   "execution_count": 19,
   "id": "a31cf4ca",
   "metadata": {},
   "outputs": [
    {
     "name": "stdout",
     "output_type": "stream",
     "text": [
      "10\n",
      "101\n",
      "1010\n"
     ]
    }
   ],
   "source": [
    "def binary(n):\n",
    "    return \"{0:b}\".format(int(n))\n",
    "\n",
    "print(binary(2))\n",
    "print(binary(5))\n",
    "print(binary(10))"
   ]
  },
  {
   "cell_type": "code",
   "execution_count": null,
   "id": "037feb27",
   "metadata": {},
   "outputs": [],
   "source": []
  }
 ],
 "metadata": {
  "kernelspec": {
   "display_name": "Python 3 (ipykernel)",
   "language": "python",
   "name": "python3"
  },
  "language_info": {
   "codemirror_mode": {
    "name": "ipython",
    "version": 3
   },
   "file_extension": ".py",
   "mimetype": "text/x-python",
   "name": "python",
   "nbconvert_exporter": "python",
   "pygments_lexer": "ipython3",
   "version": "3.9.7"
  }
 },
 "nbformat": 4,
 "nbformat_minor": 5
}
