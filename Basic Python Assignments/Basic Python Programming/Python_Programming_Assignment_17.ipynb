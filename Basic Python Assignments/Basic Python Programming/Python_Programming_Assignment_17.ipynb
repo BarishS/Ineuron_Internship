{
 "cells": [
  {
   "cell_type": "markdown",
   "id": "51b1e356",
   "metadata": {},
   "source": [
    "# 1. Create a function that takes three arguments a, b, c and returns the sum of the numbers that are evenly divided by c from the range a, b inclusive.\n",
    "\n",
    "### Sol:"
   ]
  },
  {
   "cell_type": "code",
   "execution_count": 1,
   "id": "aa1eb49f",
   "metadata": {},
   "outputs": [],
   "source": [
    "def task1(a,b,c):\n",
    "    total = 0\n",
    "    \n",
    "    for i in range(a,b +1):\n",
    "        if i % c == 0:\n",
    "            total+= i\n",
    "            \n",
    "    return total"
   ]
  },
  {
   "cell_type": "code",
   "execution_count": 7,
   "id": "c4ce6883",
   "metadata": {},
   "outputs": [
    {
     "data": {
      "text/plain": [
       "0"
      ]
     },
     "execution_count": 7,
     "metadata": {},
     "output_type": "execute_result"
    }
   ],
   "source": [
    "task1(1,2,3)"
   ]
  },
  {
   "cell_type": "code",
   "execution_count": 6,
   "id": "d443e915",
   "metadata": {},
   "outputs": [
    {
     "data": {
      "text/plain": [
       "0"
      ]
     },
     "execution_count": 6,
     "metadata": {},
     "output_type": "execute_result"
    }
   ],
   "source": [
    "task1(1,20,30)"
   ]
  },
  {
   "cell_type": "code",
   "execution_count": 5,
   "id": "80793bca",
   "metadata": {},
   "outputs": [
    {
     "data": {
      "text/plain": [
       "30"
      ]
     },
     "execution_count": 5,
     "metadata": {},
     "output_type": "execute_result"
    }
   ],
   "source": [
    "task1(1,10,2)"
   ]
  },
  {
   "cell_type": "code",
   "execution_count": 8,
   "id": "3834e5d5",
   "metadata": {},
   "outputs": [
    {
     "data": {
      "text/plain": [
       "12"
      ]
     },
     "execution_count": 8,
     "metadata": {},
     "output_type": "execute_result"
    }
   ],
   "source": [
    "task1(1,10,4)"
   ]
  },
  {
   "cell_type": "markdown",
   "id": "0d71bde0",
   "metadata": {},
   "source": [
    "----\n",
    "# 2. Create a function that returns True if a given inequality expression is correct and False otherwise.\n",
    "\n",
    "### Sol:"
   ]
  },
  {
   "cell_type": "code",
   "execution_count": 9,
   "id": "9c217914",
   "metadata": {},
   "outputs": [
    {
     "name": "stdout",
     "output_type": "stream",
     "text": [
      "True\n",
      "False\n",
      "False\n"
     ]
    }
   ],
   "source": [
    "def equality_check(expression):\n",
    "    return eval(expression)\n",
    "\n",
    "print(equality_check(\"10<20<30\"))\n",
    "print(equality_check(\"10>20<30\"))\n",
    "print(equality_check(\"10==20<30\"))"
   ]
  },
  {
   "cell_type": "markdown",
   "id": "fe6dd701",
   "metadata": {},
   "source": [
    "----\n",
    "# 3. Create a function that replaces all the vowels in a string with a specified character.\n",
    "\n",
    "### Sol:"
   ]
  },
  {
   "cell_type": "code",
   "execution_count": 5,
   "id": "37f5bcb1",
   "metadata": {},
   "outputs": [
    {
     "name": "stdout",
     "output_type": "stream",
     "text": [
      "#ppl#\n",
      "p$pp$t$\n",
      "ch&r&ct&r\n"
     ]
    }
   ],
   "source": [
    "def task2(string:str,char):\n",
    "    new_string = []\n",
    "    vowel = ['a', 'e', 'i', 'o', 'u']\n",
    "    \n",
    "    for f in list(string):\n",
    "        if f in vowel:\n",
    "            new_string.append(char)\n",
    "            \n",
    "        else:\n",
    "            new_string.append(f)\n",
    "            \n",
    "    return \"\".join(new_string)\n",
    "\n",
    "print(task2('apple','#'))\n",
    "print(task2('pappita','$'))\n",
    "print(task2('character','&'))"
   ]
  },
  {
   "cell_type": "markdown",
   "id": "b5066ca5",
   "metadata": {},
   "source": [
    "-----\n",
    "# 4. Write a function that calculates the factorial of a number recursively.\n",
    "\n",
    "### Sol:"
   ]
  },
  {
   "cell_type": "code",
   "execution_count": 49,
   "id": "88e87ccd",
   "metadata": {},
   "outputs": [
    {
     "name": "stdout",
     "output_type": "stream",
     "text": [
      "120\n",
      "3628800\n",
      "6\n"
     ]
    }
   ],
   "source": [
    "def factorial(n):\n",
    "    fact = 1\n",
    "    if n <=1:\n",
    "        return 1\n",
    "    \n",
    "    else:\n",
    "        for i in range(1,n+1):\n",
    "            fact = i * fact\n",
    "    \n",
    "    return(fact)\n",
    "\n",
    "    \n",
    "print(factorial(5))\n",
    "print(factorial(10))\n",
    "print(factorial(3))"
   ]
  },
  {
   "cell_type": "markdown",
   "id": "d4c953d8",
   "metadata": {},
   "source": [
    "-----\n",
    "# 5. Hamming distance is the number of characters that differ between two strings.\n",
    "\n",
    "### Sol:"
   ]
  },
  {
   "cell_type": "code",
   "execution_count": 50,
   "id": "16942202",
   "metadata": {},
   "outputs": [],
   "source": [
    "def hamming_distance(str1, str2):\n",
    "    i = 0\n",
    "    count = 0\n",
    "    while(i< len(str1)):\n",
    "        if(str1[i] != str2[i]):\n",
    "            count += 1\n",
    "        i +=1\n",
    "    return count"
   ]
  },
  {
   "cell_type": "code",
   "execution_count": 52,
   "id": "88944cac",
   "metadata": {},
   "outputs": [
    {
     "name": "stdout",
     "output_type": "stream",
     "text": [
      "4\n",
      "0\n",
      "2\n"
     ]
    }
   ],
   "source": [
    "print(hamming_distance(\"achdf\",\"sdfdsb\"))\n",
    "print(hamming_distance(\"achdf\",\"achdf\"))\n",
    "print(hamming_distance(\"achd77f\",\"achd99f\"))\n"
   ]
  },
  {
   "cell_type": "code",
   "execution_count": null,
   "id": "0c49af8e",
   "metadata": {},
   "outputs": [],
   "source": []
  }
 ],
 "metadata": {
  "kernelspec": {
   "display_name": "Python 3 (ipykernel)",
   "language": "python",
   "name": "python3"
  },
  "language_info": {
   "codemirror_mode": {
    "name": "ipython",
    "version": 3
   },
   "file_extension": ".py",
   "mimetype": "text/x-python",
   "name": "python",
   "nbconvert_exporter": "python",
   "pygments_lexer": "ipython3",
   "version": "3.9.7"
  }
 },
 "nbformat": 4,
 "nbformat_minor": 5
}
