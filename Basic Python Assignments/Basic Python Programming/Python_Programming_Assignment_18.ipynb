{
 "cells": [
  {
   "cell_type": "markdown",
   "id": "92a1f5eb",
   "metadata": {},
   "source": [
    "# 1. Create a function that takes a list of non-negative integers and strings and return a new list without the strings.\n",
    "\n",
    "### Sol:"
   ]
  },
  {
   "cell_type": "code",
   "execution_count": 10,
   "id": "5ca3c11b",
   "metadata": {},
   "outputs": [],
   "source": [
    "def task1(n : list):\n",
    "    n1 = []\n",
    "    for i in n:\n",
    "        if type(i) != str:\n",
    "            n1.append(i)\n",
    "            \n",
    "    return n1\n",
    "            \n",
    "    "
   ]
  },
  {
   "cell_type": "code",
   "execution_count": 11,
   "id": "a9c65b41",
   "metadata": {},
   "outputs": [
    {
     "data": {
      "text/plain": [
       "[1, 2, 3, 3, -5]"
      ]
     },
     "execution_count": 11,
     "metadata": {},
     "output_type": "execute_result"
    }
   ],
   "source": [
    "n = [1,2,3,3,-5,\"sdbb\"]\n",
    "\n",
    "task1(n)"
   ]
  },
  {
   "cell_type": "code",
   "execution_count": 13,
   "id": "30c9636f",
   "metadata": {},
   "outputs": [
    {
     "data": {
      "text/plain": [
       "[55, 10, 0, 0]"
      ]
     },
     "execution_count": 13,
     "metadata": {},
     "output_type": "execute_result"
    }
   ],
   "source": [
    "n =[55,10,0,'k','z',0]\n",
    "task1(n)"
   ]
  },
  {
   "cell_type": "markdown",
   "id": "605d3a76",
   "metadata": {},
   "source": [
    "----\n",
    "# 2. The \"Reverser\" takes a string as input and returns that string in reverse order, with the opposite case.\n",
    "\n",
    "### Sol:"
   ]
  },
  {
   "cell_type": "code",
   "execution_count": 16,
   "id": "7d97309a",
   "metadata": {},
   "outputs": [],
   "source": [
    "def reverser(string:str):\n",
    "    return string[::-1].swapcase()"
   ]
  },
  {
   "cell_type": "code",
   "execution_count": 19,
   "id": "78510563",
   "metadata": {},
   "outputs": [
    {
     "name": "stdout",
     "output_type": "stream",
     "text": [
      "HSIRAB\n",
      "HsIRaB\n"
     ]
    }
   ],
   "source": [
    "print(reverser('barish'))\n",
    "print(reverser('bAriSh'))"
   ]
  },
  {
   "cell_type": "markdown",
   "id": "93a689fc",
   "metadata": {},
   "source": [
    "-----\n",
    "# 3. You can assign variables from lists like this:\n",
    "\n",
    "### Sol:"
   ]
  },
  {
   "cell_type": "code",
   "execution_count": 20,
   "id": "c934cd57",
   "metadata": {},
   "outputs": [],
   "source": [
    "l = [0,1,2,3,4,5,6,7,8,9]\n",
    "first = l[0]\n",
    "middle = l[1:-1]\n",
    "last = l[-1]"
   ]
  },
  {
   "cell_type": "code",
   "execution_count": 21,
   "id": "265a3e62",
   "metadata": {},
   "outputs": [
    {
     "name": "stdout",
     "output_type": "stream",
     "text": [
      "0\n",
      "[1, 2, 3, 4, 5, 6, 7, 8]\n",
      "9\n"
     ]
    }
   ],
   "source": [
    "print(first)\n",
    "print(middle)\n",
    "print(last)"
   ]
  },
  {
   "cell_type": "markdown",
   "id": "97bbebc4",
   "metadata": {},
   "source": [
    "----\n",
    "# 4. Write a function that calculates the factorial of a number recursively.\n",
    "\n",
    "### Sol:"
   ]
  },
  {
   "cell_type": "code",
   "execution_count": 22,
   "id": "92b00e68",
   "metadata": {},
   "outputs": [],
   "source": [
    "def task2(num):\n",
    "    if num <=0:\n",
    "        return 1\n",
    "    \n",
    "    else:\n",
    "        return num * task2(num-1)"
   ]
  },
  {
   "cell_type": "code",
   "execution_count": 26,
   "id": "85e71c2a",
   "metadata": {},
   "outputs": [
    {
     "name": "stdout",
     "output_type": "stream",
     "text": [
      "3628800\n",
      "120\n",
      "1\n"
     ]
    }
   ],
   "source": [
    "print(task2(10))\n",
    "print(task2(5))\n",
    "print(task2(0))"
   ]
  },
  {
   "cell_type": "markdown",
   "id": "5b9e61a5",
   "metadata": {},
   "source": [
    "----\n",
    "# 5. Write a function that moves all elements of one type to the end of the list.\n",
    "\n",
    "### Sol:"
   ]
  },
  {
   "cell_type": "code",
   "execution_count": 27,
   "id": "05b4fc6d",
   "metadata": {},
   "outputs": [],
   "source": [
    "def move(l1:list, element):\n",
    "    \n",
    "    l2 = []\n",
    "    \n",
    "    for i in l1:\n",
    "        if i == element:\n",
    "            l2.insert(0, i)\n",
    "            \n",
    "        else:\n",
    "            l2.append(i)\n",
    "            \n",
    "    for i in range(len(l2)):\n",
    "        temp = l2[i]\n",
    "        if temp == element:\n",
    "            l2.remove(temp)\n",
    "            l2.append(temp)\n",
    "            \n",
    "    return l2"
   ]
  },
  {
   "cell_type": "code",
   "execution_count": 28,
   "id": "ccc72930",
   "metadata": {},
   "outputs": [
    {
     "data": {
      "text/plain": [
       "[1, 2, 3, 5, 2, 4, 8, 8, 8, 6, 6, 6]"
      ]
     },
     "execution_count": 28,
     "metadata": {},
     "output_type": "execute_result"
    }
   ],
   "source": [
    "move([1,2,3,5,6,6,6,2,4,8,8,8],6)"
   ]
  },
  {
   "cell_type": "code",
   "execution_count": 30,
   "id": "0719387c",
   "metadata": {},
   "outputs": [
    {
     "data": {
      "text/plain": [
       "[2, 2, 5, 6, 6, 2, 1, 2, 3, 3]"
      ]
     },
     "execution_count": 30,
     "metadata": {},
     "output_type": "execute_result"
    }
   ],
   "source": [
    "move([2,2,3,3,5,6,6,2,1,2],3)"
   ]
  },
  {
   "cell_type": "code",
   "execution_count": null,
   "id": "10d06dfa",
   "metadata": {},
   "outputs": [],
   "source": []
  }
 ],
 "metadata": {
  "kernelspec": {
   "display_name": "Python 3 (ipykernel)",
   "language": "python",
   "name": "python3"
  },
  "language_info": {
   "codemirror_mode": {
    "name": "ipython",
    "version": 3
   },
   "file_extension": ".py",
   "mimetype": "text/x-python",
   "name": "python",
   "nbconvert_exporter": "python",
   "pygments_lexer": "ipython3",
   "version": "3.9.7"
  }
 },
 "nbformat": 4,
 "nbformat_minor": 5
}
