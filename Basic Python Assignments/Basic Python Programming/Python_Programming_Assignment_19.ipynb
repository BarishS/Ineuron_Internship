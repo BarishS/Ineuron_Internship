{
 "cells": [
  {
   "cell_type": "markdown",
   "id": "6c0061e8",
   "metadata": {},
   "source": [
    "#  1. Create a function that takes a string and returns a string in which each character is repeated once. Examples double_char('String') ➞ 'SSttrriinngg' double_char('Hello World!') ➞ 'HHeelllloo WWoorrlldd!!' doublechar('1234! ') ➞ '11223344!!__ '\n",
    "\n",
    "### Sol:"
   ]
  },
  {
   "cell_type": "code",
   "execution_count": 2,
   "id": "f4f0a3a9",
   "metadata": {},
   "outputs": [
    {
     "name": "stdout",
     "output_type": "stream",
     "text": [
      "SSttrriinngg\n",
      "HHeelllloo  WWoorrdd!!\n",
      "11223344!!__  \n"
     ]
    }
   ],
   "source": [
    "def double_char(string):\n",
    "    return ''.join([c+c for c in string])\n",
    "\n",
    "print(double_char('String'))\n",
    "print(double_char('Hello Word!'))\n",
    "print(double_char('1234!_ '))"
   ]
  },
  {
   "cell_type": "markdown",
   "id": "49d29a08",
   "metadata": {},
   "source": [
    "------\n",
    "# 2. Create a function that reverses a boolean value and returns the string 'boolean expected' if another variable type is given. Examples reverse(True) ➞ False reverse(False) ➞ True reverse(0) ➞ 'boolean expected' reverse(None) ➞ 'boolean expected'\n",
    "\n",
    "### Sol:"
   ]
  },
  {
   "cell_type": "code",
   "execution_count": 1,
   "id": "77780731",
   "metadata": {},
   "outputs": [
    {
     "name": "stdout",
     "output_type": "stream",
     "text": [
      "False\n",
      "True\n",
      "boolean expected\n",
      "boolean expected\n"
     ]
    }
   ],
   "source": [
    "def reverse(arg):\n",
    "    return not arg if type(arg) == bool else \"boolean expected\"\n",
    "\n",
    "print(reverse(True))\n",
    "print(reverse(False))\n",
    "print(reverse(0))\n",
    "print(reverse(None))"
   ]
  },
  {
   "cell_type": "code",
   "execution_count": 2,
   "id": "48e1f18a",
   "metadata": {},
   "outputs": [],
   "source": [
    "#alternative\n",
    "def test(arg):\n",
    "    if type(arg) == bool:\n",
    "        print(not arg)\n",
    "        \n",
    "    else:\n",
    "        print(\"boolean expected\")"
   ]
  },
  {
   "cell_type": "code",
   "execution_count": 6,
   "id": "c9af0aff",
   "metadata": {},
   "outputs": [
    {
     "name": "stdout",
     "output_type": "stream",
     "text": [
      "False\n",
      "True\n",
      "boolean expected\n",
      "boolean expected\n"
     ]
    }
   ],
   "source": [
    "test(True)\n",
    "test(False)\n",
    "test(None)\n",
    "test(0)"
   ]
  },
  {
   "cell_type": "markdown",
   "id": "4b284a86",
   "metadata": {},
   "source": [
    "----\n",
    "# 3. Create a function that returns the thickness (in meters) of a piece of paper after folding it n number of times. The paper starts off with a thickness of 0.5mm. Examples num_layers(1) ➞ '0.001m\n",
    "\n",
    "### Sol:"
   ]
  },
  {
   "cell_type": "code",
   "execution_count": 8,
   "id": "efa0663c",
   "metadata": {},
   "outputs": [
    {
     "name": "stdout",
     "output_type": "stream",
     "text": [
      "0.001m\n",
      "0.016m\n",
      "524.288m\n"
     ]
    }
   ],
   "source": [
    "def num_layers(n):\n",
    "    thickness = 0.5\n",
    "    for i in range(n):\n",
    "        thickness *=2\n",
    "    return str(thickness / 1000)+ 'm'\n",
    "\n",
    "print(num_layers(1))\n",
    "print(num_layers(5))\n",
    "print(num_layers(20))"
   ]
  },
  {
   "cell_type": "markdown",
   "id": "8078d5f8",
   "metadata": {},
   "source": [
    "-----\n",
    "# 4. Create a function that takes a single string as argument and returns an ordered list containing the indices of all capital letters in the string. Examples index_of_caps('eDaBiT') ➞ [1, 3, 5] index_of_caps('eQuINoX') ➞ [1, 3, 4, 6] index_of_caps('determine') ➞ [] index_of_caps('STRIKE') ➞ [0, 1, 2, 3, 4, 5] index_of_caps('sUn') ➞ [1]\n",
    "\n",
    "### Sol:"
   ]
  },
  {
   "cell_type": "code",
   "execution_count": 9,
   "id": "184ddbe2",
   "metadata": {},
   "outputs": [
    {
     "name": "stdout",
     "output_type": "stream",
     "text": [
      "[0, 3]\n",
      "[1, 3, 5]\n",
      "[1, 3, 4, 6]\n",
      "[]\n",
      "[0, 1, 2, 3, 4, 5]\n",
      "[1]\n"
     ]
    }
   ],
   "source": [
    "def index_of_caps(word):\n",
    "    indices = []\n",
    "    for i in range(len(word)):\n",
    "        if word[i].isupper():\n",
    "             indices.append(i)\n",
    "    return indices\n",
    "\n",
    "print(index_of_caps('BhaNu'))\n",
    "print(index_of_caps('eDaBiT'))\n",
    "print(index_of_caps('eQuINoX')) \n",
    "print(index_of_caps('determine'))\n",
    "print(index_of_caps('STRIKE'))\n",
    "print(index_of_caps('sUn'))"
   ]
  },
  {
   "cell_type": "markdown",
   "id": "07853c66",
   "metadata": {},
   "source": [
    "-----\n",
    "# 5. Using list comprehensions, create a function that finds all even numbers from 1 to the given number. Examples find_even_nums(8) ➞ [2, 4, 6, 8] find_even_nums(4) ➞ [2, 4] find_even_nums(2) ➞ [2  \n",
    "\n",
    "### Sol:"
   ]
  },
  {
   "cell_type": "code",
   "execution_count": 10,
   "id": "796eb652",
   "metadata": {},
   "outputs": [
    {
     "name": "stdout",
     "output_type": "stream",
     "text": [
      "[2, 4, 6, 8]\n",
      "[2, 4]\n",
      "[2]\n"
     ]
    }
   ],
   "source": [
    "def find_even_nums(n):\n",
    "    even =[x for x in range(2,n+1) if x % 2 == 0]\n",
    "    return even\n",
    "\n",
    "print(find_even_nums(8))\n",
    "print(find_even_nums(4))\n",
    "print(find_even_nums(2))"
   ]
  },
  {
   "cell_type": "code",
   "execution_count": null,
   "id": "c5864ae5",
   "metadata": {},
   "outputs": [],
   "source": []
  }
 ],
 "metadata": {
  "kernelspec": {
   "display_name": "Python 3 (ipykernel)",
   "language": "python",
   "name": "python3"
  },
  "language_info": {
   "codemirror_mode": {
    "name": "ipython",
    "version": 3
   },
   "file_extension": ".py",
   "mimetype": "text/x-python",
   "name": "python",
   "nbconvert_exporter": "python",
   "pygments_lexer": "ipython3",
   "version": "3.9.7"
  }
 },
 "nbformat": 4,
 "nbformat_minor": 5
}
