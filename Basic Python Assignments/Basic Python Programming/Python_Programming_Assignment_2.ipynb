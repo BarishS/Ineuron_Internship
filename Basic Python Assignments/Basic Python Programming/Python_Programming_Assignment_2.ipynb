{
 "cells": [
  {
   "cell_type": "markdown",
   "id": "2494215a",
   "metadata": {},
   "source": [
    "# 1.Write a Python program to convert kilometers to miles?\n",
    "\n",
    "Sol:"
   ]
  },
  {
   "cell_type": "code",
   "execution_count": null,
   "id": "4a8b26e2",
   "metadata": {},
   "outputs": [],
   "source": [
    "# kilometer = float(input(\"Enter value in kilometers: \"))\n",
    "conv_fact = 1.609344  # 1 km is equal to 0.621371\n",
    "\n",
    "miles = kilometer / conv_fact\n",
    "\n",
    "print(f\" { kilometer } kilometer is equal to {miles} miles\")"
   ]
  },
  {
   "cell_type": "markdown",
   "id": "7bb07663",
   "metadata": {},
   "source": [
    "# 2.Write a Python program to convert Celsius to Fahrenheit?\n",
    "\n",
    "Sol:"
   ]
  },
  {
   "cell_type": "code",
   "execution_count": 11,
   "id": "6a9708be",
   "metadata": {},
   "outputs": [
    {
     "name": "stdout",
     "output_type": "stream",
     "text": [
      "Enter Celsius Temperature : 35\n",
      " 35.0 Celsius is equal to 95.0 fahrenheit\n"
     ]
    }
   ],
   "source": [
    "celsius = float(input(\"Enter Celsius Temperature : \"))\n",
    "\n",
    "fahrenheit = (9*celsius/5)+32\n",
    "\n",
    "print(f\" {celsius} Celsius is equal to {fahrenheit} fahrenheit\")"
   ]
  },
  {
   "cell_type": "markdown",
   "id": "be685569",
   "metadata": {},
   "source": [
    "# 3.Write a Python program to display calendar?\n",
    "\n",
    "Sol:"
   ]
  },
  {
   "cell_type": "code",
   "execution_count": 12,
   "id": "277d0bf4",
   "metadata": {},
   "outputs": [
    {
     "name": "stdout",
     "output_type": "stream",
     "text": [
      "                                  2022\n",
      "\n",
      "      January                   February                   March\n",
      "Mo Tu We Th Fr Sa Su      Mo Tu We Th Fr Sa Su      Mo Tu We Th Fr Sa Su\n",
      "                1  2          1  2  3  4  5  6          1  2  3  4  5  6\n",
      " 3  4  5  6  7  8  9       7  8  9 10 11 12 13       7  8  9 10 11 12 13\n",
      "10 11 12 13 14 15 16      14 15 16 17 18 19 20      14 15 16 17 18 19 20\n",
      "17 18 19 20 21 22 23      21 22 23 24 25 26 27      21 22 23 24 25 26 27\n",
      "24 25 26 27 28 29 30      28                        28 29 30 31\n",
      "31\n",
      "\n",
      "       April                      May                       June\n",
      "Mo Tu We Th Fr Sa Su      Mo Tu We Th Fr Sa Su      Mo Tu We Th Fr Sa Su\n",
      "             1  2  3                         1             1  2  3  4  5\n",
      " 4  5  6  7  8  9 10       2  3  4  5  6  7  8       6  7  8  9 10 11 12\n",
      "11 12 13 14 15 16 17       9 10 11 12 13 14 15      13 14 15 16 17 18 19\n",
      "18 19 20 21 22 23 24      16 17 18 19 20 21 22      20 21 22 23 24 25 26\n",
      "25 26 27 28 29 30         23 24 25 26 27 28 29      27 28 29 30\n",
      "                          30 31\n",
      "\n",
      "        July                     August                  September\n",
      "Mo Tu We Th Fr Sa Su      Mo Tu We Th Fr Sa Su      Mo Tu We Th Fr Sa Su\n",
      "             1  2  3       1  2  3  4  5  6  7                1  2  3  4\n",
      " 4  5  6  7  8  9 10       8  9 10 11 12 13 14       5  6  7  8  9 10 11\n",
      "11 12 13 14 15 16 17      15 16 17 18 19 20 21      12 13 14 15 16 17 18\n",
      "18 19 20 21 22 23 24      22 23 24 25 26 27 28      19 20 21 22 23 24 25\n",
      "25 26 27 28 29 30 31      29 30 31                  26 27 28 29 30\n",
      "\n",
      "      October                   November                  December\n",
      "Mo Tu We Th Fr Sa Su      Mo Tu We Th Fr Sa Su      Mo Tu We Th Fr Sa Su\n",
      "                1  2          1  2  3  4  5  6                1  2  3  4\n",
      " 3  4  5  6  7  8  9       7  8  9 10 11 12 13       5  6  7  8  9 10 11\n",
      "10 11 12 13 14 15 16      14 15 16 17 18 19 20      12 13 14 15 16 17 18\n",
      "17 18 19 20 21 22 23      21 22 23 24 25 26 27      19 20 21 22 23 24 25\n",
      "24 25 26 27 28 29 30      28 29 30                  26 27 28 29 30 31\n",
      "31\n",
      "\n"
     ]
    }
   ],
   "source": [
    "import calendar\n",
    "\n",
    "year = 2022\n",
    "\n",
    "print(calendar.calendar(year))"
   ]
  },
  {
   "cell_type": "code",
   "execution_count": 14,
   "id": "4c25e14c",
   "metadata": {},
   "outputs": [
    {
     "name": "stdout",
     "output_type": "stream",
     "text": [
      "   December 2006\n",
      "Mo Tu We Th Fr Sa Su\n",
      "             1  2  3\n",
      " 4  5  6  7  8  9 10\n",
      "11 12 13 14 15 16 17\n",
      "18 19 20 21 22 23 24\n",
      "25 26 27 28 29 30 31\n",
      "\n"
     ]
    }
   ],
   "source": [
    "year = 2006\n",
    "month  = 12\n",
    "print(calendar.month(year,month))"
   ]
  },
  {
   "cell_type": "markdown",
   "id": "c059bcbb",
   "metadata": {},
   "source": [
    "# 4.Write a Python program to solve quadratic equation?\n",
    "\n",
    "Sol:"
   ]
  },
  {
   "cell_type": "code",
   "execution_count": 28,
   "id": "e34faa8f",
   "metadata": {},
   "outputs": [
    {
     "name": "stdout",
     "output_type": "stream",
     "text": [
      "ax^2 + bx^1 + c = 0\n",
      "Enter the coeff a, b and constant c\n",
      "Enter the coeff a: 1\n",
      "Enter the coeff b: -9\n",
      "Enter the constant c: 10\n",
      "\n",
      "For quad eq. 1x^2 + (-9)x^1 + 10\n",
      "The solutions are: 7.701562118716424 and 1.2984378812835757\n"
     ]
    }
   ],
   "source": [
    "import math\n",
    "\n",
    "print(\"ax^2 + bx^1 + c = 0\")\n",
    "print(\"Enter the coeff a, b and constant c\")\n",
    "\n",
    "a = int(input((\"Enter the coeff a: \")))\n",
    "b = int(input((\"Enter the coeff b: \")))\n",
    "c = int(input((\"Enter the constant c: \")))\n",
    "\n",
    "d = (b**2) - (4*a*c)\n",
    "\n",
    "root1 = ((-1*b)+(math.sqrt(d))) / (2*a)\n",
    "root2 = ((-1*b)-(math.sqrt(d))) / (2*a)\n",
    "\n",
    "print('\\nFor quad eq. {}x^2 + ({})x^1 + {}'.format(a,b,c))\n",
    "print('The solutions are: {} and {}'.format(root1, root2))"
   ]
  },
  {
   "cell_type": "markdown",
   "id": "e40d1fa2",
   "metadata": {},
   "source": [
    "# 5.Write a Python program to swap two variables without temp variable?\n",
    "\n",
    "Sol:"
   ]
  },
  {
   "cell_type": "code",
   "execution_count": 31,
   "id": "738382d1",
   "metadata": {},
   "outputs": [],
   "source": [
    "#using function and Exception handling method.\n",
    "# swap them without using 3rd / temp variable.\n",
    "def swap():\n",
    "    '''This function is used to swap two variables without using 3rd variable.\n",
    "        (1st variable value is swaped with second variable value)'''\n",
    "    a=int(input(\"Enter the value of a: \"))\n",
    "    b=int(input(\"Enter the value of b: \"))\n",
    "    try:\n",
    "        b=a+b\n",
    "        print(\"value of a: \",a)\n",
    "        a=b-a\n",
    "        print(\"Value of b: \",b)\n",
    "        b=b-a\n",
    "        print(\"value of a: \",a)\n",
    "        \n",
    "        print(\"After swapping value of a: \",a)\n",
    "        print(\"After swapping value of b: \",b)\n",
    "\n",
    "    except Exception as af:\n",
    "        print(f\"Error found in try log {af}\")"
   ]
  },
  {
   "cell_type": "code",
   "execution_count": 33,
   "id": "69cebd82",
   "metadata": {},
   "outputs": [
    {
     "name": "stdout",
     "output_type": "stream",
     "text": [
      "Enter the value of a: -2\n",
      "Enter the value of b: 5\n",
      "value of a:  -2\n",
      "Value of b:  3\n",
      "value of a:  5\n",
      "After swapping value of a:  5\n",
      "After swapping value of b:  -2\n"
     ]
    }
   ],
   "source": [
    "swap()"
   ]
  },
  {
   "cell_type": "code",
   "execution_count": null,
   "id": "26743f95",
   "metadata": {},
   "outputs": [],
   "source": []
  }
 ],
 "metadata": {
  "kernelspec": {
   "display_name": "Python 3 (ipykernel)",
   "language": "python",
   "name": "python3"
  },
  "language_info": {
   "codemirror_mode": {
    "name": "ipython",
    "version": 3
   },
   "file_extension": ".py",
   "mimetype": "text/x-python",
   "name": "python",
   "nbconvert_exporter": "python",
   "pygments_lexer": "ipython3",
   "version": "3.9.7"
  }
 },
 "nbformat": 4,
 "nbformat_minor": 5
}
