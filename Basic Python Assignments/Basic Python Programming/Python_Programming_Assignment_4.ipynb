{
 "cells": [
  {
   "cell_type": "markdown",
   "id": "2e3d7cc0",
   "metadata": {},
   "source": [
    "# 1.Write a Python Program to Find the Factorial of a Number?\n",
    "\n",
    "Sol:"
   ]
  },
  {
   "cell_type": "code",
   "execution_count": 2,
   "id": "e5d0cbdb",
   "metadata": {},
   "outputs": [
    {
     "name": "stdout",
     "output_type": "stream",
     "text": [
      "Enter number: 5\n",
      " factorial of 5 is : 120 \n"
     ]
    }
   ],
   "source": [
    "num = int(input(\"Enter number: \"))\n",
    "fact = 1 \n",
    "if num==0:\n",
    "    print(f\" factorial of {num} is 1\")\n",
    "    \n",
    "else:\n",
    "    for i in range(1,num+1):\n",
    "        fact = fact * i\n",
    "        \n",
    "    print(f\" factorial of {num} is : {fact} \")\n",
    "    "
   ]
  },
  {
   "cell_type": "markdown",
   "id": "e7c70ae0",
   "metadata": {},
   "source": [
    "# 2.Write a Python Program to Display the multiplication Table?\n",
    "\n",
    "Sol:"
   ]
  },
  {
   "cell_type": "code",
   "execution_count": 4,
   "id": "c0a2dbdb",
   "metadata": {},
   "outputs": [
    {
     "name": "stdout",
     "output_type": "stream",
     "text": [
      "Enter Multiplication Table number: 2\n",
      " 2 x 1 = 2\n",
      " 2 x 2 = 4\n",
      " 2 x 3 = 6\n",
      " 2 x 4 = 8\n",
      " 2 x 5 = 10\n",
      " 2 x 6 = 12\n",
      " 2 x 7 = 14\n",
      " 2 x 8 = 16\n",
      " 2 x 9 = 18\n",
      " 2 x 10 = 20\n"
     ]
    }
   ],
   "source": [
    "num = int(input(\"Enter Multiplication Table number: \"))\n",
    "if num==0:\n",
    "    print(f\"Please Enter above {num} or positive number  \")\n",
    "    \n",
    "else:\n",
    "    for i in range(1,11):\n",
    "        print(f\" {num} x {i} = {num * i}\")"
   ]
  },
  {
   "cell_type": "markdown",
   "id": "08c03e21",
   "metadata": {},
   "source": [
    "# 3.Write a Python Program to Print the Fibonacci sequence?\n",
    "\n",
    "Sol:"
   ]
  },
  {
   "cell_type": "code",
   "execution_count": 5,
   "id": "22300d0f",
   "metadata": {},
   "outputs": [
    {
     "name": "stdout",
     "output_type": "stream",
     "text": [
      "Enter a length: 10\n",
      "0 1 1 2 3 5 8 13 21 34 "
     ]
    }
   ],
   "source": [
    "num= int(input(\"Enter a length: \"))\n",
    "\n",
    "a = 0\n",
    "b = 1\n",
    "print(a, end = ' ')\n",
    "print(b, end = ' ')\n",
    "while(num-2 > 0):\n",
    "    nt = a + b\n",
    "    print(nt, end = ' ')\n",
    "    a = b\n",
    "    b = nt\n",
    "    \n",
    "    num -= 1"
   ]
  },
  {
   "cell_type": "markdown",
   "id": "5e1af591",
   "metadata": {},
   "source": [
    "# 4.Write a Python Program to Check Armstrong Number?\n",
    "\n",
    "Sol:"
   ]
  },
  {
   "cell_type": "code",
   "execution_count": 20,
   "id": "68936cb5",
   "metadata": {},
   "outputs": [],
   "source": [
    "def arms_num(num):\n",
    "    '''This function is used to check Armstrong Number'''\n",
    "    \n",
    "    sum = 0\n",
    "    temp = num\n",
    "    while temp >0:\n",
    "        digit =temp %10\n",
    "        sum += digit ** 3\n",
    "        temp //=10\n",
    "    if num == sum:\n",
    "        print(num , \"is Armstrong number\")\n",
    "    \n",
    "    else:\n",
    "        print(num, \"is not Armstrong number\")"
   ]
  },
  {
   "cell_type": "code",
   "execution_count": 21,
   "id": "33f98bdc",
   "metadata": {},
   "outputs": [
    {
     "name": "stdout",
     "output_type": "stream",
     "text": [
      "153 is Armstrong number\n"
     ]
    }
   ],
   "source": [
    "arms_num(153)"
   ]
  },
  {
   "cell_type": "markdown",
   "id": "af91fe3c",
   "metadata": {},
   "source": [
    "# 5.Write a Python Program to Find Armstrong Number in an Interval?\n",
    "\n",
    "Sol:"
   ]
  },
  {
   "cell_type": "code",
   "execution_count": 28,
   "id": "6a06750d",
   "metadata": {},
   "outputs": [
    {
     "name": "stdout",
     "output_type": "stream",
     "text": [
      "Enter the lower value of range: 100\n",
      "Enter the higher value of range: 200\n",
      "\n",
      "From 100 to 200 following are the Armstrong Number\n",
      "\n",
      "100 is not Armstrong number\n",
      "101 is not Armstrong number\n",
      "102 is not Armstrong number\n",
      "103 is not Armstrong number\n",
      "104 is not Armstrong number\n",
      "105 is not Armstrong number\n",
      "106 is not Armstrong number\n",
      "107 is not Armstrong number\n",
      "108 is not Armstrong number\n",
      "109 is not Armstrong number\n",
      "110 is not Armstrong number\n",
      "111 is not Armstrong number\n",
      "112 is not Armstrong number\n",
      "113 is not Armstrong number\n",
      "114 is not Armstrong number\n",
      "115 is not Armstrong number\n",
      "116 is not Armstrong number\n",
      "117 is not Armstrong number\n",
      "118 is not Armstrong number\n",
      "119 is not Armstrong number\n",
      "120 is not Armstrong number\n",
      "121 is not Armstrong number\n",
      "122 is not Armstrong number\n",
      "123 is not Armstrong number\n",
      "124 is not Armstrong number\n",
      "125 is not Armstrong number\n",
      "126 is not Armstrong number\n",
      "127 is not Armstrong number\n",
      "128 is not Armstrong number\n",
      "129 is not Armstrong number\n",
      "130 is not Armstrong number\n",
      "131 is not Armstrong number\n",
      "132 is not Armstrong number\n",
      "133 is not Armstrong number\n",
      "134 is not Armstrong number\n",
      "135 is not Armstrong number\n",
      "136 is not Armstrong number\n",
      "137 is not Armstrong number\n",
      "138 is not Armstrong number\n",
      "139 is not Armstrong number\n",
      "140 is not Armstrong number\n",
      "141 is not Armstrong number\n",
      "142 is not Armstrong number\n",
      "143 is not Armstrong number\n",
      "144 is not Armstrong number\n",
      "145 is not Armstrong number\n",
      "146 is not Armstrong number\n",
      "147 is not Armstrong number\n",
      "148 is not Armstrong number\n",
      "149 is not Armstrong number\n",
      "150 is not Armstrong number\n",
      "151 is not Armstrong number\n",
      "152 is not Armstrong number\n",
      "153 is Armstrong number\n",
      "154 is not Armstrong number\n",
      "155 is not Armstrong number\n",
      "156 is not Armstrong number\n",
      "157 is not Armstrong number\n",
      "158 is not Armstrong number\n",
      "159 is not Armstrong number\n",
      "160 is not Armstrong number\n",
      "161 is not Armstrong number\n",
      "162 is not Armstrong number\n",
      "163 is not Armstrong number\n",
      "164 is not Armstrong number\n",
      "165 is not Armstrong number\n",
      "166 is not Armstrong number\n",
      "167 is not Armstrong number\n",
      "168 is not Armstrong number\n",
      "169 is not Armstrong number\n",
      "170 is not Armstrong number\n",
      "171 is not Armstrong number\n",
      "172 is not Armstrong number\n",
      "173 is not Armstrong number\n",
      "174 is not Armstrong number\n",
      "175 is not Armstrong number\n",
      "176 is not Armstrong number\n",
      "177 is not Armstrong number\n",
      "178 is not Armstrong number\n",
      "179 is not Armstrong number\n",
      "180 is not Armstrong number\n",
      "181 is not Armstrong number\n",
      "182 is not Armstrong number\n",
      "183 is not Armstrong number\n",
      "184 is not Armstrong number\n",
      "185 is not Armstrong number\n",
      "186 is not Armstrong number\n",
      "187 is not Armstrong number\n",
      "188 is not Armstrong number\n",
      "189 is not Armstrong number\n",
      "190 is not Armstrong number\n",
      "191 is not Armstrong number\n",
      "192 is not Armstrong number\n",
      "193 is not Armstrong number\n",
      "194 is not Armstrong number\n",
      "195 is not Armstrong number\n",
      "196 is not Armstrong number\n",
      "197 is not Armstrong number\n",
      "198 is not Armstrong number\n",
      "199 is not Armstrong number\n",
      "200 is not Armstrong number\n"
     ]
    }
   ],
   "source": [
    "low = int(input(\"Enter the lower value of range: \"))\n",
    "high = int(input(\"Enter the higher value of range: \"))\n",
    "\n",
    "print(f\"\\nFrom {low} to {high} following are the Armstrong Number\\n\")\n",
    "\n",
    "for i in range(low, high+1):\n",
    "    if(arms_num(i)):\n",
    "        print(i, end = ' ')\n",
    "        "
   ]
  },
  {
   "cell_type": "markdown",
   "id": "b4bea2e3",
   "metadata": {},
   "source": [
    "# 6.Write a Python Program to Find the Sum of Natural Numbers?\n",
    "\n",
    "Sol:"
   ]
  },
  {
   "cell_type": "code",
   "execution_count": 35,
   "id": "d1b3f8db",
   "metadata": {},
   "outputs": [
    {
     "name": "stdout",
     "output_type": "stream",
     "text": [
      "Enter number: 100\n",
      "\n",
      "Sum of Natural Numbers up to 100: 5050\n"
     ]
    }
   ],
   "source": [
    "num = int(input(\"Enter number: \"))\n",
    "fact = 0\n",
    "\n",
    "for i in range(1, num+1):\n",
    "    fact = fact + i\n",
    "    \n",
    "print(f\"\\nSum of Natural Numbers up to {num}: {fact}\")\n",
    "    "
   ]
  },
  {
   "cell_type": "code",
   "execution_count": null,
   "id": "6c5723a4",
   "metadata": {},
   "outputs": [],
   "source": []
  }
 ],
 "metadata": {
  "kernelspec": {
   "display_name": "Python 3 (ipykernel)",
   "language": "python",
   "name": "python3"
  },
  "language_info": {
   "codemirror_mode": {
    "name": "ipython",
    "version": 3
   },
   "file_extension": ".py",
   "mimetype": "text/x-python",
   "name": "python",
   "nbconvert_exporter": "python",
   "pygments_lexer": "ipython3",
   "version": "3.9.7"
  }
 },
 "nbformat": 4,
 "nbformat_minor": 5
}
