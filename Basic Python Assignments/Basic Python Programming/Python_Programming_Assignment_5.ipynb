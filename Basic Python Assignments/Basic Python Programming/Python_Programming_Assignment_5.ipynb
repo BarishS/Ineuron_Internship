{
 "cells": [
  {
   "cell_type": "markdown",
   "id": "c2df74b3",
   "metadata": {},
   "source": [
    "# 1.Write a Python Program to Find LCM?\n",
    "\n",
    "Sol:"
   ]
  },
  {
   "cell_type": "code",
   "execution_count": 69,
   "id": "5bf7d73f",
   "metadata": {},
   "outputs": [],
   "source": [
    "def lcm(a,b):\n",
    "    \n",
    "    '''This function is used to find the LCM of two given numbers'''\n",
    "    \n",
    "   \n",
    "    high= a if a > b else  b\n",
    "    \n",
    "    while True:\n",
    "        if (high % a == 0) and (high % b == 0):\n",
    "            break\n",
    "            \n",
    "        else:\n",
    "            high += 1\n",
    "            \n",
    "    return f\"LCM of {a} and {b} : {high}\""
   ]
  },
  {
   "cell_type": "code",
   "execution_count": 70,
   "id": "d6898d29",
   "metadata": {},
   "outputs": [
    {
     "data": {
      "text/plain": [
       "'LCM of 21 and 42 : 42'"
      ]
     },
     "execution_count": 70,
     "metadata": {},
     "output_type": "execute_result"
    }
   ],
   "source": [
    "lcm(21,42)"
   ]
  },
  {
   "cell_type": "code",
   "execution_count": 47,
   "id": "f3845f14",
   "metadata": {},
   "outputs": [
    {
     "data": {
      "text/plain": [
       "2"
      ]
     },
     "execution_count": 47,
     "metadata": {},
     "output_type": "execute_result"
    }
   ],
   "source": [
    "86 % 42"
   ]
  },
  {
   "cell_type": "code",
   "execution_count": 28,
   "id": "079abd72",
   "metadata": {},
   "outputs": [
    {
     "data": {
      "text/plain": [
       "0"
      ]
     },
     "execution_count": 28,
     "metadata": {},
     "output_type": "execute_result"
    }
   ],
   "source": [
    "35 % 35 "
   ]
  },
  {
   "cell_type": "markdown",
   "id": "6cff5322",
   "metadata": {},
   "source": [
    "# 2.Write a Python Program to Find HCF?\n",
    "\n",
    "Sol:"
   ]
  },
  {
   "cell_type": "code",
   "execution_count": 19,
   "id": "ed38255a",
   "metadata": {},
   "outputs": [],
   "source": [
    "def hcf(a, b):\n",
    "    \n",
    "    ''' This function is used to check HCF of two given number'''\n",
    "    \n",
    "    low = a if a < b else b\n",
    "    \n",
    "    for i in range(1, low+1):\n",
    "        if (a % i == 0) and (b % i == 0):\n",
    "            hcf = i\n",
    "            \n",
    "    return f\" HCF of {a} and {b} : {hcf}\""
   ]
  },
  {
   "cell_type": "code",
   "execution_count": 51,
   "id": "f0f8ee95",
   "metadata": {},
   "outputs": [
    {
     "data": {
      "text/plain": [
       "' HCF of 21 and 42 : 21'"
      ]
     },
     "execution_count": 51,
     "metadata": {},
     "output_type": "execute_result"
    }
   ],
   "source": [
    "hcf(21,42)"
   ]
  },
  {
   "cell_type": "markdown",
   "id": "335a2201",
   "metadata": {},
   "source": [
    "# 3.Write a Python Program to Convert Decimal to Binary, Octal and Hexadecimal?\n",
    "\n",
    "Sol:"
   ]
  },
  {
   "cell_type": "code",
   "execution_count": 54,
   "id": "aa751e35",
   "metadata": {},
   "outputs": [],
   "source": [
    "def conversion(num):\n",
    "    \n",
    "    ''' This function is used to convert given number in to Binary, Octal and Hexadecimal'''\n",
    "    \n",
    "    print(\"Binary:      \", bin(num))\n",
    "    print(\"Octal:       \", oct(num))\n",
    "    print(\"Hexadecimal: \", hex(num))"
   ]
  },
  {
   "cell_type": "code",
   "execution_count": 55,
   "id": "44aacbd4",
   "metadata": {},
   "outputs": [
    {
     "name": "stdout",
     "output_type": "stream",
     "text": [
      "Binary:       0b1010\n",
      "Octal:        0o12\n",
      "Hexadecimal:  0xa\n"
     ]
    }
   ],
   "source": [
    "conversion(10)"
   ]
  },
  {
   "cell_type": "markdown",
   "id": "35f8e052",
   "metadata": {},
   "source": [
    "# 4.Write a Python Program To Find ASCII value of a character?\n",
    "\n",
    "Sol:"
   ]
  },
  {
   "cell_type": "code",
   "execution_count": 57,
   "id": "a15482e5",
   "metadata": {},
   "outputs": [
    {
     "name": "stdout",
     "output_type": "stream",
     "text": [
      "Enter a character: B\n",
      "ASCII value of B is 66\n"
     ]
    }
   ],
   "source": [
    "def ascii():\n",
    "    \n",
    "    ''' This function is used to find ASCII value of a character '''\n",
    "\n",
    "try:\n",
    "    char = input(\"Enter a character: \")\n",
    "    \n",
    "    ASCII = ord(char)\n",
    "    \n",
    "    print(\"ASCII value of {} is {}\".format(char, ASCII))\n",
    "    \n",
    "except Exception as er:\n",
    "    print(er)"
   ]
  },
  {
   "cell_type": "markdown",
   "id": "46cc70f6",
   "metadata": {},
   "source": [
    "# 5.Write a Python Program to Make a Simple Calculator with 4 basic mathematical operations?\n",
    "\n",
    "Sol:"
   ]
  },
  {
   "cell_type": "code",
   "execution_count": 63,
   "id": "764e91a2",
   "metadata": {},
   "outputs": [],
   "source": [
    "# using function\n",
    "def math_op(a,b):\n",
    "    \n",
    "    ''' This function is used to calculate basic mathematical operations.\n",
    "        (addition, substraction, multiplication and division)'''\n",
    "    \n",
    "    try:\n",
    "        add = a + b\n",
    "        print(\"Addition of {} and {}\". format(a,b), \":\", add)\n",
    "        \n",
    "        sub = a - b\n",
    "        print(\"Substraction of  {} and {}\" . format(a,b), \":\", sub)\n",
    "        mul = a * b\n",
    "        print(\"Multiplication of {} and  {}\" . format(a,b), \":\", mul)\n",
    "        \n",
    "        div = a / b\n",
    "        print(\"Division of {} and {}\" . format(a,b), \":\", div)\n",
    "        \n",
    "    except Exception as Er:\n",
    "        print(f\"Error found in try log {Er}\")\n",
    "        "
   ]
  },
  {
   "cell_type": "code",
   "execution_count": 64,
   "id": "3b923927",
   "metadata": {},
   "outputs": [
    {
     "name": "stdout",
     "output_type": "stream",
     "text": [
      "Addition of 10 and 20 : 30\n",
      "Substraction of  10 and 20 : -10\n",
      "Multiplication of 10 and  20 : 200\n",
      "Division of 10 and 20 : 0.5\n"
     ]
    }
   ],
   "source": [
    "math_op(10,20)"
   ]
  },
  {
   "cell_type": "code",
   "execution_count": 68,
   "id": "a7bbd1d5",
   "metadata": {},
   "outputs": [
    {
     "name": "stdout",
     "output_type": "stream",
     "text": [
      "Enter first number: 10\n",
      "Enter second number: 20\n",
      "\n",
      "For addition:       +\n",
      "For subtraction:    -\n",
      "For multiplicaton:  *\n",
      "For division:       /\n",
      "For Exit:            X\n",
      "\n",
      "Enter the choice for mathematical operations: +\n",
      "\n",
      "Result:  30\n",
      "Enter first number: 10\n",
      "Enter second number: 20\n",
      "\n",
      "For addition:       +\n",
      "For subtraction:    -\n",
      "For multiplicaton:  *\n",
      "For division:       /\n",
      "For Exit:            X\n",
      "\n",
      "Enter the choice for mathematical operations: \n",
      "\n",
      "Result:  30\n",
      "Enter first number: 10\n",
      "Enter second number: 20\n",
      "\n",
      "For addition:       +\n",
      "For subtraction:    -\n",
      "For multiplicaton:  *\n",
      "For division:       /\n",
      "For Exit:            X\n",
      "\n",
      "Enter the choice for mathematical operations: *\n",
      "\n",
      "Result:  200\n",
      "Enter first number: 10\n",
      "Enter second number: 20\n",
      "\n",
      "For addition:       +\n",
      "For subtraction:    -\n",
      "For multiplicaton:  *\n",
      "For division:       /\n",
      "For Exit:            X\n",
      "\n",
      "Enter the choice for mathematical operations: /\n",
      "\n",
      "Result:  0.5\n",
      "Enter first number: 10\n",
      "Enter second number: 20\n",
      "\n",
      "For addition:       +\n",
      "For subtraction:    -\n",
      "For multiplicaton:  *\n",
      "For division:       /\n",
      "For Exit:            X\n",
      "\n",
      "Enter the choice for mathematical operations: x\n"
     ]
    }
   ],
   "source": [
    "#calculator\n",
    "try:\n",
    "    \n",
    "    while True:\n",
    "        num1 = int(input(\"Enter first number: \"))\n",
    "        num2 = int(input(\"Enter second number: \"))\n",
    "        \n",
    "        print(\"\\nFor addition:       +\")\n",
    "        print(\"For subtraction:    -\")\n",
    "        print(\"For multiplicaton:  *\")\n",
    "        print(\"For division:       /\")\n",
    "        print(\"For Exit:            X\")\n",
    "        \n",
    "        ch = input(\"\\nEnter the choice for mathematical operations: \")\n",
    "        \n",
    "        \n",
    "        if ch == '+':\n",
    "            output = num1 + num2\n",
    "        elif ch == '-':\n",
    "            output = num1 - num2\n",
    "        elif ch == '*':\n",
    "            output = num1 * num2\n",
    "        elif ch == '/':\n",
    "            output = num1 / num2\n",
    "        \n",
    "        if ch == 'X' or ch == 'x':\n",
    "            break\n",
    "            \n",
    "        print(\"\\nResult: \", output)\n",
    "        \n",
    "        \n",
    "            \n",
    "except Exception as e:\n",
    "    print(e)"
   ]
  },
  {
   "cell_type": "code",
   "execution_count": null,
   "id": "d591c1df",
   "metadata": {},
   "outputs": [],
   "source": []
  }
 ],
 "metadata": {
  "kernelspec": {
   "display_name": "Python 3 (ipykernel)",
   "language": "python",
   "name": "python3"
  },
  "language_info": {
   "codemirror_mode": {
    "name": "ipython",
    "version": 3
   },
   "file_extension": ".py",
   "mimetype": "text/x-python",
   "name": "python",
   "nbconvert_exporter": "python",
   "pygments_lexer": "ipython3",
   "version": "3.9.7"
  }
 },
 "nbformat": 4,
 "nbformat_minor": 5
}
