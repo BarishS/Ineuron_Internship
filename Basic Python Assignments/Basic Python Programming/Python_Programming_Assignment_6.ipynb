{
 "cells": [
  {
   "cell_type": "markdown",
   "id": "5bc39425",
   "metadata": {},
   "source": [
    "# 1.Write a Python Program to Display Fibonacci Sequence Using Recursion?\n",
    "\n",
    "Sol:"
   ]
  },
  {
   "cell_type": "code",
   "execution_count": 1,
   "id": "2e83763a",
   "metadata": {},
   "outputs": [],
   "source": [
    "def fibo(a,b,c):\n",
    "    \n",
    "    ''' This function is used to Display Fibonacci Sequence using Recursion method'''\n",
    "    \n",
    "    try:\n",
    "        print(a, end = ' ')\n",
    "        print(b, end = ' ')\n",
    "        while(c-2 > 0):\n",
    "            nt = a + b\n",
    "            print( nt, end = ' ')\n",
    "            a = b\n",
    "            b = nt\n",
    "            \n",
    "            c -= 1\n",
    "            \n",
    "    except Exception as Er:\n",
    "        print(f\" Error found in try log { Er}\")\n"
   ]
  },
  {
   "cell_type": "code",
   "execution_count": 5,
   "id": "3b097752",
   "metadata": {},
   "outputs": [
    {
     "name": "stdout",
     "output_type": "stream",
     "text": [
      "0 1 1 2 3 5 8 13 21 34 "
     ]
    }
   ],
   "source": [
    "fibo(0,1,10)"
   ]
  },
  {
   "cell_type": "markdown",
   "id": "b6b6f666",
   "metadata": {},
   "source": [
    "# 2.Write a Python Program to Find Factorial of Number Using Recursion?\n",
    "\n",
    "Sol:"
   ]
  },
  {
   "cell_type": "code",
   "execution_count": 6,
   "id": "e9f95133",
   "metadata": {},
   "outputs": [],
   "source": [
    "def fact(a):\n",
    "    \n",
    "    ''' This function is used to ind factorial of number using Recursion method'''\n",
    "    \n",
    "    try:\n",
    "        fact = 1 \n",
    "        if a==0:\n",
    "            print(f\" factorial of {a} is 1\")\n",
    "    \n",
    "        else:\n",
    "            for i in range(1,a+1):\n",
    "                fact = fact * i\n",
    "        \n",
    "            print(f\" factorial of {a} is : {fact} \")\n",
    "            \n",
    "    except Exception as Err:\n",
    "        print(f\"Error found in try log {Err}\")\n",
    "    \n",
    "    "
   ]
  },
  {
   "cell_type": "code",
   "execution_count": 8,
   "id": "ae19bdb8",
   "metadata": {},
   "outputs": [
    {
     "name": "stdout",
     "output_type": "stream",
     "text": [
      " factorial of 5 is : 120 \n"
     ]
    }
   ],
   "source": [
    "fact(5)"
   ]
  },
  {
   "cell_type": "markdown",
   "id": "cf670206",
   "metadata": {},
   "source": [
    "# 3.Write a Python Program to calculate your Body Mass Index?\n",
    "\n",
    "Sol:"
   ]
  },
  {
   "cell_type": "code",
   "execution_count": 10,
   "id": "5fc9a67f",
   "metadata": {},
   "outputs": [],
   "source": [
    "def bmi(h,w):  # h = Height, w = Weight\n",
    "    \n",
    "    '''This function is used to calculate Body Mass Index'''\n",
    "    \n",
    "    return w/(h*h)"
   ]
  },
  {
   "cell_type": "code",
   "execution_count": 12,
   "id": "489ae46c",
   "metadata": {},
   "outputs": [
    {
     "data": {
      "text/plain": [
       "21.484374999999996"
      ]
     },
     "execution_count": 12,
     "metadata": {},
     "output_type": "execute_result"
    }
   ],
   "source": [
    "bmi(1.6,55)"
   ]
  },
  {
   "cell_type": "markdown",
   "id": "63119e05",
   "metadata": {},
   "source": [
    "# 4.Write a Python Program to calculate the natural logarithm of any number?\n",
    "\n",
    "Sol:"
   ]
  },
  {
   "cell_type": "code",
   "execution_count": 13,
   "id": "5f5e681b",
   "metadata": {},
   "outputs": [
    {
     "name": "stdout",
     "output_type": "stream",
     "text": [
      "Enter the number: 10\n",
      "2.302585092994046\n"
     ]
    }
   ],
   "source": [
    "import math\n",
    "\n",
    "try:\n",
    "    num = int(input(\"Enter the number: \"))\n",
    "except Exception as e:\n",
    "    print(e)\n",
    "else:\n",
    "    print(math.log(num))"
   ]
  },
  {
   "cell_type": "markdown",
   "id": "d3002a11",
   "metadata": {},
   "source": [
    "# 5.Write a Python Program for cube sum of first n natural numbers?\n",
    "\n",
    "Sol:"
   ]
  },
  {
   "cell_type": "code",
   "execution_count": 14,
   "id": "eed67e95",
   "metadata": {},
   "outputs": [],
   "source": [
    "def nat(a):\n",
    "    \n",
    "    ''' This function is used to calculate cube sum of natural numbers'''\n",
    "    \n",
    "    return sum(range(a+1))**3"
   ]
  },
  {
   "cell_type": "code",
   "execution_count": 15,
   "id": "416d0bf0",
   "metadata": {},
   "outputs": [
    {
     "data": {
      "text/plain": [
       "166375"
      ]
     },
     "execution_count": 15,
     "metadata": {},
     "output_type": "execute_result"
    }
   ],
   "source": [
    "nat(10)"
   ]
  },
  {
   "cell_type": "code",
   "execution_count": 16,
   "id": "0a08eb27",
   "metadata": {},
   "outputs": [
    {
     "data": {
      "text/plain": [
       "216"
      ]
     },
     "execution_count": 16,
     "metadata": {},
     "output_type": "execute_result"
    }
   ],
   "source": [
    "nat(3)"
   ]
  }
 ],
 "metadata": {
  "kernelspec": {
   "display_name": "Python 3 (ipykernel)",
   "language": "python",
   "name": "python3"
  },
  "language_info": {
   "codemirror_mode": {
    "name": "ipython",
    "version": 3
   },
   "file_extension": ".py",
   "mimetype": "text/x-python",
   "name": "python",
   "nbconvert_exporter": "python",
   "pygments_lexer": "ipython3",
   "version": "3.9.7"
  }
 },
 "nbformat": 4,
 "nbformat_minor": 5
}
