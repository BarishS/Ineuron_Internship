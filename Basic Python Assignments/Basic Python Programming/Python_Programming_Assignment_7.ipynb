{
 "cells": [
  {
   "cell_type": "markdown",
   "id": "cc88e44f",
   "metadata": {},
   "source": [
    "# 1.Write a Python Program to find sum of array?"
   ]
  },
  {
   "cell_type": "code",
   "execution_count": 17,
   "id": "b07efc37",
   "metadata": {},
   "outputs": [
    {
     "name": "stdout",
     "output_type": "stream",
     "text": [
      " sum of array :21\n"
     ]
    }
   ],
   "source": [
    "# using inbuilt  sum function\n",
    "\n",
    "l = [1,2,3,4,5,6]\n",
    "print(f\" sum of array :{sum(l)}\")"
   ]
  },
  {
   "cell_type": "code",
   "execution_count": 11,
   "id": "b7dfa170",
   "metadata": {},
   "outputs": [
    {
     "name": "stdout",
     "output_type": "stream",
     "text": [
      "sum of array : 21\n"
     ]
    }
   ],
   "source": [
    "# using for loop\n",
    "\n",
    "array_sum = 0\n",
    "\n",
    "for i in l:\n",
    "    \n",
    "    array_sum = array_sum + i\n",
    "\n",
    "print(f\"sum of array : {array_sum}\")"
   ]
  },
  {
   "cell_type": "markdown",
   "id": "7395db49",
   "metadata": {},
   "source": [
    "# 2.Write a Python Program to find largest element in an array?\n",
    "\n",
    "Sol:"
   ]
  },
  {
   "cell_type": "code",
   "execution_count": 38,
   "id": "59858cb1",
   "metadata": {},
   "outputs": [
    {
     "name": "stdout",
     "output_type": "stream",
     "text": [
      "largest element in an array : 500\n"
     ]
    }
   ],
   "source": [
    "# using inbuilt  max function\n",
    "\n",
    "l =[10,20,-30,500,50,100]\n",
    "print(f\"largest element in an array : {max(l)}\")"
   ]
  },
  {
   "cell_type": "code",
   "execution_count": 39,
   "id": "623cbf67",
   "metadata": {},
   "outputs": [
    {
     "name": "stdout",
     "output_type": "stream",
     "text": [
      "500\n"
     ]
    }
   ],
   "source": [
    "# using for loop\n",
    "\n",
    "array_max = 0\n",
    "\n",
    "for i in  l:\n",
    "    if i > array_max:\n",
    "        \n",
    "        array_max = i\n",
    "        \n",
    "print(array_max)"
   ]
  },
  {
   "cell_type": "markdown",
   "id": "35252338",
   "metadata": {},
   "source": [
    "# 3.Write a Python Program for array rotation?\n",
    "\n",
    "Sol:"
   ]
  },
  {
   "cell_type": "code",
   "execution_count": 40,
   "id": "5406e4f6",
   "metadata": {},
   "outputs": [
    {
     "data": {
      "text/plain": [
       "[100, 50, 500, -30, 20, 10]"
      ]
     },
     "execution_count": 40,
     "metadata": {},
     "output_type": "execute_result"
    }
   ],
   "source": [
    "#using slicing operation\n",
    "\n",
    "l =[10,20,-30,500,50,100]\n",
    "l[::-1]"
   ]
  },
  {
   "cell_type": "code",
   "execution_count": 14,
   "id": "4befd335",
   "metadata": {},
   "outputs": [
    {
     "name": "stdout",
     "output_type": "stream",
     "text": [
      "Array Rotation : [100, 50, 500, -30, 20, 10] \n"
     ]
    }
   ],
   "source": [
    "#using inbuilt reverse function\n",
    "\n",
    "l =[10,20,-30,500,50,100]\n",
    "l.reverse()\n",
    "print(f\"Array Rotation : {l} \")"
   ]
  },
  {
   "cell_type": "code",
   "execution_count": 16,
   "id": "305eec19",
   "metadata": {},
   "outputs": [
    {
     "name": "stdout",
     "output_type": "stream",
     "text": [
      " Array Rotation : [100, 50, 500, -30, 20, 10]\n"
     ]
    }
   ],
   "source": [
    "#using for loop and inbuil revered function\n",
    "\n",
    "l =[10,20,-30,500,50,100]\n",
    "l1 = []\n",
    "for i in reversed(l):\n",
    "    l1.append(i)\n",
    "print(f\" Array Rotation : {l1}\")"
   ]
  },
  {
   "cell_type": "markdown",
   "id": "96730e3e",
   "metadata": {},
   "source": [
    "# 4.Write a Python Program to Split the array and add the first part to the end?\n",
    "\n",
    "Sol:"
   ]
  },
  {
   "cell_type": "code",
   "execution_count": 22,
   "id": "b3797acd",
   "metadata": {},
   "outputs": [],
   "source": [
    "def splitAdd(l, split):\n",
    "    '''\n",
    "    l = list\n",
    "    split = splitIndex\n",
    "    '''\n",
    "    out = []\n",
    "    for i in range(len(l)):\n",
    "        index = (i+len(l)+split)%len(l)\n",
    "        out.append(l[index])\n",
    "        \n",
    "    return out"
   ]
  },
  {
   "cell_type": "code",
   "execution_count": 23,
   "id": "28cdd942",
   "metadata": {},
   "outputs": [
    {
     "data": {
      "text/plain": [
       "[-30, 500, 50, 100, 10, 20]"
      ]
     },
     "execution_count": 23,
     "metadata": {},
     "output_type": "execute_result"
    }
   ],
   "source": [
    "\n",
    "l =[10,20,-30,500,50,100]\n",
    "splitIndex = 2\n",
    "splitAdd(l, splitIndex)"
   ]
  },
  {
   "cell_type": "markdown",
   "id": "d9c06ebb",
   "metadata": {},
   "source": [
    "# 5.Write a Python Program to check if given array is Monotonic?\n",
    "\n",
    "Sol:"
   ]
  },
  {
   "cell_type": "code",
   "execution_count": 33,
   "id": "61d9a6fa",
   "metadata": {},
   "outputs": [],
   "source": [
    "def monotonicCheck(array):\n",
    "    flag = True\n",
    "    \n",
    "    if array[0] >= array[len(array)-1]:\n",
    "        for i in range(len(array)-2):\n",
    "            if array[i] < array[i+1]:\n",
    "                flag = False\n",
    "    else:\n",
    "        for i in range(len(array)-2):\n",
    "            if array[i] > array[i+1]:\n",
    "                flag = False\n",
    "                \n",
    "    return flag"
   ]
  },
  {
   "cell_type": "code",
   "execution_count": 35,
   "id": "57056016",
   "metadata": {},
   "outputs": [
    {
     "data": {
      "text/plain": [
       "False"
      ]
     },
     "execution_count": 35,
     "metadata": {},
     "output_type": "execute_result"
    }
   ],
   "source": [
    "array =[10,20,-30,500,50,100]\n",
    "monotonicCheck(array)"
   ]
  },
  {
   "cell_type": "code",
   "execution_count": 36,
   "id": "d792c68e",
   "metadata": {},
   "outputs": [
    {
     "data": {
      "text/plain": [
       "True"
      ]
     },
     "execution_count": 36,
     "metadata": {},
     "output_type": "execute_result"
    }
   ],
   "source": [
    "array = [1,2,3,56, 124, 369]\n",
    "monotonicCheck(array)"
   ]
  },
  {
   "cell_type": "code",
   "execution_count": 41,
   "id": "9378eb2d",
   "metadata": {},
   "outputs": [
    {
     "data": {
      "text/plain": [
       "True"
      ]
     },
     "execution_count": 41,
     "metadata": {},
     "output_type": "execute_result"
    }
   ],
   "source": [
    "array = [1,2,3,6,7,124, 369]\n",
    "monotonicCheck(array)"
   ]
  },
  {
   "cell_type": "code",
   "execution_count": null,
   "id": "2b8f03cc",
   "metadata": {},
   "outputs": [],
   "source": []
  }
 ],
 "metadata": {
  "kernelspec": {
   "display_name": "Python 3 (ipykernel)",
   "language": "python",
   "name": "python3"
  },
  "language_info": {
   "codemirror_mode": {
    "name": "ipython",
    "version": 3
   },
   "file_extension": ".py",
   "mimetype": "text/x-python",
   "name": "python",
   "nbconvert_exporter": "python",
   "pygments_lexer": "ipython3",
   "version": "3.9.7"
  }
 },
 "nbformat": 4,
 "nbformat_minor": 5
}
