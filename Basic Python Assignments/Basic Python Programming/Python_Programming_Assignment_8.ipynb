{
 "cells": [
  {
   "cell_type": "markdown",
   "id": "5c5ffed7",
   "metadata": {},
   "source": [
    "# 1.Write a Python Program to Add Two Matrices?\n",
    "\n",
    "Sol:"
   ]
  },
  {
   "cell_type": "code",
   "execution_count": 1,
   "id": "03bddcf6",
   "metadata": {},
   "outputs": [],
   "source": [
    "mat1 = [[10,22,30],\n",
    "        [65, -40, -19],\n",
    "        [30,66,99]]\n",
    "\n",
    "mat2 = [[63,95,30],\n",
    "        [12,-51,91],\n",
    "        [2, 0, 1]]"
   ]
  },
  {
   "cell_type": "code",
   "execution_count": 2,
   "id": "837f3096",
   "metadata": {},
   "outputs": [
    {
     "data": {
      "text/plain": [
       "[[73, 117, 60], [77, -91, 72], [32, 66, 100]]"
      ]
     },
     "execution_count": 2,
     "metadata": {},
     "output_type": "execute_result"
    }
   ],
   "source": [
    "result = []\n",
    "\n",
    "for i in range(len(mat1)):\n",
    "    row = []\n",
    "    for j in range(len(mat1)):\n",
    "        row.append(mat1[i][j]+mat2[i][j])\n",
    "        \n",
    "    result.append(row)\n",
    "    \n",
    "result"
   ]
  },
  {
   "cell_type": "markdown",
   "id": "b885cbfe",
   "metadata": {},
   "source": [
    "# 2.Write a Python Program to Multiply Two Matrices?\n",
    "\n",
    "Sol:"
   ]
  },
  {
   "cell_type": "code",
   "execution_count": 19,
   "id": "c9ad03d1",
   "metadata": {},
   "outputs": [
    {
     "name": "stdout",
     "output_type": "stream",
     "text": [
      "[18, 24, 36, 42]\n",
      "[90, 120, 172, 202]\n",
      "[20, 28, 46, 54]\n"
     ]
    }
   ],
   "source": [
    "\n",
    "a =[[1,2,3,4,],\n",
    "    [9,10,11,12],\n",
    "    [1,2,5,6]]\n",
    "   \n",
    "b = [[1,2,3,4,],\n",
    "    [7,8,9,10,11],\n",
    "    [1,2,5,6,8]]\n",
    "     \n",
    "result = [[0, 0, 0, 0],\n",
    "        [0, 0, 0, 0],\n",
    "        [0, 0, 0, 0]]\n",
    "\n",
    "for i in range(len(a)):\n",
    " \n",
    "    for j in range(len(b[0])):\n",
    " \n",
    "        for k in range(len(b)):\n",
    "            result[i][j] += a[i][k] * b[k][j]\n",
    "\n",
    "for r in result:\n",
    "    print(r)"
   ]
  },
  {
   "cell_type": "markdown",
   "id": "10df198f",
   "metadata": {},
   "source": [
    "# 3.Write a Python Program to Transpose a Matrix?\n",
    "\n",
    "Sol:"
   ]
  },
  {
   "cell_type": "code",
   "execution_count": 3,
   "id": "4ad6624f",
   "metadata": {},
   "outputs": [
    {
     "name": "stdout",
     "output_type": "stream",
     "text": [
      "[12, 4, 3]\n",
      "[7, 5, 8]\n"
     ]
    }
   ],
   "source": [
    "X = [[12,7],\n",
    "    [4 ,5],\n",
    "    [3 ,8]]\n",
    "\n",
    "result = [[0,0,0],\n",
    "         [0,0,0]]\n",
    "\n",
    "for i in range(len(X)):\n",
    "    for j in range(len(X[0])):\n",
    "        result[j][i] = X[i][j]\n",
    "\n",
    "for N in result:\n",
    "    print(N)"
   ]
  },
  {
   "cell_type": "markdown",
   "id": "2f57c8c0",
   "metadata": {},
   "source": [
    "# 4.Write a Python Program to Sort Words in Alphabetic Order?\n",
    "\n",
    "Sol:"
   ]
  },
  {
   "cell_type": "code",
   "execution_count": 5,
   "id": "3413e296",
   "metadata": {},
   "outputs": [
    {
     "name": "stdout",
     "output_type": "stream",
     "text": [
      "Enter the words: doing python assignment\n",
      "Sorted order of words:\n",
      "assignment doing python "
     ]
    }
   ],
   "source": [
    "try:\n",
    "    sentance = input(\"Enter the words: \")\n",
    "    words = [word.lower() for word in sentance.split()]\n",
    "    words.sort()\n",
    "    \n",
    "    print(\"Sorted order of words:\")\n",
    "    for word in words:\n",
    "        print(word, end = ' ')\n",
    "    \n",
    "except Exception as e:\n",
    "    print(e)"
   ]
  },
  {
   "cell_type": "markdown",
   "id": "6ed0a284",
   "metadata": {},
   "source": [
    "# 5.Write a Python Program to Remove Punctuation From a String?\n",
    "\n",
    "Sol:"
   ]
  },
  {
   "cell_type": "code",
   "execution_count": 6,
   "id": "33086d12",
   "metadata": {},
   "outputs": [
    {
     "name": "stdout",
     "output_type": "stream",
     "text": [
      "Enter the string: Hii'''i @@@ 3 am \"****///\\\\\\.,.,.&*^%$#@@Barish@#$\n",
      "Hiii  3 am Barish\n"
     ]
    }
   ],
   "source": [
    "punctuations = '''!()-[]{};:'\"\\,<>./?@#$%^&*_~'''\n",
    "\n",
    "string = input(\"Enter the string: \")\n",
    "\n",
    "outputString = \"\"\n",
    "\n",
    "for char in string:\n",
    "    if char not in punctuations:\n",
    "        outputString += char\n",
    "        \n",
    "print(outputString)"
   ]
  },
  {
   "cell_type": "code",
   "execution_count": null,
   "id": "ce01b71f",
   "metadata": {},
   "outputs": [],
   "source": []
  }
 ],
 "metadata": {
  "kernelspec": {
   "display_name": "Python 3 (ipykernel)",
   "language": "python",
   "name": "python3"
  },
  "language_info": {
   "codemirror_mode": {
    "name": "ipython",
    "version": 3
   },
   "file_extension": ".py",
   "mimetype": "text/x-python",
   "name": "python",
   "nbconvert_exporter": "python",
   "pygments_lexer": "ipython3",
   "version": "3.9.7"
  }
 },
 "nbformat": 4,
 "nbformat_minor": 5
}
