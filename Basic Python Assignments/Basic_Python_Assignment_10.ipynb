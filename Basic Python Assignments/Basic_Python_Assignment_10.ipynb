{
 "cells": [
  {
   "cell_type": "markdown",
   "id": "c936bad3",
   "metadata": {},
   "source": [
    "# 1. How do you distinguish between shutil.copy() and shutil.copytree()?\n",
    "\n",
    "Sol:"
   ]
  },
  {
   "cell_type": "markdown",
   "id": "11cc2763",
   "metadata": {},
   "source": [
    "shutil.copy() will copy a single file and shutil.copytree() will copy an entire folder and every folder \n",
    "and file contained in it."
   ]
  },
  {
   "cell_type": "markdown",
   "id": "e8c6c797",
   "metadata": {},
   "source": [
    "---------\n",
    "# 2. What function is used to rename files??\n",
    "\n",
    "Sol:"
   ]
  },
  {
   "cell_type": "markdown",
   "id": "136f2490",
   "metadata": {},
   "source": [
    "os.rename()"
   ]
  },
  {
   "cell_type": "markdown",
   "id": "4ecb058b",
   "metadata": {},
   "source": [
    "-------\n",
    "# 3.  What is the difference between the delete functions in the send2trash and shutil modules?\n",
    "\n",
    "Sol:"
   ]
  },
  {
   "cell_type": "markdown",
   "id": "492bed2c",
   "metadata": {},
   "source": [
    "send2trash function move a file or folder to the recycle bin, while shutil function permanently delete file or \n",
    "folder"
   ]
  },
  {
   "cell_type": "markdown",
   "id": "347ad7ae",
   "metadata": {},
   "source": [
    "------\n",
    "# 4. ZipFile objects have a close() method just like File objects’ close() method. What ZipFile method is equivalent to File objects’ open() method?\n",
    "\n",
    "Sol:"
   ]
  },
  {
   "cell_type": "markdown",
   "id": "78e4146f",
   "metadata": {},
   "source": [
    "ZipFile"
   ]
  },
  {
   "cell_type": "markdown",
   "id": "41b19300",
   "metadata": {},
   "source": [
    "-------\n",
    "# 5. Create a programme that searches a folder tree for files with a certain file extension (such as .pdf or .jpg). Copy these files from whatever location they are in to a new folder.\n",
    "\n",
    "Sol:"
   ]
  },
  {
   "cell_type": "code",
   "execution_count": 3,
   "id": "5232a680",
   "metadata": {},
   "outputs": [
    {
     "name": "stdout",
     "output_type": "stream",
     "text": [
      "Files have been successfully copied from C:\\Python to C:\\Python\\New folder\n"
     ]
    }
   ],
   "source": [
    "def copyFile(src,dst,ext):\n",
    "    try:\n",
    "        import os,shutil\n",
    "        for file in os.listdir(src):\n",
    "            if file.endswith(ext):\n",
    "                shutil.copy(os.path.join(src,file),dst)\n",
    "        print(f'Files have been successfully copied from {src} to {dst}')\n",
    "    \n",
    "    except Exception as e:\n",
    "              print(e)\n",
    "              \n",
    "copyFile(r'C:\\Python', r'C:\\Python\\New folder','.png')"
   ]
  },
  {
   "cell_type": "code",
   "execution_count": null,
   "id": "ee9d8c5f",
   "metadata": {},
   "outputs": [],
   "source": []
  }
 ],
 "metadata": {
  "kernelspec": {
   "display_name": "Python 3 (ipykernel)",
   "language": "python",
   "name": "python3"
  },
  "language_info": {
   "codemirror_mode": {
    "name": "ipython",
    "version": 3
   },
   "file_extension": ".py",
   "mimetype": "text/x-python",
   "name": "python",
   "nbconvert_exporter": "python",
   "pygments_lexer": "ipython3",
   "version": "3.9.7"
  }
 },
 "nbformat": 4,
 "nbformat_minor": 5
}
