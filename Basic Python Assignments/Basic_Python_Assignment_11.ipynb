{
 "cells": [
  {
   "cell_type": "markdown",
   "id": "fb916b26",
   "metadata": {},
   "source": [
    "# 1. Create an assert statement that throws an AssertionError if the variable spam is a negative integer.\n",
    "\n",
    "Sol:"
   ]
  },
  {
   "cell_type": "markdown",
   "id": "69105ecb",
   "metadata": {},
   "source": [
    "assert spam > 0, \"Negative not allowed!\""
   ]
  },
  {
   "cell_type": "markdown",
   "id": "1cb94eda",
   "metadata": {},
   "source": [
    "-------\n",
    "# 2. Write an assert statement that triggers an AssertionError if the variables eggs and bacon contain strings that are the same as each other, even if their cases are different (that is, 'hello' and 'hello' are considered the same, and 'goodbye' and 'GOODbye' are also considered the same).\n",
    "\n",
    "Sol:"
   ]
  },
  {
   "cell_type": "markdown",
   "id": "f6e5ed8a",
   "metadata": {},
   "source": [
    "assert eggs.lower()!=bacon.lower(), \"eggs and bacon shouldn't be same!\""
   ]
  },
  {
   "cell_type": "markdown",
   "id": "6eb0dc34",
   "metadata": {},
   "source": [
    "-----\n",
    "# 3. Create an assert statement that throws an AssertionError every time.\n",
    "\n",
    "Sol:"
   ]
  },
  {
   "cell_type": "markdown",
   "id": "e2f65be4",
   "metadata": {},
   "source": [
    "assert False"
   ]
  },
  {
   "cell_type": "markdown",
   "id": "329c4083",
   "metadata": {},
   "source": [
    "------\n",
    "# 4. What are the two lines that must be present in your software in order to call logging.debug()?\n",
    "\n",
    "Sol:"
   ]
  },
  {
   "cell_type": "markdown",
   "id": "4b275889",
   "metadata": {},
   "source": [
    "import logging\n",
    "\n",
    "logging.basicConfig(fiename, level=logging.DEBUG)"
   ]
  },
  {
   "cell_type": "markdown",
   "id": "10ce02d7",
   "metadata": {},
   "source": [
    "-------\n",
    "# 5. What are the two lines that your program must have in order to have logging.debug() send a logging message to a file named programLog.txt?\n",
    "\n",
    "Sol:"
   ]
  },
  {
   "cell_type": "markdown",
   "id": "758bf48e",
   "metadata": {},
   "source": [
    "import logging\n",
    "\n",
    "logging.basicConfig(fiename, level=logging.DEBUG)"
   ]
  },
  {
   "cell_type": "markdown",
   "id": "25384c22",
   "metadata": {},
   "source": [
    "-----\n",
    "# 6. What are the five levels of logging?\n",
    "\n",
    "Sol:"
   ]
  },
  {
   "cell_type": "markdown",
   "id": "80d846e4",
   "metadata": {},
   "source": [
    "logging.error()\n",
    "\n",
    "logging.warning()\n",
    "\n",
    "logging.info()\n",
    "\n",
    "logging.critical()\n",
    "\n",
    "logging.debug()"
   ]
  },
  {
   "cell_type": "markdown",
   "id": "41d0eddc",
   "metadata": {},
   "source": [
    "-----\n",
    "# 7. What line of code would you add to your software to disable all logging messages?\n",
    "\n",
    "Sol:"
   ]
  },
  {
   "cell_type": "markdown",
   "id": "a053cd91",
   "metadata": {},
   "source": [
    "logging.disable(level)"
   ]
  },
  {
   "cell_type": "markdown",
   "id": "70473b6f",
   "metadata": {},
   "source": [
    "--------\n",
    "# 8. Why is using logging messages better than using print() to display the same message?\n",
    "\n",
    "Sol:"
   ]
  },
  {
   "cell_type": "markdown",
   "id": "bb908b67",
   "metadata": {},
   "source": [
    "It helps to see where and when a logging call is being made from\n",
    "\n",
    "we can differentiate logging based on severity\n",
    "\n",
    "print does not have any of them"
   ]
  },
  {
   "cell_type": "markdown",
   "id": "10fe04a9",
   "metadata": {},
   "source": [
    "-----\n",
    "# 9. What are the differences between the Step Over, Step In, and Step Out buttons in the debugger?\n",
    "\n",
    "Sol:"
   ]
  },
  {
   "cell_type": "markdown",
   "id": "da707a72",
   "metadata": {},
   "source": [
    "Step In will dig into method calls.\n",
    "\n",
    "Step Over will just execute the line and go to the next line.\n",
    "\n",
    "Step Out Steps out of the current method and takes you to the caller method."
   ]
  },
  {
   "cell_type": "markdown",
   "id": "4cbb56c3",
   "metadata": {},
   "source": [
    "------\n",
    "# 10. After you click Continue, when will the debugger stop ?\n",
    "\n",
    "Sol:"
   ]
  },
  {
   "cell_type": "markdown",
   "id": "54517c06",
   "metadata": {},
   "source": [
    "when it has reached the end of a program or a breakpoint"
   ]
  },
  {
   "cell_type": "markdown",
   "id": "13a51960",
   "metadata": {},
   "source": [
    "-------\n",
    "# 11. What is the concept of a breakpoint?\n",
    "\n",
    "Sol:"
   ]
  },
  {
   "cell_type": "markdown",
   "id": "3dd32c58",
   "metadata": {},
   "source": [
    "An intentional stopping point or pause put into program for debugging purpose."
   ]
  },
  {
   "cell_type": "code",
   "execution_count": null,
   "id": "62c03527",
   "metadata": {},
   "outputs": [],
   "source": []
  }
 ],
 "metadata": {
  "kernelspec": {
   "display_name": "Python 3 (ipykernel)",
   "language": "python",
   "name": "python3"
  },
  "language_info": {
   "codemirror_mode": {
    "name": "ipython",
    "version": 3
   },
   "file_extension": ".py",
   "mimetype": "text/x-python",
   "name": "python",
   "nbconvert_exporter": "python",
   "pygments_lexer": "ipython3",
   "version": "3.9.7"
  }
 },
 "nbformat": 4,
 "nbformat_minor": 5
}
