{
 "cells": [
  {
   "cell_type": "markdown",
   "id": "3a8a8d06",
   "metadata": {},
   "source": [
    "# 1. In what modes should the PdfFileReader() and PdfFileWriter() File objects will be opened?\n",
    "\n",
    "Sol:"
   ]
  },
  {
   "cell_type": "markdown",
   "id": "a7cda5ba",
   "metadata": {},
   "source": [
    "PdfFileReader() should be opened in read-binary mode. PdfFileWriter() should be opened in write-binary mode."
   ]
  },
  {
   "cell_type": "markdown",
   "id": "3e6af39a",
   "metadata": {},
   "source": [
    "-------\n",
    "# 2. From a PdfFileReader object, how do you get a Page object for page 5?\n",
    "\n",
    "Sol:"
   ]
  },
  {
   "cell_type": "markdown",
   "id": "f33d287b",
   "metadata": {},
   "source": [
    "PdfFileReader.getPage(5)"
   ]
  },
  {
   "cell_type": "markdown",
   "id": "a9882d2e",
   "metadata": {},
   "source": [
    "----\n",
    "# 3. What PdfFileReader variable stores the number of pages in the PDF document?\n",
    "\n",
    "Sol:"
   ]
  },
  {
   "cell_type": "markdown",
   "id": "fd3c72ac",
   "metadata": {},
   "source": [
    "numPages"
   ]
  },
  {
   "cell_type": "markdown",
   "id": "53db75eb",
   "metadata": {},
   "source": [
    "-----\n",
    "# 4. If a PdfFileReader object’s PDF is encrypted with the password swordfish, what must you do before you can obtain Page objects from it?\n",
    "\n",
    "Sol:"
   ]
  },
  {
   "cell_type": "markdown",
   "id": "7d0ccfcd",
   "metadata": {},
   "source": [
    "obj.decrypt(\"swordfish\")"
   ]
  },
  {
   "cell_type": "markdown",
   "id": "402633cc",
   "metadata": {},
   "source": [
    "----\n",
    "# 5. What methods do you use to rotate a page?\n",
    "\n",
    "Sol:"
   ]
  },
  {
   "cell_type": "markdown",
   "id": "31d9d9e5",
   "metadata": {},
   "source": [
    "rotateClockwise() and rotateCounterClockwise()"
   ]
  },
  {
   "cell_type": "markdown",
   "id": "bcee4e47",
   "metadata": {},
   "source": [
    "-----\n",
    "# 6. What is the difference between a Run object and a Paragraph object?\n",
    "\n",
    "Sol:"
   ]
  },
  {
   "cell_type": "markdown",
   "id": "5bc6a9fd",
   "metadata": {},
   "source": [
    "Paragraps object is needed to get paragraph from a document, runs object is needed whenever text style changes in a paragraph."
   ]
  },
  {
   "cell_type": "markdown",
   "id": "d9e27882",
   "metadata": {},
   "source": [
    "------\n",
    "# 7. How do you obtain a list of Paragraph objects for a Document object that’s stored in a variable named doc?\n",
    "\n",
    "Sol:"
   ]
  },
  {
   "cell_type": "markdown",
   "id": "fb1aa5e2",
   "metadata": {},
   "source": [
    "doc.paragraphs"
   ]
  },
  {
   "cell_type": "markdown",
   "id": "14ff5068",
   "metadata": {},
   "source": [
    "-----\n",
    "# 8. What type of object has bold, underline, italic, strike, and outline variables?\n",
    "\n",
    "Sol:"
   ]
  },
  {
   "cell_type": "markdown",
   "id": "749521c2",
   "metadata": {},
   "source": [
    "runs"
   ]
  },
  {
   "cell_type": "markdown",
   "id": "bf0096c5",
   "metadata": {},
   "source": [
    "------\n",
    "# 9. What is the difference between False, True, and None for the bold variable?\n",
    "\n",
    "Sol:"
   ]
  },
  {
   "cell_type": "markdown",
   "id": "9117c281",
   "metadata": {},
   "source": [
    "True = bold is always enabled no matter what other styles are applied to the run, False = bold is always disabled, None = defaults to whatever the run's style set to"
   ]
  },
  {
   "cell_type": "markdown",
   "id": "e23fb501",
   "metadata": {},
   "source": [
    "-----\n",
    "# 10. How do you create a Document object for a new Word document?\n",
    "\n",
    "Sol:"
   ]
  },
  {
   "cell_type": "markdown",
   "id": "79443c2e",
   "metadata": {},
   "source": [
    "import docx\n",
    "\n",
    "doc=docx.Document(.docx file name)"
   ]
  },
  {
   "cell_type": "markdown",
   "id": "3d3e5a6b",
   "metadata": {},
   "source": [
    "------\n",
    "# 11. How do you add a paragraph with the text 'Hello, there!' to a Document object stored in a variable named doc?\n",
    "\n",
    "Sol:"
   ]
  },
  {
   "cell_type": "markdown",
   "id": "f7c8e6ed",
   "metadata": {},
   "source": [
    "doc.add_paragraph(\"Hello, there!\")"
   ]
  },
  {
   "cell_type": "markdown",
   "id": "80797d07",
   "metadata": {},
   "source": [
    "-----\n",
    "# 12. What integers represent the levels of headings available in Word documents?\n",
    "\n",
    "Sol:"
   ]
  },
  {
   "cell_type": "markdown",
   "id": "e3cd244b",
   "metadata": {},
   "source": [
    "0 to 4"
   ]
  },
  {
   "cell_type": "code",
   "execution_count": null,
   "id": "9b6a5aec",
   "metadata": {},
   "outputs": [],
   "source": []
  }
 ],
 "metadata": {
  "kernelspec": {
   "display_name": "Python 3 (ipykernel)",
   "language": "python",
   "name": "python3"
  },
  "language_info": {
   "codemirror_mode": {
    "name": "ipython",
    "version": 3
   },
   "file_extension": ".py",
   "mimetype": "text/x-python",
   "name": "python",
   "nbconvert_exporter": "python",
   "pygments_lexer": "ipython3",
   "version": "3.9.7"
  }
 },
 "nbformat": 4,
 "nbformat_minor": 5
}
