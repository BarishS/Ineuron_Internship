{
 "cells": [
  {
   "cell_type": "markdown",
   "id": "e580dfa5",
   "metadata": {},
   "source": [
    "# 1. What advantages do Excel spreadsheets have over CSV spreadsheets?\n",
    "\n",
    "### Sol:"
   ]
  },
  {
   "cell_type": "markdown",
   "id": "51e6dbf5",
   "metadata": {},
   "source": [
    "Reading large dataset is much easier in excel compared to csv, Excel provides the option for linking the data from external sources but no such feature available in csv."
   ]
  },
  {
   "cell_type": "markdown",
   "id": "c7753a61",
   "metadata": {},
   "source": [
    "-----\n",
    "# 2. What do you pass to csv.reader() and csv.writer() to create reader and writer objects?\n",
    "\n",
    "### Sol:"
   ]
  },
  {
   "cell_type": "markdown",
   "id": "570fbb6c",
   "metadata": {},
   "source": [
    "file object"
   ]
  },
  {
   "cell_type": "markdown",
   "id": "3955695b",
   "metadata": {},
   "source": [
    "------\n",
    "# 3. What modes do File objects for reader and writer objects need to be opened in?\n",
    "\n",
    "### Sol:"
   ]
  },
  {
   "cell_type": "markdown",
   "id": "a5892d5c",
   "metadata": {},
   "source": [
    "'r'(read mode) for reader objects and 'w'(write mode) for writer objects"
   ]
  },
  {
   "cell_type": "markdown",
   "id": "abf4ea50",
   "metadata": {},
   "source": [
    "-----\n",
    "# 4. What method takes a list argument and writes it to a CSV file?\n",
    "\n",
    "### Sol:"
   ]
  },
  {
   "cell_type": "markdown",
   "id": "baf00d9f",
   "metadata": {},
   "source": [
    "writerow() method of csv.writer()"
   ]
  },
  {
   "cell_type": "markdown",
   "id": "9a8ec605",
   "metadata": {},
   "source": [
    "-----\n",
    "# 5. What do the keyword arguments delimiter and line terminator do?\n",
    "\n",
    "### Sol:"
   ]
  },
  {
   "cell_type": "markdown",
   "id": "dbd179ab",
   "metadata": {},
   "source": [
    "delimiter sets the character between cells on a row. line terminator sets the character that comes at the end of a row."
   ]
  },
  {
   "cell_type": "markdown",
   "id": "8b92ef73",
   "metadata": {},
   "source": [
    "----\n",
    "# 6. What function takes a string of JSON data and returns a Python data structure?\n",
    "\n",
    "### Sol:"
   ]
  },
  {
   "cell_type": "markdown",
   "id": "2d00a731",
   "metadata": {},
   "source": [
    "json.loads()"
   ]
  },
  {
   "cell_type": "markdown",
   "id": "bec9a3d0",
   "metadata": {},
   "source": [
    "-----\n",
    "# 7. What function takes a Python data structure and returns a string of JSON data?\n",
    "\n",
    "### Sol:"
   ]
  },
  {
   "cell_type": "markdown",
   "id": "0579e530",
   "metadata": {},
   "source": [
    "json.dumps()"
   ]
  },
  {
   "cell_type": "code",
   "execution_count": null,
   "id": "197d48e1",
   "metadata": {},
   "outputs": [],
   "source": []
  }
 ],
 "metadata": {
  "kernelspec": {
   "display_name": "Python 3 (ipykernel)",
   "language": "python",
   "name": "python3"
  },
  "language_info": {
   "codemirror_mode": {
    "name": "ipython",
    "version": 3
   },
   "file_extension": ".py",
   "mimetype": "text/x-python",
   "name": "python",
   "nbconvert_exporter": "python",
   "pygments_lexer": "ipython3",
   "version": "3.9.7"
  }
 },
 "nbformat": 4,
 "nbformat_minor": 5
}
