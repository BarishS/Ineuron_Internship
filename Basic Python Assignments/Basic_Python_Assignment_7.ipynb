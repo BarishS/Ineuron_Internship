{
 "cells": [
  {
   "cell_type": "markdown",
   "id": "e4211b08",
   "metadata": {},
   "source": [
    "# 1. What is the name of the feature responsible for generating Regex objects?"
   ]
  },
  {
   "cell_type": "markdown",
   "id": "9895beb9",
   "metadata": {},
   "source": [
    "The re.compile() function returns Regex objects."
   ]
  },
  {
   "cell_type": "markdown",
   "id": "27d17aca",
   "metadata": {},
   "source": [
    "# 2. Why do raw strings often appear in Regex objects?"
   ]
  },
  {
   "cell_type": "markdown",
   "id": "77469775",
   "metadata": {},
   "source": [
    "Raw strings are used so that backslashes do not have to be escaped."
   ]
  },
  {
   "cell_type": "markdown",
   "id": "e8dc28fa",
   "metadata": {},
   "source": [
    "# 3. What is the return value of search() method?"
   ]
  },
  {
   "cell_type": "markdown",
   "id": "bce0e08a",
   "metadata": {},
   "source": [
    "The search() method returns match objects."
   ]
  },
  {
   "cell_type": "markdown",
   "id": "e5520ddc",
   "metadata": {},
   "source": [
    "# 4. From match item, how do you get the actual strings that match the pattern?"
   ]
  },
  {
   "cell_type": "markdown",
   "id": "6f8528f8",
   "metadata": {},
   "source": [
    "The group() method returns strings of the matched text."
   ]
  },
  {
   "cell_type": "markdown",
   "id": "2891e0a2",
   "metadata": {},
   "source": [
    "# 5. In the Regex which created from the r'(\\d\\d\\d)-(\\d\\d\\d-\\d\\d\\d\\d)', what does group zero cover? Group 2? Group 1?"
   ]
  },
  {
   "cell_type": "markdown",
   "id": "13da5990",
   "metadata": {},
   "source": [
    "Group Zero is the entry match, group 1 covres the first set of parentheses, and group 2 covers the second set of parentheses."
   ]
  },
  {
   "cell_type": "markdown",
   "id": "3f50b8b0",
   "metadata": {},
   "source": [
    "# 6. In standard expression syntax, parentheses and intervals have distinct meanings. How can you tell a regex tha you want it to fit real parantheses and periods?"
   ]
  },
  {
   "cell_type": "markdown",
   "id": "392cb754",
   "metadata": {},
   "source": [
    "Periods and parentheses can be escaped with a backslash: \\. , |( , and \\)."
   ]
  },
  {
   "cell_type": "markdown",
   "id": "3cb0675a",
   "metadata": {},
   "source": [
    "# 7. The findall() method returns astring list of string tuples. What causes it to return one of the two options?"
   ]
  },
  {
   "cell_type": "markdown",
   "id": "c1c0a3d2",
   "metadata": {},
   "source": [
    "In the regex has no groups, a list of strings is returned. If regex has groups, a tuple of the strings is returned."
   ]
  },
  {
   "cell_type": "markdown",
   "id": "ec0c142f",
   "metadata": {},
   "source": [
    "# 8. In standard expressions, what does the | character mean ?"
   ]
  },
  {
   "cell_type": "markdown",
   "id": "0bd2b957",
   "metadata": {},
   "source": [
    "The | character signifies matching \"either, or\" between two groups."
   ]
  },
  {
   "cell_type": "markdown",
   "id": "85b392ee",
   "metadata": {},
   "source": [
    "# 9. In regular expressions, waht does the character stand for ?"
   ]
  },
  {
   "cell_type": "markdown",
   "id": "86cd9218",
   "metadata": {},
   "source": [
    "The ? character can either mean \"match zero or one of the preceding group\" or used to signify nogreedy matching."
   ]
  },
  {
   "cell_type": "markdown",
   "id": "6c3876cf",
   "metadata": {},
   "source": [
    "# 10. In regular expressions, what is the difference between the + and * characters?"
   ]
  },
  {
   "cell_type": "markdown",
   "id": "44378b31",
   "metadata": {},
   "source": [
    "The + matches one or more.\n",
    "The * matches zero or more."
   ]
  },
  {
   "cell_type": "markdown",
   "id": "97f2a303",
   "metadata": {},
   "source": [
    "# 11. what is the difference between {4} and {4,5} in regular expression?"
   ]
  },
  {
   "cell_type": "markdown",
   "id": "8828d376",
   "metadata": {},
   "source": [
    "The {3} matches exactly 3 instances of the preceding group. The {3,5} matches between 3 and 5 instances."
   ]
  },
  {
   "cell_type": "markdown",
   "id": "90e281c2",
   "metadata": {},
   "source": [
    "# 12. What do you mean by the \\D,\\W, and \\S shorthand character classes signify in regular expressions?"
   ]
  },
  {
   "cell_type": "markdown",
   "id": "749b98b8",
   "metadata": {},
   "source": [
    "The \\d, \\w, and \\s shorthand character classes match a single digit,word, or space charcter, respectively."
   ]
  },
  {
   "cell_type": "markdown",
   "id": "614ac072",
   "metadata": {},
   "source": [
    "# 13. What do you mean by the \\D,\\W, and \\S shorthand character classes signify in regular expressions?"
   ]
  },
  {
   "cell_type": "markdown",
   "id": "4863b5cf",
   "metadata": {},
   "source": [
    "The \\D, \\W, and \\S shorthand character classes single character that is not a digit,word, or space character, respectively."
   ]
  },
  {
   "cell_type": "markdown",
   "id": "ebbb232a",
   "metadata": {},
   "source": [
    "# 14. What is differnce between .*? and .*?"
   ]
  },
  {
   "cell_type": "markdown",
   "id": "cf4c3927",
   "metadata": {},
   "source": [
    "Passing re.I or re.IGNORCASE as the second argument to re.compile() will make the matching case insensitive."
   ]
  },
  {
   "cell_type": "markdown",
   "id": "c5018108",
   "metadata": {},
   "source": [
    "# 15. What is the syntax for making both numbers and lowercase letters with a character class?"
   ]
  },
  {
   "cell_type": "markdown",
   "id": "e766d334",
   "metadata": {},
   "source": [
    "The . character normally matches any character except the newline charcter. If re.DOTALL is passed as the secound argument to re.complie(),then the dot will also match newline character."
   ]
  },
  {
   "cell_type": "markdown",
   "id": "a02e199e",
   "metadata": {},
   "source": [
    "# 16. What is the procedure of making normal expression in regax case insensitive. ?"
   ]
  },
  {
   "cell_type": "markdown",
   "id": "356ab693",
   "metadata": {},
   "source": [
    "The .*performs a greedy match, and the .*? performs anongreedy match."
   ]
  },
  {
   "cell_type": "markdown",
   "id": "7f07f950",
   "metadata": {},
   "source": [
    "# 17. What does the . character normally match? What does it match if re.DOTALL is passed as 2nd argument in re.complule() ?"
   ]
  },
  {
   "cell_type": "markdown",
   "id": "14b76fce",
   "metadata": {},
   "source": [
    "Either[0-9a-z] or[a-z0-9]"
   ]
  },
  {
   "cell_type": "markdown",
   "id": "cbf3ed8d",
   "metadata": {},
   "source": [
    "# 18. If numReg = re.compile(r'\\d+'), what will numRegex.sub('x','11 drummers,10 pipers, five rings,4 hen')return?"
   ]
  },
  {
   "cell_type": "markdown",
   "id": "c37c32fe",
   "metadata": {},
   "source": [
    "'X drummers, X pipers, five rings, X hens'"
   ]
  },
  {
   "cell_type": "markdown",
   "id": "2c50e81e",
   "metadata": {},
   "source": [
    "# 19. What does passing re.VERBOSE as the 2nd argument to re.compile() allow to do?"
   ]
  },
  {
   "cell_type": "markdown",
   "id": "fdeb3706",
   "metadata": {},
   "source": [
    "The re.VERBOSE argument allows you to add whitespace and comments to the string passed to re.compile()."
   ]
  },
  {
   "cell_type": "markdown",
   "id": "e138bc9d",
   "metadata": {},
   "source": [
    "# 20. How would you write a regex that match a number with comma for every three digits? It must match the given Following.?\n",
    "'42'\n",
    "'1,234'\n",
    "'6,368,745'\n",
    "but not the following:\n",
    "'12,34,567'(which has only two digits between the commas)\n",
    "'1234'('which lacks commas)"
   ]
  },
  {
   "cell_type": "markdown",
   "id": "fe7a8baf",
   "metadata": {},
   "source": [
    "re.complier(r'^\\d{d{1,3}(,\\d{3})*$') will create this regex,but other regex strings can produce a similar regular expression."
   ]
  },
  {
   "cell_type": "markdown",
   "id": "6c79ef92",
   "metadata": {},
   "source": [
    "# 21. How would you write a regex that matches the full name of someone                   whose last name is Watanabe? \n",
    "You can assume that the first name that comes before it will always be one word that begins with a capital letter. \n",
    "The regex must match the following: \n",
    "\n",
    "'Haruto Watanabe' \n",
    "\n",
    "'Alice Watanabe' \n",
    "\n",
    "'RoboCop Watanabe' \n",
    "\n",
    "but not the following: \n",
    "\n",
    "'haruto Watanabe' (where the first name is not capitalized) \n",
    "\n",
    "'Mr. Watanabe' (where the preceding word has a nonletter character) \n",
    "\n",
    "'Watanabe' (which has no first name) \n",
    "\n",
    "'Haruto watanabe' (where Watanabe is not capitalized) "
   ]
  },
  {
   "cell_type": "code",
   "execution_count": null,
   "id": "a305a7c6",
   "metadata": {},
   "outputs": [],
   "source": [
    "re.compile(r'[A-Z][a-z]*\\sNakamoto')"
   ]
  },
  {
   "cell_type": "markdown",
   "id": "6a3099e5",
   "metadata": {},
   "source": [
    "# 22. How would you write a regex that matches a sentence where the first word          is either Alice, Bob, or Carol; the second word is either eats, pets, or                   throws; the third word is apples, cats, or baseballs; and the sentence ends         with  a period? This regex should be case-insensitive. It must match the             following: \n",
    "\n",
    "'Alice eats apples.' \n",
    "\n",
    "'Bob pets cats.' \n",
    "\n",
    "'Carol throws baseballs.' \n",
    "\n",
    "'Alice throws Apples.' \n",
    "\n",
    "'BOB EATS CATS.' \n",
    "\n",
    "but not the following: \n",
    "\n",
    "'RoboCop eats apples.' \n",
    "\n",
    "'ALICE THROWS FOOTBALLS.' \n",
    "\n",
    "'Carol eats 7 cats.' "
   ]
  },
  {
   "cell_type": "code",
   "execution_count": null,
   "id": "edc803c6",
   "metadata": {},
   "outputs": [],
   "source": [
    "re.compile(r'(Alice|Bob|Carol)\\s(eats|pets|throws)\\s(apples|cats|baseballs)\\.', re.IGNORECASE)"
   ]
  }
 ],
 "metadata": {
  "kernelspec": {
   "display_name": "Python 3 (ipykernel)",
   "language": "python",
   "name": "python3"
  },
  "language_info": {
   "codemirror_mode": {
    "name": "ipython",
    "version": 3
   },
   "file_extension": ".py",
   "mimetype": "text/x-python",
   "name": "python",
   "nbconvert_exporter": "python",
   "pygments_lexer": "ipython3",
   "version": "3.9.7"
  }
 },
 "nbformat": 4,
 "nbformat_minor": 5
}
