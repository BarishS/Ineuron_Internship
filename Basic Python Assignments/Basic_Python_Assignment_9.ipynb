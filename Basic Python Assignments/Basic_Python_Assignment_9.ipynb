{
 "cells": [
  {
   "cell_type": "markdown",
   "id": "5c9b2bbd",
   "metadata": {},
   "source": [
    "# 1. To what does a relative path refers? \n",
    "\n",
    "Sol:"
   ]
  },
  {
   "cell_type": "code",
   "execution_count": null,
   "id": "b6eb437e",
   "metadata": {},
   "outputs": [],
   "source": [
    "Relative paths are relative to the current working directory. When using relative path, we need to provide the absolute/complete\n",
    "path of file from the robot directory,instead we can give the partial/relative path to indicate the file location."
   ]
  },
  {
   "cell_type": "markdown",
   "id": "505acc4a",
   "metadata": {},
   "source": [
    "-----------\n",
    "# 2. What does an absolute path start with your operating system?\n",
    "\n",
    "Sol:"
   ]
  },
  {
   "cell_type": "code",
   "execution_count": null,
   "id": "5964d920",
   "metadata": {},
   "outputs": [],
   "source": [
    "I am using Windows Operating system with Single Hard drive, so my absolute path starts with\n",
    "\n",
    "C:\\"
   ]
  },
  {
   "cell_type": "markdown",
   "id": "998395f6",
   "metadata": {},
   "source": [
    "-----------\n",
    "# 3. What do the functions os.getcwd() and os.chdir() do ?\n",
    "\n",
    "Sol:"
   ]
  },
  {
   "cell_type": "markdown",
   "id": "66a95f2e",
   "metadata": {},
   "source": [
    "* os.getcwd() returns you the current working directory path\n",
    "* os.chdir() is used to change the current working directory while running the program"
   ]
  },
  {
   "cell_type": "markdown",
   "id": "3fee4584",
   "metadata": {},
   "source": [
    "-----------\n",
    "# 4. What are the . and .. folders?\n",
    "\n",
    "Sol:"
   ]
  },
  {
   "cell_type": "markdown",
   "id": "ac2e6b4c",
   "metadata": {},
   "source": [
    "* . Single dot means the current folder\n",
    "* .. Double dot means the parent folder"
   ]
  },
  {
   "cell_type": "markdown",
   "id": "6a2323be",
   "metadata": {},
   "source": [
    "-----------\n",
    "# 5 . In C:\\bacon\\eggs\\spam.txt, which part is the dir name, and which part is the base name? \n",
    "\n",
    "Sol:"
   ]
  },
  {
   "cell_type": "markdown",
   "id": "4913ee71",
   "metadata": {},
   "source": [
    "* C:\\bacon\\eggs is the dir name\n",
    "* spam.txt is the base name"
   ]
  },
  {
   "cell_type": "markdown",
   "id": "18210216",
   "metadata": {},
   "source": [
    "-----------\n",
    "# 6. What are the three “mode” arguments that can be passed to the open() function?\n",
    "\n",
    "Sol:"
   ]
  },
  {
   "cell_type": "markdown",
   "id": "16f5e231",
   "metadata": {},
   "source": [
    "The three mode arguments that can be passed to the open() function are:\n",
    "\n",
    "* 'r' for read mode\n",
    "* 'w' for write mode\n",
    "* 'a' for append mode"
   ]
  },
  {
   "cell_type": "markdown",
   "id": "df2a9205",
   "metadata": {},
   "source": [
    "-----------\n",
    "# 7 . What happens if an existing file is opened in write mode?\n",
    "\n",
    "Sol:"
   ]
  },
  {
   "cell_type": "markdown",
   "id": "5ef8471c",
   "metadata": {},
   "source": [
    "* If an existing file is opened in write mode, then all the existing content from the file is erased and the new content will be added.\n",
    "* This might result in loss of data if you wanted to have both existing and new data to existing in the file"
   ]
  },
  {
   "cell_type": "markdown",
   "id": "ebb155a2",
   "metadata": {},
   "source": [
    "-----------\n",
    "# 8. How do you tell the difference between read() and readlines()?\n",
    "\n",
    "Sol:"
   ]
  },
  {
   "cell_type": "markdown",
   "id": "e9fa29fb",
   "metadata": {},
   "source": [
    "* The read() method returns the file’s entire contents as a single string value.\n",
    "* The readlines() method returns a list of strings, where each string is a line from the file’s contents"
   ]
  },
  {
   "cell_type": "markdown",
   "id": "3c8fa9e8",
   "metadata": {},
   "source": [
    "-----------\n",
    "# 9. What data structure does a shelf value resemble?\n",
    "\n",
    "Sol:"
   ]
  },
  {
   "cell_type": "markdown",
   "id": "86fa1480",
   "metadata": {},
   "source": [
    "A shelf value resembles a dictionary value; it has keys and values, along with keys() and values() methods that work similarly to the dictionary methods of the same names."
   ]
  },
  {
   "cell_type": "markdown",
   "id": "8154d96b",
   "metadata": {},
   "source": [
    "# "
   ]
  }
 ],
 "metadata": {
  "kernelspec": {
   "display_name": "Python 3 (ipykernel)",
   "language": "python",
   "name": "python3"
  },
  "language_info": {
   "codemirror_mode": {
    "name": "ipython",
    "version": 3
   },
   "file_extension": ".py",
   "mimetype": "text/x-python",
   "name": "python",
   "nbconvert_exporter": "python",
   "pygments_lexer": "ipython3",
   "version": "3.9.7"
  }
 },
 "nbformat": 4,
 "nbformat_minor": 5
}
